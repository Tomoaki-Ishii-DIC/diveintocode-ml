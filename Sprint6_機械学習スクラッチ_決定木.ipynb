{
 "cells": [
  {
   "cell_type": "markdown",
   "metadata": {},
   "source": [
    "## 決定木スクラッチ"
   ]
  },
  {
   "cell_type": "code",
   "execution_count": 1,
   "metadata": {},
   "outputs": [],
   "source": [
    "import matplotlib.pyplot as plt\n",
    "import pandas as pd"
   ]
  },
  {
   "cell_type": "code",
   "execution_count": 2,
   "metadata": {},
   "outputs": [],
   "source": [
    "import numpy as np"
   ]
  },
  {
   "cell_type": "markdown",
   "metadata": {},
   "source": [
    "### 完成したコード"
   ]
  },
  {
   "cell_type": "code",
   "execution_count": 3,
   "metadata": {},
   "outputs": [],
   "source": [
    "class ScratchDecesionTreeClassifierDepth1():\n",
    "    \"\"\"\n",
    "    深さ1の決定木分類器のスクラッチ実装\n",
    "\n",
    "    Parameters\n",
    "    ----------\n",
    "    verbose : bool\n",
    "      学習過程を出力する場合はTrue\n",
    "      \n",
    "    Attributes\n",
    "    ----------\n",
    "    self.left_label_  \n",
    "    　　左ノードのラベル\n",
    "    self.right_label_  \n",
    "    　　右ノードのラベル\n",
    "    self.threshold_ \n",
    "    　　しきい値\n",
    "    self.root_gini_\n",
    "    　　ルートのジニ不純率\n",
    "    self.root_0_\n",
    "    　　ルートのラベル０の数\n",
    "    self.root_1_\n",
    "    　　ルートのラベル１の数\n",
    "    \"\"\"\n",
    "    def __init__(self, verbose=False):\n",
    "        # ハイパーパラメータを属性として記録\n",
    "        self.verbose = verbose\n",
    "        \n",
    "        \n",
    "    def fit(self, X, y):\n",
    "        \"\"\"\n",
    "        決定木分類器を学習する\n",
    "        Parameters\n",
    "        ----------\n",
    "        X : 次の形のndarray, shape (n_samples, n_features)\n",
    "            訓練データの特徴量\n",
    "        y : 次の形のndarray, shape (n_samples, )\n",
    "            訓練データの正解値\n",
    "        \"\"\"\n",
    "        if self.verbose:\n",
    "            #verboseをTrueにした際は学習過程を出力\n",
    "            print()\n",
    "        \n",
    "        #　【親ノード】\n",
    "        # 情報利得が最大になる分割（各ラベルのインデックス）\n",
    "        root_index_0 = np.where(y == 0)[0]\n",
    "        root_index_1 = np.where(y == 1)[0]\n",
    "        \n",
    "        \n",
    "        # 情報利得が最大になる分割（各ラベルのサンプル数）\n",
    "        root_0 = root_index_0.shape[0]\n",
    "        root_1 = root_index_1.shape[0]\n",
    "        \n",
    "        # ジニ不純度\n",
    "        root_Nt = np.array([root_0, root_1])\n",
    "        root_gini = self.gini_impurity(root_Nt)\n",
    "        \n",
    "        # クラス変数として格納\n",
    "        self.root_gini_ = root_gini\n",
    "        self.root_0_ = root_0\n",
    "        self.root_1_ = root_1\n",
    "        \n",
    "        \n",
    "        #　　【子ノード】\n",
    "        # 情報利得が最大になる分割（各ラベルのインデックス）\n",
    "        \n",
    "        # 特徴量を選択する　X[:, 0] or X[:, 1] \n",
    "        #left_index, right_index, threshold = self.split_sample(X[:, 0], y)\n",
    "        left_index, right_index, threshold = self.split_sample(X[:, 1], y)\n",
    "        \n",
    "        print(\"左右のインデックス数\")\n",
    "        print(\"左に分類：{}\".format(left_index.shape))\n",
    "        print(\"右に分類：{}\".format(right_index.shape))\n",
    "        \n",
    "        # 情報利得が最大になる分割（各ラベルのサンプル数）\n",
    "        left_0 = np.count_nonzero(y[left_index] == 0)\n",
    "        left_1 = np.count_nonzero(y[left_index] == 1)\n",
    "        right_0 = np.count_nonzero(y[right_index] == 0)\n",
    "        right_1 = np.count_nonzero(y[right_index] == 1)\n",
    "        \n",
    "        print(\"選んだ数\")\n",
    "        print(\"左のラベル０：{}\".format(left_0))\n",
    "        print(\"左のラベル１：{}\".format(left_1))\n",
    "        print(\"右のラベル０：{}\".format(right_0))\n",
    "        print(\"右のラベル１：{}\".format(right_1))\n",
    "        \n",
    "    \n",
    "        # ジニ不純度\n",
    "        left_Nt = np.array([left_0, left_1])\n",
    "        left_gini = self.gini_impurity(left_Nt)\n",
    "        \n",
    "        right_Nt = np.array([right_0, right_1])\n",
    "        right_gini = self.gini_impurity(right_Nt)\n",
    "        \n",
    "        \n",
    "        # 情報利得\n",
    "        ig = self.information_gain(root_0, root_1, left_0, left_1, right_0, right_1)\n",
    "        print(\"情報利得：{}\".format(ig))\n",
    "        \n",
    "        \n",
    "        # 閾値をクラス変数として保管\n",
    "        self.threshold_ = threshold\n",
    "        print(\"しきい値：{}\".format(self.threshold_))\n",
    "        \n",
    "        \n",
    "        #　　葉ノードのラベルを決定\n",
    "        \n",
    "        # ジニ不純度０はどちらかが０\n",
    "        if left_gini == 0:\n",
    "            if left_0 is not 0:\n",
    "                left_label = 0 \n",
    "            else:\n",
    "                left_label = 1\n",
    "        # ジニ不純度が０ではないとき多数決\n",
    "        elif left_0 >= left_1:\n",
    "            left_label = 0\n",
    "        else:\n",
    "            left_label = 1\n",
    "            \n",
    "        # ジニ不純度０はどちらかが０\n",
    "        if right_gini == 0:\n",
    "            if right_0 is not 0:\n",
    "                right_label = 0 \n",
    "            else:\n",
    "                right_label = 1\n",
    "        # ジニ不純度が０ではないとき多数決\n",
    "        elif right_0 >= right_1:\n",
    "            right_label = 0\n",
    "        else:\n",
    "            right_label = 1\n",
    "            \n",
    "            \n",
    "        # 推定用のノードラベルをクラス変数として保管\n",
    "        self.left_label_ = left_label\n",
    "        print(\"左ノードのラベル：{}\".format(self.left_label_))\n",
    "            \n",
    "        # 推定用のノードラベルをクラス変数として保管\n",
    "        self.right_label_ = right_label\n",
    "        print(\"右ノードのラベル：{}\".format(self.right_label_))         \n",
    "        \n",
    "        \n",
    "    \n",
    "    def split_sample(self, X, y):\n",
    "        \"\"\"\n",
    "        決定木分類器を学習する\n",
    "        Parameters\n",
    "        ----------\n",
    "        X : 次の形のndarray, shape (n_samples, n_features)\n",
    "            訓練データの特徴量\n",
    "        y : 次の形のndarray, shape (n_samples, )\n",
    "            訓練データの正解値\n",
    "        \"\"\"\n",
    "        X=X.reshape(-1,1)\n",
    "        \n",
    "        # サンプル数\n",
    "        t_all = X.shape[0]\n",
    "        \n",
    "        # 各しきい値のジニ不純度保管用\n",
    "        info_gain_ndarray = np.zeros(t_all)\n",
    "        \n",
    "        # 各特徴量の値自体をしきい値にしてジニ不純度を計算\n",
    "        for i in range(t_all):\n",
    "            # 閾値より高いインデックス を返す\n",
    "            excess_index = np.where(X[:,0] > X[i,0])[0]\n",
    "            below_index = np.where(X[:,0] <= X[i,0])[0]\n",
    "            \n",
    "            # 分割後の各ラベルのサンプル数\n",
    "            exceed_0 = np.count_nonzero(y[excess_index] == 0)\n",
    "            exceed_1 = np.count_nonzero(y[excess_index] == 1)\n",
    "            \n",
    "            below_0 = np.count_nonzero(y[below_index] == 0)\n",
    "            below_1 = np.count_nonzero(y[below_index] == 1)\n",
    "            \n",
    "            # ジニ不純度（分割の基準にするため）\n",
    "            exceed_Nt = np.array([exceed_0, exceed_1])\n",
    "            exceed_gini = self.gini_impurity(exceed_Nt)\n",
    "            below_Nt = np.array([below_0, below_1])\n",
    "            below_gini = self.gini_impurity(below_Nt)\n",
    "            \n",
    "            # 情報利得（分割の基準にするため）\n",
    "            info_gain = self.information_gain(self.root_0_, self.root_1_, exceed_0, exceed_1, below_0, below_1)\n",
    "            info_gain_ndarray[i] = info_gain\n",
    "        \n",
    "        # 最大情報利得\n",
    "        best_gain = np.nanmax(info_gain_ndarray)\n",
    "        \n",
    "        # 情報利得が最大になる閾値を保管（argmaxだとnanが最大）\n",
    "        threshold = X[np.nanargmax(info_gain_ndarray), 0]\n",
    "        print(\"情報利得リスト：\\n{}\".format(info_gain_ndarray))\n",
    "        print(\"情報利得 最大値：{}\".format(best_gain))\n",
    "        \n",
    "        # 情報利得が最大の時のインデックスを取得\n",
    "        best_index_l = np.where(X[:,0] > threshold)[0]\n",
    "        best_index_r = np.where(X[:,0] <= threshold)[0]\n",
    "        \n",
    "        # 情報利得は返さず、別途計算\n",
    "        return best_index_l, best_index_r, threshold\n",
    "\n",
    "        \n",
    "    def gini_impurity(self, Nt):\n",
    "        \"\"\"\n",
    "        ジニ不純度\n",
    "        \"\"\"\n",
    "        #ラベル数（Xの要素数で置き換えて算出）\n",
    "        K = Nt.shape[0]\n",
    "        \n",
    "        # トータルサンプル数\n",
    "        Nt_all = np.sum(Nt)\n",
    "        \n",
    "        # ジニ不純度\n",
    "        #i_t = 1 - ((nt_0/nt_all)**2 + (nt_1/nt_all)**2)\n",
    "        sigma = 0\n",
    "        for k in range(K):\n",
    "            sigma += (Nt[k]/Nt_all)**2\n",
    "        i_t = 1 - sigma\n",
    "        \n",
    "        return i_t\n",
    "\n",
    "    \n",
    "    def information_gain(self, root_0, root_1, left_0, left_1, right_0, right_1):\n",
    "        \"\"\"\n",
    "        情報利得\n",
    "        Parameters\n",
    "        ----------\n",
    "        X : 次の形のndarray, shape (n_samples, n_features)\n",
    "            訓練データの特徴量\n",
    "        y : 次の形のndarray, shape (n_samples, )\n",
    "            訓練データの正解値\n",
    "        \"\"\"\n",
    "        sample = root_0 + root_1\n",
    "        \n",
    "        # ジニ不純度\n",
    "        root_gini = self.gini_impurity(np.array([root_0, root_1]))\n",
    "        left_gini = self.gini_impurity(np.array([left_0, left_1]))\n",
    "        right_gini = self.gini_impurity(np.array([right_0, right_1]))\n",
    "        \n",
    "        # 情報利得\n",
    "        information_gain = root_gini - (((left_0 + left_1)/sample )*left_gini ) - (((right_0 + right_1)/sample)*right_gini)\n",
    "        \n",
    "        return information_gain\n",
    "        \n",
    "    \n",
    "    def predict(self, X):\n",
    "        \"\"\"\n",
    "        決定木分類器を使いラベルを推定する\n",
    "        \"\"\"\n",
    "        # サンプル数\n",
    "        s_t = X.shape[0]\n",
    "        \n",
    "        # ラベル用の配列\n",
    "        pred = np.zeros(s_t)\n",
    "        \n",
    "        for i in range(s_t):\n",
    "            # 特徴量を選択する　X[:, 0] or X[:, 1] \n",
    "            #if X[i, 0] > self.threshold_:\n",
    "            if X[i, 1] > self.threshold_:\n",
    "                predict = self.left_label_\n",
    "            else:\n",
    "                predict = self.right_label_  \n",
    "            pred[i] = predict\n",
    "        \n",
    "        return pred\n",
    "    "
   ]
  },
  {
   "cell_type": "markdown",
   "metadata": {},
   "source": [
    "## 【問題1】不純度を求める関数  \n",
    "\n",
    ">ノード の ジニ不純度 を計算する関数を作成してください。ノード $t$ に対するジニ不純度 $I(t)$ は以下の数式で求まります。クラスが混じり合っているほどジニ不純度は高くなります。\n",
    ">\n",
    ">$\n",
    "I(t) = 1-\\sum_{i=1}^{K}P^2(C_i|t) = 1-\\sum_{i=1}^{K}(\\frac{N_{t,i}}{N_{t,all}})^{2}\n",
    "$\n",
    ">\n",
    ">$t$ : ノードのインデックス  \n",
    ">$i$ : クラスのインデックス  \n",
    ">$K$ : クラスの数  \n",
    ">$C_i$ : i番目のクラス  \n",
    ">$P(C_i|t)$ :　t番目のノードにおける$C_i$の割合  \n",
    ">$N_{t,i}$ : t番目のノードのi番目のクラスに属するサンプル数  \n",
    ">$N_{t,all}$ : t番目のノードのサンプルの総数  \n",
    ">\n",
    ">まずは簡単な例を作り、手計算と関数の結果を比較してください。  \n",
    ">\n",
    ">《例》  \n",
    ">クラス1:サンプル数15, クラス2:サンプル数15 → ジニ不純度0.500  \n",
    ">クラス1:サンプル数15, クラス2:サンプル数15, クラス3:サンプル数15 → ジニ不純度  0.667\n",
    ">クラス1:サンプル数18, クラス2:サンプル数12 → ジニ不純度0.480  \n",
    ">クラス1:サンプル数30, クラス2:サンプル数0 → ジニ不純度0.000  \n"
   ]
  },
  {
   "cell_type": "code",
   "execution_count": 4,
   "metadata": {},
   "outputs": [],
   "source": [
    "# インスタンス化 \n",
    "tree_q1 = ScratchDecesionTreeClassifierDepth1()"
   ]
  },
  {
   "cell_type": "code",
   "execution_count": 5,
   "metadata": {},
   "outputs": [
    {
     "name": "stdout",
     "output_type": "stream",
     "text": [
      "0.5\n",
      "0.6666666666666667\n",
      "0.48\n",
      "0.0\n"
     ]
    }
   ],
   "source": [
    "# サンプル数\n",
    "#クラス1:サンプル数15,\n",
    "#クラス2:サンプル数15\n",
    "#→ ジニ不純度0.500\n",
    "c1_sample = 15\n",
    "c2_sample = 15\n",
    "\n",
    "Nt = np.array([c1_sample, c2_sample])\n",
    "\n",
    "ig_1= tree_q1.gini_impurity(Nt)\n",
    "\n",
    "\n",
    "# サンプル数\n",
    "#クラス1:サンプル数15,\n",
    "#クラス2:サンプル数15\n",
    "#クラス3:サンプル数15\n",
    "#→ ジニ不純度0.667\n",
    "c1_sample = 15\n",
    "c2_sample = 15\n",
    "c3_sample = 15\n",
    "\n",
    "Nt = np.array([c1_sample, c2_sample, c3_sample])\n",
    "\n",
    "ig_2= tree_q1.gini_impurity(Nt)\n",
    "\n",
    "\n",
    "# サンプル数\n",
    "#クラス1:サンプル数15,\n",
    "#クラス2:サンプル数15\n",
    "#→ ジニ不純度0.480\n",
    "c1_sample = 18\n",
    "c2_sample = 12\n",
    "\n",
    "Nt = np.array([c1_sample, c2_sample])\n",
    "\n",
    "ig_3= tree_q1.gini_impurity(Nt)\n",
    "\n",
    "# サンプル数\n",
    "#クラス1:サンプル数15,\n",
    "#クラス2:サンプル数15\n",
    "#→ ジニ不純度0.000\n",
    "c1_sample = 30\n",
    "c2_sample = 0\n",
    "\n",
    "Nt = np.array([c1_sample, c2_sample])\n",
    "\n",
    "ig_4= tree_q1.gini_impurity(Nt)\n",
    "\n",
    "print(ig_1)\n",
    "print(ig_2)\n",
    "print(ig_3)\n",
    "print(ig_4)"
   ]
  },
  {
   "cell_type": "markdown",
   "metadata": {},
   "source": [
    "## 【問題2】情報利得を求める関数  \n",
    ">次に、ノード間の 情報利得 を計算する関数を作成してください。  \n",
    ">問題1で作成したジニ不純度 I(t) を計算する関数を呼び出して使います。  \n",
    ">情報利得IGは以下の数式で求まります。うまく分けられている時ほど情報利得は大きくなります。\n",
    ">\n",
    ">ここで分岐は2つのみであるため、分岐先を「左側のノード・右側のノード」と呼びます。"
   ]
  },
  {
   "cell_type": "code",
   "execution_count": 6,
   "metadata": {},
   "outputs": [
    {
     "name": "stdout",
     "output_type": "stream",
     "text": [
      "0.14319526627218937\n"
     ]
    }
   ],
   "source": [
    "#左ノードクラス1:サンプル数10, \n",
    "#左ノードクラス2:サンプル数30, \n",
    "#右ノードクラス1:サンプル数20, \n",
    "#右ノードクラス2:サンプル数5\n",
    "#→ 情報利得0.143\n",
    "\n",
    "p= np.array([30, 35])\n",
    "c1= np.array([10, 30])\n",
    "c2= np.array([20, 5])\n",
    "\n",
    "i_g = tree_q1.information_gain(p[0], p[1], c1[0], c1[1], c2[0], c2[1])\n",
    "print(i_g)"
   ]
  },
  {
   "cell_type": "markdown",
   "metadata": {},
   "source": [
    "## 【問題3】学習  \n",
    ">空間の分割を行い、決定木のグラフを生成するコードを作成してください。今は深さ1の決定木なので、分割を1回だけ行います。ここでグラフを生成するとは、1回の分割の際の条件としてどの特徴量がいくつ以上の時とするかを求めるということです。\n",
    ">\n",
    ">訓練データに対して全ての組み合わせの分割を行い、その中でノード間の情報利得が最大となる分割をそのノードの分割基準として記録します。\n",
    ">\n",
    ">クラスが混ざらない不純度が0のノード、または指定された深さのノードが 葉ノード となります。葉ノードにはクラスを記録しておき、これを推定時に分類するクラスとします。クラスが混ざらない場合はそのままのクラスを記録し、混ざっている場合は多数決により決めます。\n",
    ">\n",
    ">《組み合わせの取り方》\n",
    ">\n",
    ">全ての組み合わせの取り方は、最も単純には各特徴量の値自体をしきい値にして分割を行う方法があります。片側の端は今回のスクラッチはこの方法で行なってください。\n",
    ">他には中間の値をしきい値にする方法もあり、scikit-learnではこの方法が用いられています。\n",
    ">\n",
    ">《補足》\n",
    ">\n",
    ">問題2の情報利得を計算する関数はこの問題3で利用する上では、親ノードの不純度 I(p)\n",
    " は固定されるため、左右のノードの不純度の合計を計算するだけでも同じ結果が得られることになります。しかし、ここでは親ノードを考慮した情報利得を計算する実装を行なってください。"
   ]
  },
  {
   "cell_type": "code",
   "execution_count": 7,
   "metadata": {},
   "outputs": [],
   "source": [
    "from sklearn.model_selection import train_test_split"
   ]
  },
  {
   "cell_type": "code",
   "execution_count": 8,
   "metadata": {},
   "outputs": [],
   "source": [
    "# scikit-learn から　iris データセットを読み込む\n",
    "from sklearn.datasets import load_iris\n",
    "\n",
    "# iris データセットを変数に格納する\n",
    "data = load_iris()\n",
    "\n",
    "# 行と列のインデックス用のリストを用意\n",
    "iris_data_columns=['sepal_length', 'sepal_width','petal_length','petal_width']\n",
    "iris_target_columns=['Species',]\n",
    "\n",
    "# pandas のデータフレームにする\n",
    "X_data = pd.DataFrame(data=data['data'], columns=iris_data_columns)\n",
    "y_data = pd.DataFrame(data=data['target'], columns=iris_target_columns)\n",
    "\n",
    "# Xとyを列方向に結合\n",
    "df = pd.concat([X_data, y_data], axis=1)\n",
    "\n",
    "# 条件に従って抜き出し\n",
    "df_ex = df[df['Species'] >=1]\n",
    "\n",
    "# 処理用\n",
    "#X_iris = np.array(df_ex[['sepal_length', 'sepal_width', 'petal_length', 'petal_width']])\n",
    "#y_iris = np.array(df_ex['Species']) - 1#　0,1にしたいので\n",
    "\n",
    "X_iris = np.array(df_ex[['petal_length', 'petal_width']])\n",
    "y_iris = np.array(df_ex['Species']) - 1#　0,1にしたいので\n"
   ]
  },
  {
   "cell_type": "code",
   "execution_count": 9,
   "metadata": {},
   "outputs": [
    {
     "data": {
      "text/plain": [
       "<matplotlib.legend.Legend at 0x7fd8f7f45e90>"
      ]
     },
     "execution_count": 9,
     "metadata": {},
     "output_type": "execute_result"
    },
    {
     "data": {
      "image/png": "[encoded data removed]",
      "text/plain": [
       "<Figure size 432x288 with 1 Axes>"
      ]
     },
     "metadata": {
      "needs_background": "light"
     },
     "output_type": "display_data"
    }
   ],
   "source": [
    "plt.xlabel('petal_length')\n",
    "plt.ylabel('petal_width')\n",
    "plt.scatter(X_iris[y_iris == 0, 0], X_iris[y_iris == 0, 1], label=\"Virgicolor\")\n",
    "plt.scatter(X_iris[y_iris == 1, 0], X_iris[y_iris == 1, 1], label=\"Virginica\")\n",
    "plt.legend()"
   ]
  },
  {
   "cell_type": "code",
   "execution_count": 10,
   "metadata": {},
   "outputs": [],
   "source": [
    "# 学習データとテストデータを７５：２５で分割\n",
    "X_train_iris, X_test_iris, y_train_iris, y_test_iris = train_test_split(X_iris, y_iris, test_size=0.2, random_state=0)\n"
   ]
  },
  {
   "cell_type": "code",
   "execution_count": 11,
   "metadata": {},
   "outputs": [
    {
     "name": "stdout",
     "output_type": "stream",
     "text": [
      "情報利得リスト：\n",
      "[0.04054054 0.09701493 0.21428571 0.13492063 0.09701493 0.05555556\n",
      " 0.36215539 0.25471698 0.07971014 0.25471698 0.13492063 0.20175439\n",
      " 0.01948052 0.03333333 0.20175439 0.36489899 0.34052533 0.36489899\n",
      " 0.13492063 0.09701493 0.34052533 0.20175439 0.09701493 0.26133333\n",
      " 0.34052533 0.26133333 0.04054054 0.09701493 0.21428571 0.21428571\n",
      " 0.03333333        nan 0.26133333 0.34052533 0.34052533        nan\n",
      " 0.34052533 0.36215539 0.09701493 0.09701493 0.04054054 0.04054054\n",
      " 0.25471698 0.25471698 0.36215539 0.03333333 0.09701493 0.26133333\n",
      " 0.21428571 0.09701493 0.05555556 0.04054054 0.21428571 0.13492063\n",
      " 0.03333333 0.34052533 0.25471698        nan 0.13492063 0.25471698\n",
      " 0.26133333 0.21428571 0.13492063 0.21428571 0.21428571 0.03333333\n",
      " 0.25471698 0.04054054 0.25471698 0.03333333 0.25471698 0.34052533\n",
      " 0.21428571 0.34052533 0.26133333 0.20175439 0.07971014 0.01948052\n",
      " 0.21428571 0.21428571]\n",
      "情報利得 最大値：0.36489898989898983\n",
      "左右のインデックス数\n",
      "左に分類：(36,)\n",
      "右に分類：(44,)\n",
      "選んだ数\n",
      "左のラベル０：1\n",
      "左のラベル１：35\n",
      "右のラベル０：39\n",
      "右のラベル１：5\n",
      "情報利得：0.36489898989898983\n",
      "しきい値：1.7\n",
      "左ノードのラベル：1\n",
      "右ノードのラベル：0\n"
     ]
    },
    {
     "name": "stderr",
     "output_type": "stream",
     "text": [
      "/Users/ishiitomoaki/.pyenv/versions/anaconda3-2020.02/lib/python3.7/site-packages/ipykernel_launcher.py:214: RuntimeWarning: invalid value encountered in long_scalars\n"
     ]
    }
   ],
   "source": [
    "# インスタンス化 \n",
    "tree_iris = ScratchDecesionTreeClassifierDepth1()\n",
    "tree_iris.fit(X_train_iris, y_train_iris)"
   ]
  },
  {
   "cell_type": "markdown",
   "metadata": {},
   "source": [
    "## 【問題4】推定  \n",
    ">推定する仕組みを実装してください。ScratchDecesionTreeClassifierDepth1クラスの雛形に含まれるpredictメソッドに書き加えてください。\n",
    ">\n",
    ">入力されたデータの値を学習した条件で判定していき、どの葉ノードに到達するかを見ます。葉ノードにはクラスが記録されているので、これが推定値となります。\n",
    "\n"
   ]
  },
  {
   "cell_type": "markdown",
   "metadata": {},
   "source": [
    "【考え方】  \n",
    "同じ関数にテストデータを入れるとテストデータで閾値を学習してしまうため、閾値を固定した状態で同じロジックのプログラムを作成。"
   ]
  },
  {
   "cell_type": "code",
   "execution_count": 12,
   "metadata": {},
   "outputs": [
    {
     "name": "stdout",
     "output_type": "stream",
     "text": [
      "自作関数による予測値\n",
      "[0. 1. 0. 1. 1. 1. 0. 1. 1. 1. 1. 1. 1. 0. 0. 0. 0. 0. 0. 0.]\n"
     ]
    }
   ],
   "source": [
    "y_pred_iris = tree_iris.predict(X_test_iris)\n",
    "print(\"自作関数による予測値\\n{}\".format(y_pred_iris))"
   ]
  },
  {
   "cell_type": "code",
   "execution_count": 13,
   "metadata": {},
   "outputs": [],
   "source": [
    "from sklearn.tree import DecisionTreeClassifier"
   ]
  },
  {
   "cell_type": "code",
   "execution_count": 14,
   "metadata": {},
   "outputs": [
    {
     "name": "stdout",
     "output_type": "stream",
     "text": [
      "scikt-learnによる予測値\n",
      "[1 1 1 1 1 1 0 1 1 1 1 1 1 0 0 0 1 0 1 0]\n"
     ]
    }
   ],
   "source": [
    "# scikt-learnによる分類と予測\n",
    "tree_iris_sk = DecisionTreeClassifier(max_depth=1)\n",
    "tree_iris_sk.fit(X_train_iris, y_train_iris)\n",
    "y_pred_iris_sk = tree_iris_sk.predict(X_test_iris)\n",
    "print(\"scikt-learnによる予測値\\n{}\".format(y_pred_iris_sk))"
   ]
  },
  {
   "cell_type": "markdown",
   "metadata": {},
   "source": [
    "## 【問題5】学習と推定  \n",
    "\n",
    ">機械学習スクラッチ入門のSprintで用意したシンプルデータセット2の2値分類に対してスクラッチ実装の学習と推定を行なってください。\n",
    ">\n",
    ">scikit-learnによる実装と比べ、正しく動いているかを確認してください。\n",
    ">\n",
    ">AccuracyやPrecision、Recallなどの指標値はscikit-learnを使用してください。\n",
    "\n"
   ]
  },
  {
   "cell_type": "code",
   "execution_count": 15,
   "metadata": {},
   "outputs": [],
   "source": [
    "X = np.array([[-0.44699 , -2.8073  ],[-1.4621  , -2.4586  ],\n",
    "       [ 0.10645 ,  1.9242  ],[-3.5944  , -4.0112  ],\n",
    "       [-0.9888  ,  4.5718  ],[-3.1625  , -3.9606  ],\n",
    "       [ 0.56421 ,  0.72888 ],[-0.60216 ,  8.4636  ],\n",
    "       [-0.61251 , -0.75345 ],[-0.73535 , -2.2718  ],\n",
    "       [-0.80647 , -2.2135  ],[ 0.86291 ,  2.3946  ],\n",
    "       [-3.1108  ,  0.15394 ],[-2.9362  ,  2.5462  ],\n",
    "       [-0.57242 , -2.9915  ],[ 1.4771  ,  3.4896  ],\n",
    "       [ 0.58619 ,  0.37158 ],[ 0.6017  ,  4.3439  ],\n",
    "       [-2.1086  ,  8.3428  ],[-4.1013  , -4.353   ],\n",
    "       [-1.9948  , -1.3927  ],[ 0.35084 , -0.031994],\n",
    "       [ 0.96765 ,  7.8929  ],[-1.281   , 15.6824  ],\n",
    "       [ 0.96765 , 10.083   ],[ 1.3763  ,  1.3347  ],\n",
    "       [-2.234   , -2.5323  ],[-2.9452  , -1.8219  ],\n",
    "       [ 0.14654 , -0.28733 ],[ 0.5461  ,  5.8245  ],\n",
    "       [-0.65259 ,  9.3444  ],[ 0.59912 ,  5.3524  ],\n",
    "       [ 0.50214 , -0.31818 ],[-3.0603  , -3.6461  ],\n",
    "       [-6.6797  ,  0.67661 ],[-2.353   , -0.72261 ],\n",
    "       [ 1.1319  ,  2.4023  ],[-0.12243 ,  9.0162  ],\n",
    "       [-2.5677  , 13.1779  ],[ 0.057313,  5.4681  ]])\n",
    "y = np.array([0, 0, 0, 0, 0, 0, 0, 0, 0, 0, 0, 0, 0, 0, 0, 0, 0, 0, 0, 0, 1, 1,\n",
    "       1, 1, 1, 1, 1, 1, 1, 1, 1, 1, 1, 1, 1, 1, 1, 1, 1, 1])\n",
    "\n",
    "\n",
    "# 処理用\n",
    "X_ds2 = X\n",
    "y_ds2 = y"
   ]
  },
  {
   "cell_type": "code",
   "execution_count": 16,
   "metadata": {},
   "outputs": [
    {
     "data": {
      "text/plain": [
       "<matplotlib.legend.Legend at 0x7fd8f830e9d0>"
      ]
     },
     "execution_count": 16,
     "metadata": {},
     "output_type": "execute_result"
    },
    {
     "data": {
      "image/png": "[encoded data removed]",
      "text/plain": [
       "<Figure size 432x288 with 1 Axes>"
      ]
     },
     "metadata": {
      "needs_background": "light"
     },
     "output_type": "display_data"
    }
   ],
   "source": [
    "plt.xlabel('Feature 1')\n",
    "plt.ylabel('Feature 2')\n",
    "plt.scatter(X_ds2[y_ds2 == 0, 0], X_ds2[y_ds2 == 0, 1], label=\"X1\")\n",
    "plt.scatter(X_ds2[y_ds2 == 1, 0], X_ds2[y_ds2 == 1, 1], label=\"X2\")\n",
    "plt.legend()"
   ]
  },
  {
   "cell_type": "code",
   "execution_count": 17,
   "metadata": {},
   "outputs": [
    {
     "name": "stdout",
     "output_type": "stream",
     "text": [
      "X_trainの形は：(32, 2)\n",
      "y_trainの形は：(32,)\n",
      "X_testの形は：(8, 2)\n",
      "y_testの形は：(8,)\n"
     ]
    }
   ],
   "source": [
    "# 学習データとテストデータを７５：２５で分割\n",
    "X_train_ds2, X_test_ds2, y_train_ds2, y_test_ds2 = train_test_split(X_ds2, y_ds2, test_size=0.2, random_state=0)\n",
    "\n",
    "print(\"X_trainの形は：{}\".format(X_train_ds2.shape))\n",
    "print(\"y_trainの形は：{}\".format(y_train_ds2.shape))\n",
    "print(\"X_testの形は：{}\".format(X_test_ds2.shape))\n",
    "print(\"y_testの形は：{}\".format(y_test_ds2.shape))"
   ]
  },
  {
   "cell_type": "code",
   "execution_count": 18,
   "metadata": {},
   "outputs": [
    {
     "name": "stdout",
     "output_type": "stream",
     "text": [
      "情報利得リスト：\n",
      "[0.05128205 0.02571429 0.03636364 0.03333333 0.07142857 0.05060729\n",
      " 0.04166667 0.05172414 0.01764706 0.03125    0.03333333 0.05411255\n",
      " 0.05411255 0.05172414 0.08181818 0.03333333 0.01785714 0.09259259\n",
      " 0.01821862 0.04166667 0.02571429 0.01764706 0.06038647 0.03333333\n",
      " 0.03174603        nan 0.00793651 0.01612903 0.06038647 0.01612903\n",
      " 0.03333333 0.05128205]\n",
      "情報利得 最大値：0.0925925925925925\n",
      "左右のインデックス数\n",
      "左に分類：(5,)\n",
      "右に分類：(27,)\n",
      "選んだ数\n",
      "左のラベル０：0\n",
      "左のラベル１：5\n",
      "右のラベル０：16\n",
      "右のラベル１：11\n",
      "情報利得：0.0925925925925925\n",
      "しきい値：8.4636\n",
      "左ノードのラベル：1\n",
      "右ノードのラベル：0\n"
     ]
    },
    {
     "name": "stderr",
     "output_type": "stream",
     "text": [
      "/Users/ishiitomoaki/.pyenv/versions/anaconda3-2020.02/lib/python3.7/site-packages/ipykernel_launcher.py:214: RuntimeWarning: invalid value encountered in long_scalars\n"
     ]
    }
   ],
   "source": [
    "# インスタンス化 \n",
    "tree = ScratchDecesionTreeClassifierDepth1()\n",
    "tree.fit(X_train_ds2, y_train_ds2)"
   ]
  },
  {
   "cell_type": "code",
   "execution_count": 19,
   "metadata": {},
   "outputs": [
    {
     "name": "stdout",
     "output_type": "stream",
     "text": [
      "自作関数による予測値\n",
      "[0. 0. 0. 0. 0. 0. 0. 0.]\n"
     ]
    }
   ],
   "source": [
    "y_pred_ds2 = tree.predict(X_test_ds2)\n",
    "print(\"自作関数による予測値\\n{}\".format(y_pred_ds2))"
   ]
  },
  {
   "cell_type": "code",
   "execution_count": 20,
   "metadata": {},
   "outputs": [],
   "source": [
    "from sklearn.metrics import accuracy_score\n",
    "from sklearn.metrics import precision_score\n",
    "from sklearn.metrics import recall_score\n",
    "from sklearn.metrics import f1_score\n",
    "import pandas as pd"
   ]
  },
  {
   "cell_type": "code",
   "execution_count": 21,
   "metadata": {},
   "outputs": [
    {
     "name": "stdout",
     "output_type": "stream",
     "text": [
      "自作関数の精度\n",
      "['My_DecisionTree', 0.5, 0.0, 0.0, 0.0]\n"
     ]
    },
    {
     "name": "stderr",
     "output_type": "stream",
     "text": [
      "/Users/ishiitomoaki/.pyenv/versions/anaconda3-2020.02/lib/python3.7/site-packages/sklearn/metrics/_classification.py:1272: UndefinedMetricWarning: Precision is ill-defined and being set to 0.0 due to no predicted samples. Use `zero_division` parameter to control this behavior.\n",
      "  _warn_prf(average, modifier, msg_start, len(result))\n"
     ]
    }
   ],
   "source": [
    "# 精度をまとめるための空のリストを用意\n",
    "verification_tree = ['My_DecisionTree']\n",
    "\n",
    "#Accuracy（正解率）\n",
    "verification_tree.append(accuracy_score(y_test_ds2, y_pred_ds2))\n",
    "\n",
    "#Precision（適合率）\n",
    "verification_tree.append(precision_score(y_test_ds2, y_pred_ds2))\n",
    "\n",
    "#Recall（再現率）\n",
    "verification_tree.append(recall_score(y_test_ds2, y_pred_ds2))\n",
    "\n",
    "#F値\n",
    "verification_tree.append(f1_score(y_test_ds2, y_pred_ds2))\n",
    "\n",
    "print(\"自作関数の精度\\n{}\".format(verification_tree))"
   ]
  },
  {
   "cell_type": "markdown",
   "metadata": {},
   "source": [
    "### scikit-learnによる分類"
   ]
  },
  {
   "cell_type": "code",
   "execution_count": 22,
   "metadata": {},
   "outputs": [
    {
     "name": "stdout",
     "output_type": "stream",
     "text": [
      "scikt-learnによる予測値\n",
      "[0 0 0 0 0 0 0 0]\n"
     ]
    }
   ],
   "source": [
    "#決定木\n",
    "\n",
    "tree_sk = DecisionTreeClassifier(max_depth=1)\n",
    "tree_sk.fit(X_train_ds2, y_train_ds2)\n",
    "y_pred_sk = tree_sk.predict(X_test_ds2)\n",
    "print(\"scikt-learnによる予測値\\n{}\".format(y_pred_sk))"
   ]
  },
  {
   "cell_type": "code",
   "execution_count": 23,
   "metadata": {},
   "outputs": [
    {
     "name": "stdout",
     "output_type": "stream",
     "text": [
      "sickt-learnの精度\n",
      "['sickt-learn_DecisionTree', 0.5, 0.0, 0.0, 0.0]\n"
     ]
    },
    {
     "name": "stderr",
     "output_type": "stream",
     "text": [
      "/Users/ishiitomoaki/.pyenv/versions/anaconda3-2020.02/lib/python3.7/site-packages/sklearn/metrics/_classification.py:1272: UndefinedMetricWarning: Precision is ill-defined and being set to 0.0 due to no predicted samples. Use `zero_division` parameter to control this behavior.\n",
      "  _warn_prf(average, modifier, msg_start, len(result))\n"
     ]
    }
   ],
   "source": [
    "verification_tree_sk = ['sickt-learn_DecisionTree']\n",
    "\n",
    "#Accuracy（正解率）\n",
    "verification_tree_sk.append(accuracy_score(y_test_ds2, y_pred_sk))\n",
    "\n",
    "#Precision（適合率）\n",
    "verification_tree_sk.append(precision_score(y_test_ds2, y_pred_sk))\n",
    "\n",
    "#Recall（再現率）\n",
    "verification_tree_sk.append(recall_score(y_test_ds2, y_pred_sk))\n",
    "\n",
    "#F値\n",
    "verification_tree_sk.append(f1_score(y_test_ds2, y_pred_sk))\n",
    "\n",
    "print(\"sickt-learnの精度\\n{}\".format(verification_tree_sk))"
   ]
  },
  {
   "cell_type": "code",
   "execution_count": 24,
   "metadata": {},
   "outputs": [
    {
     "data": {
      "text/html": [
       "<div>\n",
       "<style scoped>\n",
       "    .dataframe tbody tr th:only-of-type {\n",
       "        vertical-align: middle;\n",
       "    }\n",
       "\n",
       "    .dataframe tbody tr th {\n",
       "        vertical-align: top;\n",
       "    }\n",
       "\n",
       "    .dataframe thead th {\n",
       "        text-align: right;\n",
       "    }\n",
       "</style>\n",
       "<table border=\"1\" class=\"dataframe\">\n",
       "  <thead>\n",
       "    <tr style=\"text-align: right;\">\n",
       "      <th></th>\n",
       "      <th>Model</th>\n",
       "      <th>Accuracy（正解率）</th>\n",
       "      <th>Precision（適合率）</th>\n",
       "      <th>Recall（再現率）</th>\n",
       "      <th>F値</th>\n",
       "    </tr>\n",
       "  </thead>\n",
       "  <tbody>\n",
       "    <tr>\n",
       "      <th>0</th>\n",
       "      <td>My_DecisionTree</td>\n",
       "      <td>0.5</td>\n",
       "      <td>0.0</td>\n",
       "      <td>0.0</td>\n",
       "      <td>0.0</td>\n",
       "    </tr>\n",
       "    <tr>\n",
       "      <th>1</th>\n",
       "      <td>sickt-learn_DecisionTree</td>\n",
       "      <td>0.5</td>\n",
       "      <td>0.0</td>\n",
       "      <td>0.0</td>\n",
       "      <td>0.0</td>\n",
       "    </tr>\n",
       "  </tbody>\n",
       "</table>\n",
       "</div>"
      ],
      "text/plain": [
       "                      Model  Accuracy（正解率）  Precision（適合率）  Recall（再現率）   F値\n",
       "0           My_DecisionTree            0.5             0.0          0.0  0.0\n",
       "1  sickt-learn_DecisionTree            0.5             0.0          0.0  0.0"
      ]
     },
     "metadata": {},
     "output_type": "display_data"
    }
   ],
   "source": [
    "# 表を作成するために計算結果を２次元配列にする\n",
    "verification_result = [\n",
    "            verification_tree, \n",
    "            verification_tree_sk, \n",
    "        ]\n",
    "\n",
    "# 行と列のインデックスようのリストを用意\n",
    "data_columns=['Model', 'Accuracy（正解率）', 'Precision（適合率）', 'Recall（再現率）', 'F値' ]\n",
    "\n",
    "# pandas のデータフレームにする\n",
    "df_verification = pd.DataFrame(data=verification_result, columns=data_columns)\n",
    "\n",
    "display(df_verification)"
   ]
  },
  {
   "cell_type": "markdown",
   "metadata": {},
   "source": [
    "## 【問題6】決定領域の可視化  \n",
    ">決定領域を可視化してください。"
   ]
  },
  {
   "cell_type": "code",
   "execution_count": 25,
   "metadata": {},
   "outputs": [
    {
     "data": {
      "text/plain": [
       "<matplotlib.legend.Legend at 0x7fd8f83661d0>"
      ]
     },
     "execution_count": 25,
     "metadata": {},
     "output_type": "execute_result"
    },
    {
     "data": {
      "image/png": "[encoded data removed]",
      "text/plain": [
       "<Figure size 432x288 with 1 Axes>"
      ]
     },
     "metadata": {
      "needs_background": "light"
     },
     "output_type": "display_data"
    }
   ],
   "source": [
    "plt.xlabel('Feature 1')\n",
    "plt.ylabel('Feature 2')\n",
    "plt.scatter(X_ds2[y_ds2 == 0, 0], X_ds2[y_ds2 == 0, 1], label=\"X1\")\n",
    "plt.scatter(X_ds2[y_ds2 == 1, 0], X_ds2[y_ds2 == 1, 1], label=\"X2\")\n",
    "# 水平か垂直かは特徴量によって選択する\n",
    "#plt.axvline(tree.threshold_, ls = \"--\", color = \"magenta\")\n",
    "plt.axhline(tree.threshold_, ls = \"--\", color = \"navy\")\n",
    "plt.legend()"
   ]
  },
  {
   "cell_type": "markdown",
   "metadata": {},
   "source": [
    "以上"
   ]
  }
 ],
 "metadata": {
  "kernelspec": {
   "display_name": "Python 3",
   "language": "python",
   "name": "python3"
  },
  "language_info": {
   "codemirror_mode": {
    "name": "ipython",
    "version": 3
   },
   "file_extension": ".py",
   "mimetype": "text/x-python",
   "name": "python",
   "nbconvert_exporter": "python",
   "pygments_lexer": "ipython3",
   "version": "3.7.6"
  }
 },
 "nbformat": 4,
 "nbformat_minor": 4
}
