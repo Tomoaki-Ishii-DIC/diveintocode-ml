{
 "cells": [
  {
   "cell_type": "markdown",
   "metadata": {},
   "source": [
    "## ニューラルネットワーク"
   ]
  },
  {
   "cell_type": "markdown",
   "metadata": {},
   "source": [
    "## MNISTデータセット  "
   ]
  },
  {
   "cell_type": "code",
   "execution_count": 1,
   "metadata": {},
   "outputs": [],
   "source": [
    "import tensorflow as tf\n",
    "import keras\n",
    "\n",
    "import matplotlib.pyplot as plt\n",
    "import pandas as pd\n",
    "import numpy as np"
   ]
  },
  {
   "cell_type": "code",
   "execution_count": 2,
   "metadata": {},
   "outputs": [],
   "source": [
    "from keras.datasets import mnist\n",
    "(X_train, y_train), (X_test, y_test) = mnist.load_data()"
   ]
  },
  {
   "cell_type": "code",
   "execution_count": 3,
   "metadata": {},
   "outputs": [
    {
     "name": "stdout",
     "output_type": "stream",
     "text": [
      "(60000, 28, 28)\n",
      "(10000, 28, 28)\n",
      "uint8\n",
      "[[  0   0   0   0   0   0   0   0   0   0   0   0   0   0   0   0   0   0\n",
      "    0   0   0   0   0   0   0   0   0   0]\n",
      " [  0   0   0   0   0   0   0   0   0   0   0   0   0   0   0   0   0   0\n",
      "    0   0   0   0   0   0   0   0   0   0]\n",
      " [  0   0   0   0   0   0   0   0   0   0   0   0   0   0   0   0   0   0\n",
      "    0   0   0   0   0   0   0   0   0   0]\n",
      " [  0   0   0   0   0   0   0   0   0   0   0   0   0   0   0   0   0   0\n",
      "    0   0   0   0   0   0   0   0   0   0]\n",
      " [  0   0   0   0   0   0   0   0   0   0   0   0   0   0   0   0   0   0\n",
      "    0   0   0   0   0   0   0   0   0   0]\n",
      " [  0   0   0   0   0   0   0   0   0   0   0   0   3  18  18  18 126 136\n",
      "  175  26 166 255 247 127   0   0   0   0]\n",
      " [  0   0   0   0   0   0   0   0  30  36  94 154 170 253 253 253 253 253\n",
      "  225 172 253 242 195  64   0   0   0   0]\n",
      " [  0   0   0   0   0   0   0  49 238 253 253 253 253 253 253 253 253 251\n",
      "   93  82  82  56  39   0   0   0   0   0]\n",
      " [  0   0   0   0   0   0   0  18 219 253 253 253 253 253 198 182 247 241\n",
      "    0   0   0   0   0   0   0   0   0   0]\n",
      " [  0   0   0   0   0   0   0   0  80 156 107 253 253 205  11   0  43 154\n",
      "    0   0   0   0   0   0   0   0   0   0]\n",
      " [  0   0   0   0   0   0   0   0   0  14   1 154 253  90   0   0   0   0\n",
      "    0   0   0   0   0   0   0   0   0   0]\n",
      " [  0   0   0   0   0   0   0   0   0   0   0 139 253 190   2   0   0   0\n",
      "    0   0   0   0   0   0   0   0   0   0]\n",
      " [  0   0   0   0   0   0   0   0   0   0   0  11 190 253  70   0   0   0\n",
      "    0   0   0   0   0   0   0   0   0   0]\n",
      " [  0   0   0   0   0   0   0   0   0   0   0   0  35 241 225 160 108   1\n",
      "    0   0   0   0   0   0   0   0   0   0]\n",
      " [  0   0   0   0   0   0   0   0   0   0   0   0   0  81 240 253 253 119\n",
      "   25   0   0   0   0   0   0   0   0   0]\n",
      " [  0   0   0   0   0   0   0   0   0   0   0   0   0   0  45 186 253 253\n",
      "  150  27   0   0   0   0   0   0   0   0]\n",
      " [  0   0   0   0   0   0   0   0   0   0   0   0   0   0   0  16  93 252\n",
      "  253 187   0   0   0   0   0   0   0   0]\n",
      " [  0   0   0   0   0   0   0   0   0   0   0   0   0   0   0   0   0 249\n",
      "  253 249  64   0   0   0   0   0   0   0]\n",
      " [  0   0   0   0   0   0   0   0   0   0   0   0   0   0  46 130 183 253\n",
      "  253 207   2   0   0   0   0   0   0   0]\n",
      " [  0   0   0   0   0   0   0   0   0   0   0   0  39 148 229 253 253 253\n",
      "  250 182   0   0   0   0   0   0   0   0]\n",
      " [  0   0   0   0   0   0   0   0   0   0  24 114 221 253 253 253 253 201\n",
      "   78   0   0   0   0   0   0   0   0   0]\n",
      " [  0   0   0   0   0   0   0   0  23  66 213 253 253 253 253 198  81   2\n",
      "    0   0   0   0   0   0   0   0   0   0]\n",
      " [  0   0   0   0   0   0  18 171 219 253 253 253 253 195  80   9   0   0\n",
      "    0   0   0   0   0   0   0   0   0   0]\n",
      " [  0   0   0   0  55 172 226 253 253 253 253 244 133  11   0   0   0   0\n",
      "    0   0   0   0   0   0   0   0   0   0]\n",
      " [  0   0   0   0 136 253 253 253 212 135 132  16   0   0   0   0   0   0\n",
      "    0   0   0   0   0   0   0   0   0   0]\n",
      " [  0   0   0   0   0   0   0   0   0   0   0   0   0   0   0   0   0   0\n",
      "    0   0   0   0   0   0   0   0   0   0]\n",
      " [  0   0   0   0   0   0   0   0   0   0   0   0   0   0   0   0   0   0\n",
      "    0   0   0   0   0   0   0   0   0   0]\n",
      " [  0   0   0   0   0   0   0   0   0   0   0   0   0   0   0   0   0   0\n",
      "    0   0   0   0   0   0   0   0   0   0]]\n"
     ]
    }
   ],
   "source": [
    "print(X_train.shape) # (60000, 28, 28)\n",
    "print(X_test.shape) # (10000, 28, 28)\n",
    "print(X_train[0].dtype) # uint8\n",
    "print(X_train[0])"
   ]
  },
  {
   "cell_type": "markdown",
   "metadata": {},
   "source": [
    "### 平滑化"
   ]
  },
  {
   "cell_type": "code",
   "execution_count": 4,
   "metadata": {},
   "outputs": [],
   "source": [
    "X_train = X_train.reshape(-1, 784)\n",
    "X_test = X_test.reshape(-1, 784)"
   ]
  },
  {
   "cell_type": "markdown",
   "metadata": {},
   "source": [
    "### 画像データの可視化"
   ]
  },
  {
   "cell_type": "code",
   "execution_count": 5,
   "metadata": {},
   "outputs": [
    {
     "data": {
      "image/png": "[encoded data removed]",
      "text/plain": [
       "<Figure size 432x288 with 1 Axes>"
      ]
     },
     "metadata": {
      "needs_background": "light"
     },
     "output_type": "display_data"
    }
   ],
   "source": [
    "import matplotlib.pyplot as plt\n",
    "%matplotlib inline\n",
    "index = 0\n",
    "image = X_train[index].reshape(28,28)\n",
    "# X_train[index]: (784,)\n",
    "# image: (28, 28)\n",
    "plt.imshow(image, 'gray')\n",
    "plt.title('label : {}'.format(y_train[index]))\n",
    "plt.show()"
   ]
  },
  {
   "cell_type": "code",
   "execution_count": 6,
   "metadata": {},
   "outputs": [
    {
     "data": {
      "image/png": "[encoded data removed]",
      "text/plain": [
       "<Figure size 432x288 with 1 Axes>"
      ]
     },
     "metadata": {
      "needs_background": "light"
     },
     "output_type": "display_data"
    },
    {
     "name": "stdout",
     "output_type": "stream",
     "text": [
      "[[-105.35 -105.35 -105.35 -105.35 -105.35 -105.35 -105.35 -105.35 -105.35\n",
      "  -105.35 -105.35 -105.35 -105.35 -105.35 -105.35 -105.35 -105.35 -105.35\n",
      "  -105.35 -105.35 -105.35 -105.35 -105.35 -105.35 -105.35 -105.35 -105.35\n",
      "  -105.35]\n",
      " [-105.35 -105.35 -105.35 -105.35 -105.35 -105.35 -105.35 -105.35 -105.35\n",
      "  -105.35 -105.35 -105.35 -105.35 -105.35 -105.35 -105.35 -105.35 -105.35\n",
      "  -105.35 -105.35 -105.35 -105.35 -105.35 -105.35 -105.35 -105.35 -105.35\n",
      "  -105.35]\n",
      " [-105.35 -105.35 -105.35 -105.35 -105.35 -105.35 -105.35 -105.35 -105.35\n",
      "  -105.35 -105.35 -105.35 -105.35 -105.35 -105.35 -105.35 -105.35 -105.35\n",
      "  -105.35 -105.35 -105.35 -105.35 -105.35 -105.35 -105.35 -105.35 -105.35\n",
      "  -105.35]\n",
      " [-105.35 -105.35 -105.35 -105.35 -105.35 -105.35 -105.35 -105.35 -105.35\n",
      "  -105.35 -105.35 -105.35 -105.35 -105.35 -105.35 -105.35 -105.35 -105.35\n",
      "  -105.35 -105.35 -105.35 -105.35 -105.35 -105.35 -105.35 -105.35 -105.35\n",
      "  -105.35]\n",
      " [-105.35 -105.35 -105.35 -105.35 -105.35 -105.35 -105.35 -105.35 -105.35\n",
      "  -105.35 -105.35 -105.35 -105.35 -105.35 -105.35 -105.35 -105.35 -105.35\n",
      "  -105.35 -105.35 -105.35 -105.35 -105.35 -105.35 -105.35 -105.35 -105.35\n",
      "  -105.35]\n",
      " [-105.35 -105.35 -105.35 -105.35 -105.35 -105.35 -105.35 -105.35 -105.35\n",
      "  -105.35 -105.35 -105.35 -102.35  -87.35  -87.35  -87.35   20.65   30.65\n",
      "    69.65  -79.35   60.65  149.65  141.65   21.65 -105.35 -105.35 -105.35\n",
      "  -105.35]\n",
      " [-105.35 -105.35 -105.35 -105.35 -105.35 -105.35 -105.35 -105.35  -75.35\n",
      "   -69.35  -11.35   48.65   64.65  147.65  147.65  147.65  147.65  147.65\n",
      "   119.65   66.65  147.65  136.65   89.65  -41.35 -105.35 -105.35 -105.35\n",
      "  -105.35]\n",
      " [-105.35 -105.35 -105.35 -105.35 -105.35 -105.35 -105.35  -56.35  132.65\n",
      "   147.65  147.65  147.65  147.65  147.65  147.65  147.65  147.65  145.65\n",
      "   -12.35  -23.35  -23.35  -49.35  -66.35 -105.35 -105.35 -105.35 -105.35\n",
      "  -105.35]\n",
      " [-105.35 -105.35 -105.35 -105.35 -105.35 -105.35 -105.35  -87.35  113.65\n",
      "   147.65  147.65  147.65  147.65  147.65   92.65   76.65  141.65  135.65\n",
      "  -105.35 -105.35 -105.35 -105.35 -105.35 -105.35 -105.35 -105.35 -105.35\n",
      "  -105.35]\n",
      " [-105.35 -105.35 -105.35 -105.35 -105.35 -105.35 -105.35 -105.35  -25.35\n",
      "    50.65    1.65  147.65  147.65   99.65  -94.35 -105.35  -62.35   48.65\n",
      "  -105.35 -105.35 -105.35 -105.35 -105.35 -105.35 -105.35 -105.35 -105.35\n",
      "  -105.35]\n",
      " [-105.35 -105.35 -105.35 -105.35 -105.35 -105.35 -105.35 -105.35 -105.35\n",
      "   -91.35 -104.35   48.65  147.65  -15.35 -105.35 -105.35 -105.35 -105.35\n",
      "  -105.35 -105.35 -105.35 -105.35 -105.35 -105.35 -105.35 -105.35 -105.35\n",
      "  -105.35]\n",
      " [-105.35 -105.35 -105.35 -105.35 -105.35 -105.35 -105.35 -105.35 -105.35\n",
      "  -105.35 -105.35   33.65  147.65   84.65 -103.35 -105.35 -105.35 -105.35\n",
      "  -105.35 -105.35 -105.35 -105.35 -105.35 -105.35 -105.35 -105.35 -105.35\n",
      "  -105.35]\n",
      " [-105.35 -105.35 -105.35 -105.35 -105.35 -105.35 -105.35 -105.35 -105.35\n",
      "  -105.35 -105.35  -94.35   84.65  147.65  -35.35 -105.35 -105.35 -105.35\n",
      "  -105.35 -105.35 -105.35 -105.35 -105.35 -105.35 -105.35 -105.35 -105.35\n",
      "  -105.35]\n",
      " [-105.35 -105.35 -105.35 -105.35 -105.35 -105.35 -105.35 -105.35 -105.35\n",
      "  -105.35 -105.35 -105.35  -70.35  135.65  119.65   54.65    2.65 -104.35\n",
      "  -105.35 -105.35 -105.35 -105.35 -105.35 -105.35 -105.35 -105.35 -105.35\n",
      "  -105.35]\n",
      " [-105.35 -105.35 -105.35 -105.35 -105.35 -105.35 -105.35 -105.35 -105.35\n",
      "  -105.35 -105.35 -105.35 -105.35  -24.35  134.65  147.65  147.65   13.65\n",
      "   -80.35 -105.35 -105.35 -105.35 -105.35 -105.35 -105.35 -105.35 -105.35\n",
      "  -105.35]\n",
      " [-105.35 -105.35 -105.35 -105.35 -105.35 -105.35 -105.35 -105.35 -105.35\n",
      "  -105.35 -105.35 -105.35 -105.35 -105.35  -60.35   80.65  147.65  147.65\n",
      "    44.65  -78.35 -105.35 -105.35 -105.35 -105.35 -105.35 -105.35 -105.35\n",
      "  -105.35]\n",
      " [-105.35 -105.35 -105.35 -105.35 -105.35 -105.35 -105.35 -105.35 -105.35\n",
      "  -105.35 -105.35 -105.35 -105.35 -105.35 -105.35  -89.35  -12.35  146.65\n",
      "   147.65   81.65 -105.35 -105.35 -105.35 -105.35 -105.35 -105.35 -105.35\n",
      "  -105.35]\n",
      " [-105.35 -105.35 -105.35 -105.35 -105.35 -105.35 -105.35 -105.35 -105.35\n",
      "  -105.35 -105.35 -105.35 -105.35 -105.35 -105.35 -105.35 -105.35  143.65\n",
      "   147.65  143.65  -41.35 -105.35 -105.35 -105.35 -105.35 -105.35 -105.35\n",
      "  -105.35]\n",
      " [-105.35 -105.35 -105.35 -105.35 -105.35 -105.35 -105.35 -105.35 -105.35\n",
      "  -105.35 -105.35 -105.35 -105.35 -105.35  -59.35   24.65   77.65  147.65\n",
      "   147.65  101.65 -103.35 -105.35 -105.35 -105.35 -105.35 -105.35 -105.35\n",
      "  -105.35]\n",
      " [-105.35 -105.35 -105.35 -105.35 -105.35 -105.35 -105.35 -105.35 -105.35\n",
      "  -105.35 -105.35 -105.35  -66.35   42.65  123.65  147.65  147.65  147.65\n",
      "   144.65   76.65 -105.35 -105.35 -105.35 -105.35 -105.35 -105.35 -105.35\n",
      "  -105.35]\n",
      " [-105.35 -105.35 -105.35 -105.35 -105.35 -105.35 -105.35 -105.35 -105.35\n",
      "  -105.35  -81.35    8.65  115.65  147.65  147.65  147.65  147.65   95.65\n",
      "   -27.35 -105.35 -105.35 -105.35 -105.35 -105.35 -105.35 -105.35 -105.35\n",
      "  -105.35]\n",
      " [-105.35 -105.35 -105.35 -105.35 -105.35 -105.35 -105.35 -105.35  -82.35\n",
      "   -39.35  107.65  147.65  147.65  147.65  147.65   92.65  -24.35 -103.35\n",
      "  -105.35 -105.35 -105.35 -105.35 -105.35 -105.35 -105.35 -105.35 -105.35\n",
      "  -105.35]\n",
      " [-105.35 -105.35 -105.35 -105.35 -105.35 -105.35  -87.35   65.65  113.65\n",
      "   147.65  147.65  147.65  147.65   89.65  -25.35  -96.35 -105.35 -105.35\n",
      "  -105.35 -105.35 -105.35 -105.35 -105.35 -105.35 -105.35 -105.35 -105.35\n",
      "  -105.35]\n",
      " [-105.35 -105.35 -105.35 -105.35  -50.35   66.65  120.65  147.65  147.65\n",
      "   147.65  147.65  138.65   27.65  -94.35 -105.35 -105.35 -105.35 -105.35\n",
      "  -105.35 -105.35 -105.35 -105.35 -105.35 -105.35 -105.35 -105.35 -105.35\n",
      "  -105.35]\n",
      " [-105.35 -105.35 -105.35 -105.35   30.65  147.65  147.65  147.65  106.65\n",
      "    29.65   26.65  -89.35 -105.35 -105.35 -105.35 -105.35 -105.35 -105.35\n",
      "  -105.35 -105.35 -105.35 -105.35 -105.35 -105.35 -105.35 -105.35 -105.35\n",
      "  -105.35]\n",
      " [-105.35 -105.35 -105.35 -105.35 -105.35 -105.35 -105.35 -105.35 -105.35\n",
      "  -105.35 -105.35 -105.35 -105.35 -105.35 -105.35 -105.35 -105.35 -105.35\n",
      "  -105.35 -105.35 -105.35 -105.35 -105.35 -105.35 -105.35 -105.35 -105.35\n",
      "  -105.35]\n",
      " [-105.35 -105.35 -105.35 -105.35 -105.35 -105.35 -105.35 -105.35 -105.35\n",
      "  -105.35 -105.35 -105.35 -105.35 -105.35 -105.35 -105.35 -105.35 -105.35\n",
      "  -105.35 -105.35 -105.35 -105.35 -105.35 -105.35 -105.35 -105.35 -105.35\n",
      "  -105.35]\n",
      " [-105.35 -105.35 -105.35 -105.35 -105.35 -105.35 -105.35 -105.35 -105.35\n",
      "  -105.35 -105.35 -105.35 -105.35 -105.35 -105.35 -105.35 -105.35 -105.35\n",
      "  -105.35 -105.35 -105.35 -105.35 -105.35 -105.35 -105.35 -105.35 -105.35\n",
      "  -105.35]]\n"
     ]
    }
   ],
   "source": [
    "index = 0\n",
    "image = X_train[index].reshape(28,28)\n",
    "image = image.astype(np.float) # float型に変換\n",
    "image -= 105.35 # 意図的に負の小数値を作り出してみる\n",
    "plt.imshow(image, 'gray')\n",
    "plt.title('label : {}'.format(y_train[index]))\n",
    "plt.show()\n",
    "print(image) # 値を確認"
   ]
  },
  {
   "cell_type": "code",
   "execution_count": 7,
   "metadata": {},
   "outputs": [
    {
     "data": {
      "text/plain": [
       "<matplotlib.image.AxesImage at 0x7feaa0401490>"
      ]
     },
     "execution_count": 7,
     "metadata": {},
     "output_type": "execute_result"
    },
    {
     "data": {
      "image/png": "[encoded data removed]",
      "text/plain": [
       "<Figure size 432x288 with 1 Axes>"
      ]
     },
     "metadata": {
      "needs_background": "light"
     },
     "output_type": "display_data"
    }
   ],
   "source": [
    "plt.imshow(image, 'gray', vmin = 0, vmax = 255)"
   ]
  },
  {
   "cell_type": "markdown",
   "metadata": {},
   "source": [
    "### 前処理  \n",
    ">画像は0から255のuint8型で表されますが、機械学習をする上では0から1のfloat型で扱うことになります。以下のコードで変換可能です。"
   ]
  },
  {
   "cell_type": "code",
   "execution_count": 8,
   "metadata": {},
   "outputs": [
    {
     "name": "stdout",
     "output_type": "stream",
     "text": [
      "1.0\n",
      "0.0\n"
     ]
    }
   ],
   "source": [
    "X_train = X_train.astype(np.float)\n",
    "X_test = X_test.astype(np.float)\n",
    "X_train /= 255\n",
    "X_test /= 255\n",
    "print(X_train.max()) # 1.0\n",
    "print(X_train.min()) # 0.0"
   ]
  },
  {
   "cell_type": "markdown",
   "metadata": {},
   "source": [
    "### one-hot表現 に変換"
   ]
  },
  {
   "cell_type": "markdown",
   "metadata": {},
   "source": [
    ">また、正解ラベルは0から9の整数ですが、ニューラルネットワークで多クラス分類を行う際には one-hot表現 に変換します。  \n",
    ">scikit-learnのOneHotEncoderを使用したコードが以下です。このone-hot表現による値はそのラベルである確率を示していることになるため、float型で扱います。\n",
    "\n"
   ]
  },
  {
   "cell_type": "code",
   "execution_count": 9,
   "metadata": {},
   "outputs": [
    {
     "name": "stdout",
     "output_type": "stream",
     "text": [
      "(60000,)\n",
      "(60000, 10)\n",
      "float64\n"
     ]
    }
   ],
   "source": [
    "from sklearn.preprocessing import OneHotEncoder\n",
    "enc = OneHotEncoder(handle_unknown='ignore', sparse=False)\n",
    "y_train_one_hot = enc.fit_transform(y_train[:, np.newaxis])\n",
    "y_test_one_hot = enc.transform(y_test[:, np.newaxis])\n",
    "print(y_train.shape) # (60000,)\n",
    "print(y_train_one_hot.shape) # (60000, 10)\n",
    "print(y_train_one_hot.dtype) # float64"
   ]
  },
  {
   "cell_type": "markdown",
   "metadata": {},
   "source": [
    "### train_test_split"
   ]
  },
  {
   "cell_type": "markdown",
   "metadata": {},
   "source": [
    ">さらに、訓練データ6万枚の内2割を検証データとして分割してください。  \n",
    ">訓練データが48000枚、検証データが12000枚となります。"
   ]
  },
  {
   "cell_type": "code",
   "execution_count": 10,
   "metadata": {},
   "outputs": [],
   "source": [
    "from sklearn.model_selection import train_test_split"
   ]
  },
  {
   "cell_type": "markdown",
   "metadata": {},
   "source": [
    "学習で使用するため、正解データは ワンホットエンコーディングした y_train_one_hot を使用。"
   ]
  },
  {
   "cell_type": "code",
   "execution_count": 11,
   "metadata": {},
   "outputs": [
    {
     "name": "stdout",
     "output_type": "stream",
     "text": [
      "(48000, 784)\n",
      "(12000, 784)\n",
      "(48000, 10)\n",
      "(12000, 10)\n"
     ]
    }
   ],
   "source": [
    "#X_train, X_val, y_train, y_val = train_test_split(X_train, y_train, test_size=0.2)\n",
    "X_train, X_val, y_train, y_val = train_test_split(X_train, y_train_one_hot, test_size=0.2)\n",
    "print(X_train.shape) # (48000, 784)\n",
    "print(X_val.shape) # (12000, 784)\n",
    "print(y_train.shape)\n",
    "print(y_val.shape)"
   ]
  },
  {
   "cell_type": "markdown",
   "metadata": {},
   "source": [
    "精度の計算用に y_val をデコードする。"
   ]
  },
  {
   "cell_type": "code",
   "execution_count": 12,
   "metadata": {},
   "outputs": [
    {
     "name": "stdout",
     "output_type": "stream",
     "text": [
      "(12000,)\n",
      "[7 6 9 ... 0 9 5]\n"
     ]
    }
   ],
   "source": [
    "y_test_decode = np.argmax(y_val, axis=1)\n",
    "print(y_test_decode.shape)\n",
    "print(y_test_decode)"
   ]
  },
  {
   "cell_type": "markdown",
   "metadata": {},
   "source": [
    "## ニューラルネットワークスクラッチ"
   ]
  },
  {
   "cell_type": "markdown",
   "metadata": {},
   "source": [
    ">ニューラルネットワークのクラスをスクラッチで作成していきます。  \n",
    ">NumPyなど最低限のライブラリのみを使いアルゴリズムを実装していきます。\n",
    ">\n",
    ">今回は多クラス分類を行う**3層のニューラルネットワーク**を作成します。  \n",
    ">層の数などは固定した上でニューラルネットワークの基本を学びます。  \n",
    ">次のSprintで層を自由に変えられる設計にしていきます。\n",
    ">\n",
    ">以下に雛形を用意してあります。  \n",
    ">このScratchSimpleNeuralNetrowkClassifierクラスにコードを書き加えていってください。"
   ]
  },
  {
   "cell_type": "code",
   "execution_count": 13,
   "metadata": {},
   "outputs": [],
   "source": [
    "class ScratchSimpleNeuralNetrowkClassifier():\n",
    "    \"\"\"\n",
    "    シンプルな三層ニューラルネットワーク分類器\n",
    "\n",
    "    Parameters\n",
    "    ----------\n",
    "\n",
    "    Attributes\n",
    "    ----------\n",
    "    \"\"\"\n",
    "    def __init__(self, function = 'tanh', verbose = True):\n",
    "        self.activation_function = function\n",
    "        self.verbose = verbose\n",
    "        self.L_list_every_batch = []\n",
    "        self.L_list_every_batch_val = []\n",
    "    \n",
    "    \n",
    "    def fit(self, X, y, iteration = 10, alpha = 0.01, X_val=None, y_val=None):\n",
    "        \"\"\"\n",
    "        ニューラルネットワーク分類器を学習する。\n",
    "\n",
    "        Parameters\n",
    "        ----------\n",
    "        X : 次の形のndarray, shape (n_samples, n_features)\n",
    "            訓練データの特徴量\n",
    "        y : 次の形のndarray, shape (n_samples, )\n",
    "            訓練データの正解値\n",
    "        X_val : 次の形のndarray, shape (n_samples, n_features)\n",
    "            検証データの特徴量\n",
    "        y_val : 次の形のndarray, shape (n_samples, )\n",
    "            検証データの正解値\n",
    "        \"\"\"\n",
    "        if self.verbose:\n",
    "            #verboseをTrueにした際は学習過程などを出力する\n",
    "            print()\n",
    "            \n",
    "        #　重みとバイアスの初期化\n",
    "        self.initial_value()\n",
    "        \n",
    "        # 損失関数を入れるリスト\n",
    "        L_list = []\n",
    "        L_list_val = []\n",
    "        \n",
    "        for _ in range(iteration):\n",
    "            # ミニバッチ\n",
    "            get_mini_batch = GetMiniBatch(X_train, y_train, batch_size=20)\n",
    "            #print(len(get_mini_batch)) # 2400\n",
    "            #print(get_mini_batch[5]) # 5番目のミニバッチが取得できる\n",
    "\n",
    "            for mini_X_train, mini_y_train in get_mini_batch:\n",
    "                # このfor文内でミニバッチが使える\n",
    "                self.forward(mini_X_train, mini_y_train, )\n",
    "                self.backward(mini_X_train, mini_y_train, alpha = alpha)#10e-7\n",
    "\n",
    "            # テストデータの損失関数計算用\n",
    "            if X_val is not None and y_val is not None:\n",
    "                get_mini_batch_val = GetMiniBatch(X_val, y_val, batch_size=20)\n",
    "                for mini_X_val, mini_y_val in get_mini_batch_val:\n",
    "                    self.test_forward(mini_X_val, mini_y_val)\n",
    "                #mini_X_val, mini_y_val = get_mini_batch_val[-1]\n",
    "                #self.test_forward(mini_X_val, mini_y_val)\n",
    "                    \n",
    "            # エポックごとに保管\n",
    "            L_list.append(self.L)\n",
    "            L_list_val.append(self.L_val)\n",
    "        \n",
    "        # 繰り返しが終わったらリストを保管    \n",
    "        self.L_list = np.array(L_list) \n",
    "        self.L_list_val = np.array(L_list_val)\n",
    "        \n",
    "        \n",
    "    def initial_value(self,):\n",
    "        \"\"\"\n",
    "        initial value\n",
    "        \"\"\"\n",
    "        # 【問題1】\n",
    "        batch_size = 20 # バッチサイズ\n",
    "        n_features = 784 # 特徴量の数\n",
    "        n_nodes1 = 400 # 1層目のノード数\n",
    "        n_nodes2 = 200 # 2層目のノード数\n",
    "        n_output = 10 # 出力のクラス数（3層目のノード数）\n",
    "\n",
    "        sigma = 0.01 # ガウス分布の標準偏差\n",
    "        self.W1 = sigma * np.random.randn(n_features, n_nodes1)\n",
    "        # W1: (784, 400)\n",
    "        self.W2 = sigma * np.random.randn(n_nodes1, n_nodes2)\n",
    "        # W2: (400, 200)\n",
    "        self.W3 = sigma * np.random.randn(n_nodes2, n_output)\n",
    "        # W3: (200, 10)\n",
    "        self.B1 = sigma * np.random.randn(n_nodes1, )\n",
    "        # B1: (400, )\n",
    "        self.B2 = sigma * np.random.randn(n_nodes2, )\n",
    "        # B2: (200, )\n",
    "        self.B3 = sigma * np.random.randn(n_output, )\n",
    "        # B3: (10, )\n",
    "        \n",
    "        \n",
    "        \n",
    "    def forward(self, X, y, X_val=None, y_val=None):\n",
    "        \"\"\"\n",
    "        フォワード\n",
    "\n",
    "        Parameters\n",
    "        ----------\n",
    "        X : 次の形のndarray, shape (n_samples, n_features)\n",
    "            訓練データの特徴量\n",
    "        y : 次の形のndarray, shape (n_samples, )\n",
    "            訓練データの正解値\n",
    "        X_val : 次の形のndarray, shape (n_samples, n_features)\n",
    "            検証データの特徴量\n",
    "        y_val : 次の形のndarray, shape (n_samples, )\n",
    "            検証データの正解値\n",
    "        \"\"\"\n",
    "        # 【問題2】\n",
    "        A1 = X@self.W1+self.B1.reshape(-1,1).T\n",
    "        \n",
    "        if self.activation_function == 'sigmoid':\n",
    "            # 活性化関数(sigmoid)\n",
    "            Z1 = 1/(1+np.exp(-A1))\n",
    "        else:\n",
    "            # 活性化関数(ハイパボリックタンジェント関数)\n",
    "            Z1= np.tanh(A1)\n",
    "        \n",
    "        A2 = Z1@self.W2+self.B2.reshape(-1,1).T\n",
    "        \n",
    "        if self.activation_function == 'sigmoid':\n",
    "            # 活性化関数(sigmoid)\n",
    "            Z2 = 1/(1+np.exp(-A2))\n",
    "        else:\n",
    "            # 活性化関数(ハイパボリックタンジェント関数)\n",
    "            Z2= np.tanh(A2)\n",
    "        \n",
    "        A3 = Z2@self.W3+self.B3.reshape(-1,1).T\n",
    "        \n",
    "        # 活性化関数(ソフトマックス関数)\n",
    "        Z3 = np.exp(A3)/(np.sum(np.exp(A3), axis=1).reshape(-1,1))\n",
    "        \n",
    "        \n",
    "        # 【問題3】目的関数（損失関数）\n",
    "        # 交差エントロピー誤差\n",
    "        # 行列それぞれ掛けて全部足す？\n",
    "        nb = y.shape[0]#バッチサイズ\n",
    "        L = -(1/nb)*(np.sum(y*np.log(Z3)))\n",
    "        \n",
    "        # fit関数からエポックごとに呼び出して保管したいため、クラス変数として保管\n",
    "        self.L = L\n",
    "        # ミニバッチごとに保管\n",
    "        #self.L_list_every_batch.append(L)\n",
    "        \n",
    "        \n",
    "        # 保管\n",
    "        self.A1= A1\n",
    "        self.A2= A2\n",
    "        self.A3= A3\n",
    "        \n",
    "        self.Z1= Z1\n",
    "        self.Z2= Z2\n",
    "        self.Z3= Z3\n",
    "        \n",
    "        \n",
    "    def test_forward(self, X_val, y_val):\n",
    "        \"\"\"\n",
    "        テストデータ損失関数\n",
    "\n",
    "        Parameters\n",
    "        ----------\n",
    "        \"\"\"\n",
    "        A1_val = X_val@self.W1+self.B1.reshape(-1,1).T\n",
    "        \n",
    "        if self.activation_function == 'sigmoid':\n",
    "            Z1_val = 1/(1+np.exp(-A1_val))\n",
    "        else:\n",
    "            Z1_val= np.tanh(A1_val)\n",
    "        \n",
    "        A2_val = Z1_val@self.W2+self.B2.reshape(-1,1).T\n",
    "        \n",
    "        if self.activation_function == 'sigmoid':\n",
    "            Z2_val = 1/(1+np.exp(-A2_val))\n",
    "        else:\n",
    "            Z2_val= np.tanh(A2_val)\n",
    "        \n",
    "        A3_val = Z2_val@self.W3+self.B3.reshape(-1,1).T\n",
    "        \n",
    "        Z3_val = np.exp(A3_val)/(np.sum(np.exp(A3_val), axis=1).reshape(-1,1))\n",
    "        \n",
    "        # 【問題3】目的関数（損失関数）\n",
    "        nb_val = y_val.shape[0]#バッチサイズ\n",
    "        L_val = -(1/nb_val)*(np.sum(y_val*np.log(Z3_val)))\n",
    "        \n",
    "        # fit関数からエポックごとに呼び出して保管したいため、クラス変数として保管\n",
    "        self.L_val = L_val\n",
    "        # ミニバッチごとに保管\n",
    "        #self.L_list_every_batch_val.append(L_val)\n",
    "        \n",
    "\n",
    "        \n",
    "    def backward(self, X, y, alpha, X_val=None, y_val=None):\n",
    "        \"\"\"\n",
    "        バックワード\n",
    "\n",
    "        Parameters\n",
    "        ----------\n",
    "        X : 次の形のndarray, shape (n_samples, n_features)\n",
    "            訓練データの特徴量\n",
    "        y : 次の形のndarray, shape (n_samples, )\n",
    "            訓練データの正解値\n",
    "        X_val : 次の形のndarray, shape (n_samples, n_features)\n",
    "            検証データの特徴量\n",
    "        y_val : 次の形のndarray, shape (n_samples, )\n",
    "            検証データの正解値\n",
    "        \"\"\"\n",
    "        # 第３層\n",
    "        dL_dA3 = self.Z3 - y\n",
    "        dL_dB3 = np.sum(dL_dA3, axis=0)#バッチサイズ分の合計\n",
    "        dL_dW3 = self.Z2.T@dL_dA3\n",
    "        dL_dZ2 = dL_dA3@self.W3.T\n",
    "        \n",
    "        self.W3 = self.W3 - alpha*(dL_dW3)\n",
    "        self.B3 = self.B3 - alpha*(dL_dB3)\n",
    "        \n",
    "        # 第２層\n",
    "        if self.activation_function == 'sigmoid':\n",
    "            # シグモイド\n",
    "            sigmoid_A2 = 1/(1+np.exp(-self.A2))\n",
    "            dL_dA2 = dL_dZ2*(1 - sigmoid_A2)*sigmoid_A2 \n",
    "        else:\n",
    "            # ハイパボリックタンジェント\n",
    "            dL_dA2 = dL_dZ2*(1 - np.tanh(self.A2))\n",
    "        \n",
    "        dL_dB2 = np.sum(dL_dA2, axis=0)#バッチサイズ分の合計\n",
    "        dL_dW2 = self.Z1.T@dL_dA2\n",
    "        dL_dZ1 = dL_dA2@self.W2.T\n",
    "        \n",
    "        self.W2 = self.W2 - alpha*(dL_dW2)\n",
    "        self.B2 = self.B2 - alpha*(dL_dB2)\n",
    "    \n",
    "    \n",
    "        # 第1層\n",
    "        if self.activation_function == 'sigmoid':\n",
    "            # シグモイド\n",
    "            sigmoid_A1 = 1/(1+np.exp(-self.A1))\n",
    "            dL_dA1 = dL_dZ1*(1 - sigmoid_A1)*sigmoid_A1\n",
    "        else:\n",
    "            # ハイパボリックタンジェント\n",
    "            dL_dA1 = dL_dZ1*(1 - np.tanh(self.A1))\n",
    "        \n",
    "        dL_dB1 = np.sum(dL_dA1, axis=0)#バッチサイズ分の合計\n",
    "        dL_dW1 = X.T@dL_dA1\n",
    "    \n",
    "        self.W1 = self.W1 - alpha*(dL_dW1)\n",
    "        self.B1 = self.B1 - alpha*(dL_dB1)\n",
    "        \n",
    "    \n",
    "    def predict(self, X):\n",
    "        \"\"\"\n",
    "        ニューラルネットワーク分類器を使い推定する。\n",
    "\n",
    "        Parameters\n",
    "        ----------\n",
    "        X : 次の形のndarray, shape (n_samples, n_features)\n",
    "            サンプル\n",
    "\n",
    "        Returns\n",
    "        -------\n",
    "            次の形のndarray, shape (n_samples, 1)\n",
    "            推定結果\n",
    "        \"\"\"\n",
    "        # サイズ\n",
    "        b = X.shape[0]\n",
    "        # ラベル\n",
    "        k = X.shape[1]\n",
    "        \n",
    "        A1 = X@self.W1+self.B1.reshape(-1,1).T\n",
    "        \n",
    "        if self.activation_function == 'sigmoid':\n",
    "            # 活性化関数(sigmoid)\n",
    "            Z1 = 1/(1+np.exp(-A1))\n",
    "        else:\n",
    "            # 活性化関数(ハイパボリックタンジェント関数)\n",
    "            Z1= np.tanh(A1)\n",
    "\n",
    "        A2 = Z1@self.W2+self.B2.reshape(-1,1).T\n",
    "\n",
    "        if self.activation_function == 'sigmoid':\n",
    "            # 活性化関数(sigmoid)\n",
    "            Z2 = 1/(1+np.exp(-A2))\n",
    "        else:\n",
    "            # 活性化関数(ハイパボリックタンジェント関数)\n",
    "            Z2= np.tanh(A2)\n",
    "        \n",
    "        A3 = Z2@self.W3+self.B3.reshape(-1,1).T\n",
    "\n",
    "        # 活性化関数(ソフトマックス関数)\n",
    "        #Z3 は各ラベル（0〜9）に対する確率の配列\n",
    "        Z3 = np.exp(A3)/(np.sum(np.exp(A3), axis=1).reshape(-1,1))\n",
    "        \n",
    "        # 出力された確率のなかで最も大きい値のインデックスを取得\n",
    "        pred = np.argmax(Z3, axis=1)\n",
    "        \n",
    "        return pred\n",
    "    "
   ]
  },
  {
   "cell_type": "markdown",
   "metadata": {},
   "source": [
    "### ミニバッチ処理  \n",
    ">これまでの機械学習スクラッチでは、全てのサンプルを一度に計算していました。  \n",
    ">しかし、ニューラルネットワークではデータを分割して入力する **確率的勾配降下法** が一般的です。  \n",
    ">分割した際のひとかたまりを **ミニバッチ** 、そのサンプル数を **バッチサイズ** と呼びます。\n",
    ">\n",
    ">今回はバッチサイズを20とします。今回使う訓練データは48000枚ですから、  \n",
    ">48000÷20で2400回の更新を繰り返すことになります。  \n",
    ">ニューラルネットワークではこれを2400回 **イテレーション**（iteration） すると呼びます。 > \n",
    ">訓練データを一度全て見ると1回の **エポック**（epoch） が終わったことになります。  \n",
    ">このエポックを複数回繰り返し、学習が完了します。\n",
    ">\n",
    ">これを実現するための簡素なイテレータを用意しました。for文で呼び出すと、ミニバッチを取得できます。"
   ]
  },
  {
   "cell_type": "code",
   "execution_count": 14,
   "metadata": {},
   "outputs": [],
   "source": [
    "class GetMiniBatch:\n",
    "    \"\"\"\n",
    "    ミニバッチを取得するイテレータ\n",
    "\n",
    "    Parameters\n",
    "    ----------\n",
    "    X : 次の形のndarray, shape (n_samples, n_features)\n",
    "      訓練データ\n",
    "    y : 次の形のndarray, shape (n_samples, 1)\n",
    "      正解値\n",
    "    batch_size : int\n",
    "      バッチサイズ\n",
    "    seed : int\n",
    "      NumPyの乱数のシード\n",
    "    \"\"\"\n",
    "    def __init__(self, X, y, batch_size = 20, seed=0):\n",
    "        self.batch_size = batch_size\n",
    "        np.random.seed(seed)\n",
    "        shuffle_index = np.random.permutation(np.arange(X.shape[0]))\n",
    "        self._X = X[shuffle_index]\n",
    "        self._y = y[shuffle_index]\n",
    "        self._stop = np.ceil(X.shape[0]/self.batch_size).astype(np.int)\n",
    "    def __len__(self):\n",
    "        return self._stop\n",
    "    def __getitem__(self,item):\n",
    "        p0 = item*self.batch_size\n",
    "        p1 = item*self.batch_size + self.batch_size\n",
    "        return self._X[p0:p1], self._y[p0:p1]        \n",
    "    def __iter__(self):\n",
    "        self._counter = 0\n",
    "        return self\n",
    "    def __next__(self):\n",
    "        if self._counter >= self._stop:\n",
    "            raise StopIteration()\n",
    "        p0 = self._counter*self.batch_size\n",
    "        p1 = self._counter*self.batch_size + self.batch_size\n",
    "        self._counter += 1\n",
    "        return self._X[p0:p1], self._y[p0:p1]"
   ]
  },
  {
   "cell_type": "markdown",
   "metadata": {},
   "source": [
    ">このクラスをインスタンス化し、for文を使うことでミニバッチが取り出せます。"
   ]
  },
  {
   "cell_type": "code",
   "execution_count": 15,
   "metadata": {},
   "outputs": [],
   "source": [
    "#get_mini_batch = GetMiniBatch(X_train, y_train, batch_size=20)\n",
    "#print(len(get_mini_batch)) # 2400\n",
    "#print(get_mini_batch[5]) # 5番目のミニバッチが取得できる\n",
    "#for mini_X_train, mini_y_train in get_mini_batch:\n",
    "#    # このfor文内でミニバッチが使える\n",
    "    \n",
    "#    pass"
   ]
  },
  {
   "cell_type": "markdown",
   "metadata": {},
   "source": [
    "## 【問題1】重みの初期値を決めるコードの作成  \n",
    ">ニューラルネットワークの各層の重みの初期値を決めるコードを作成してください。\n",
    ">\n",
    ">\n",
    ">重みの初期値は様々な方法が提案されていますが、今回はガウス分布による単純な初期化を行います。バイアスに関しても同様です。\n",
    ">\n",
    ">以下のコードを参考にしてください。標準偏差の値sigmaはハイパーパラメータです。発展的な重みの初期化方法については次のSprintで扱います。"
   ]
  },
  {
   "cell_type": "markdown",
   "metadata": {},
   "source": [
    "ScratchSimpleNeuralNetrowkClassifier()クラス内に　initial_value　メソッドを作成。"
   ]
  },
  {
   "cell_type": "code",
   "execution_count": 16,
   "metadata": {},
   "outputs": [],
   "source": [
    "neural_netrowk = ScratchSimpleNeuralNetrowkClassifier()\n",
    "neural_netrowk.initial_value()"
   ]
  },
  {
   "cell_type": "markdown",
   "metadata": {},
   "source": [
    "## 【問題2】フォワードプロパゲーションの実装"
   ]
  },
  {
   "cell_type": "markdown",
   "metadata": {},
   "source": [
    "ScratchSimpleNeuralNetrowkClassifier()クラス内に　forward　メソッドを作成。"
   ]
  },
  {
   "cell_type": "code",
   "execution_count": 17,
   "metadata": {},
   "outputs": [],
   "source": [
    "get_mini_batch = GetMiniBatch(X_train, y_train, batch_size=20)\n",
    "mini_X_train, mini_y_train = get_mini_batch[0]\n",
    "\n",
    "# ミニバッチ１個分の処理\n",
    "neural_netrowk.forward(mini_X_train, mini_y_train, X_val=None, y_val=None)"
   ]
  },
  {
   "cell_type": "markdown",
   "metadata": {},
   "source": [
    "## 【問題3】交差エントロピー誤差の実装  \n",
    ">目的関数（損失関数）を作成します。\n",
    ">\n",
    ">多クラス分類の目的関数である交差エントロピー誤差 Lは次の数式です。\n",
    ">\n",
    ">$\n",
    "L = - \\frac{1}{n_b}\\sum_{j}^{n_b}\\sum_{k}^{n_c}y_{jk} log(z_{3\\_jk})\n",
    "$\n",
    ">\n",
    ">yij  : j 番目のサンプルの k 番目のクラスの正解ラベル（one-hot表現で0か1のスカラー）\n",
    ">\n",
    ">z3ij : j 番目のサンプルの k 番目のクラスの確率（スカラー）\n",
    ">\n",
    ">nb : バッチサイズ、batch_size\n",
    ">\n",
    ">nc : クラスの数、n_output（今回のMNISTでは10）\n",
    ">\n",
    ">サンプル1つあたりの誤差が求まります。"
   ]
  },
  {
   "cell_type": "markdown",
   "metadata": {},
   "source": [
    "上記、forward　メソッド内に作成。"
   ]
  },
  {
   "cell_type": "code",
   "execution_count": 18,
   "metadata": {},
   "outputs": [],
   "source": [
    "# 同上"
   ]
  },
  {
   "cell_type": "markdown",
   "metadata": {},
   "source": [
    "## 【問題4】バックプロパゲーションの実装  \n",
    ">三層のニューラルネットワークのバックプロパゲーションを作成してください。  \n",
    ">確率的勾配降下法を行う部分です。\n",
    "\n"
   ]
  },
  {
   "cell_type": "markdown",
   "metadata": {},
   "source": [
    "ScratchSimpleNeuralNetrowkClassifier()クラス内に　backward　メソッドを作成。"
   ]
  },
  {
   "cell_type": "code",
   "execution_count": 19,
   "metadata": {},
   "outputs": [],
   "source": [
    "#  ミニバッチ１個分の処理\n",
    "neural_netrowk.backward(mini_X_train, mini_y_train, alpha = 0.01, X_val=None, y_val=None)"
   ]
  },
  {
   "cell_type": "markdown",
   "metadata": {},
   "source": [
    "## 【問題5】推定  \n",
    ">推定を行うメソッドを作成してください。\n",
    ">\n",
    ">フォワードプロパゲーションによって出力された10個の確率の中で、最も高いものはどれかを判定します。\n",
    ">\n",
    ">numpy.argmax — NumPy v1.17 Manual"
   ]
  },
  {
   "cell_type": "markdown",
   "metadata": {},
   "source": [
    "ScratchSimpleNeuralNetrowkClassifier()クラス内に　predict　メソッドを作成。"
   ]
  },
  {
   "cell_type": "code",
   "execution_count": 20,
   "metadata": {},
   "outputs": [
    {
     "name": "stdout",
     "output_type": "stream",
     "text": [
      "[4 4 4 ... 4 4 4]\n"
     ]
    }
   ],
   "source": [
    "#  ミニバッチ１個分\n",
    "y_pred = neural_netrowk.predict(X_val)\n",
    "#np.set_printoptions(threshold=np.inf)\n",
    "\n",
    "print(y_pred)"
   ]
  },
  {
   "cell_type": "markdown",
   "metadata": {},
   "source": [
    "## 【問題6】学習と推定  \n",
    ">MNISTのデータを学習・推定し、Accuracyを計算してください。"
   ]
  },
  {
   "cell_type": "markdown",
   "metadata": {},
   "source": [
    "学習  \n",
    "fitメソッド内にミニバッチ処理を実装。for文でループさせる。"
   ]
  },
  {
   "cell_type": "code",
   "execution_count": 53,
   "metadata": {},
   "outputs": [
    {
     "name": "stdout",
     "output_type": "stream",
     "text": [
      "\n"
     ]
    }
   ],
   "source": [
    "neural_netrowk_q6 = ScratchSimpleNeuralNetrowkClassifier(function = 'tanh')#sigmoid\n",
    "neural_netrowk_q6.fit(X_train, y_train, iteration=25, alpha = 0.0001, X_val=X_val, y_val=y_val)\n"
   ]
  },
  {
   "cell_type": "markdown",
   "metadata": {},
   "source": [
    "推測"
   ]
  },
  {
   "cell_type": "code",
   "execution_count": 54,
   "metadata": {},
   "outputs": [
    {
     "name": "stdout",
     "output_type": "stream",
     "text": [
      "[7 6 9 ... 0 9 5]\n"
     ]
    }
   ],
   "source": [
    "y_pred_q6 = neural_netrowk_q6.predict(X_val)\n",
    "#np.set_printoptions(threshold=np.inf)\n",
    "\n",
    "print(y_pred_q6)"
   ]
  },
  {
   "cell_type": "markdown",
   "metadata": {},
   "source": [
    "正解ラベル  \n",
    "ワンホットエンコーディングしたラベル y_test を、np.argmax を使ってdecode したもの。"
   ]
  },
  {
   "cell_type": "code",
   "execution_count": 55,
   "metadata": {},
   "outputs": [
    {
     "name": "stdout",
     "output_type": "stream",
     "text": [
      "[7 6 9 ... 0 9 5]\n"
     ]
    }
   ],
   "source": [
    "print(y_test_decode)"
   ]
  },
  {
   "cell_type": "markdown",
   "metadata": {},
   "source": [
    "精度を計算。"
   ]
  },
  {
   "cell_type": "code",
   "execution_count": 56,
   "metadata": {},
   "outputs": [
    {
     "data": {
      "text/plain": [
       "0.7686666666666667"
      ]
     },
     "execution_count": 56,
     "metadata": {},
     "output_type": "execute_result"
    }
   ],
   "source": [
    "from sklearn.metrics import accuracy_score\n",
    "accuracy_score(y_test_decode, y_pred_q6)"
   ]
  },
  {
   "cell_type": "markdown",
   "metadata": {},
   "source": [
    "## 【問題7】学習曲線のプロット  \n",
    ">学習曲線をプロットしてください。\n",
    ">\n",
    ">ニューラルネットワークは過学習が発生しやすいため、学習曲線の確認が重要です。  \n",
    ">訓練データと検証データに対するエポックごとの損失（交差エントロピー誤差）を記録できるようにする必要があります。"
   ]
  },
  {
   "cell_type": "code",
   "execution_count": 58,
   "metadata": {},
   "outputs": [
    {
     "data": {
      "text/plain": [
       "<matplotlib.legend.Legend at 0x7fea1e413d10>"
      ]
     },
     "execution_count": 58,
     "metadata": {},
     "output_type": "execute_result"
    },
    {
     "data": {
      "image/png": "[encoded data removed]",
      "text/plain": [
       "<Figure size 432x288 with 1 Axes>"
      ]
     },
     "metadata": {
      "needs_background": "light"
     },
     "output_type": "display_data"
    }
   ],
   "source": [
    "# エポックごと\n",
    "loss_function_epoch = neural_netrowk_q6.L_list\n",
    "loss_function_epoch_val = neural_netrowk_q6.L_list_val\n",
    "plt.title('Loss function - Epoch')\n",
    "plt.xlabel('Epoch')\n",
    "plt.ylabel('Loss')\n",
    "plt.plot(loss_function_epoch, label='train_loss')#, color='b'\n",
    "plt.plot(loss_function_epoch_val, label='val_loss')# color='b'\n",
    "plt.legend(loc='best')"
   ]
  },
  {
   "cell_type": "markdown",
   "metadata": {},
   "source": [
    "## 【問題8】（アドバンス課題）誤分類の確認 \n",
    ">誤分類した画像はどのようなものだったかを確認してください。推定値を用意し、以下のコードを実行してください。"
   ]
  },
  {
   "cell_type": "code",
   "execution_count": 59,
   "metadata": {},
   "outputs": [
    {
     "data": {
      "image/png": "[encoded data removed]",
      "text/plain": [
       "<Figure size 432x432 with 36 Axes>"
      ]
     },
     "metadata": {},
     "output_type": "display_data"
    }
   ],
   "source": [
    "#以下の通り変更\n",
    "#y_pred=y_pred_q6_q6\n",
    "#y_val=y_test_decode\n",
    "#X_val=X_val\n",
    "\n",
    "\"\"\"\n",
    "語分類結果を並べて表示する。画像の上の表示は「推定結果/正解」である。\n",
    "\n",
    "Parameters:\n",
    "----------\n",
    "y_pred_q6 : 推定値のndarray (n_samples,)\n",
    "y_test_decode : 検証データの正解ラベル(n_samples,)\n",
    "X_val : 検証データの特徴量（n_samples, n_features)\n",
    "\"\"\"\n",
    "import numpy as np\n",
    "import matplotlib.pyplot as plt\n",
    "num = 36 # いくつ表示するか\n",
    "true_false = y_pred_q6==y_test_decode\n",
    "false_list = np.where(true_false==False)[0].astype(np.int)\n",
    "if false_list.shape[0] < num:\n",
    "    num = false_list.shape[0]\n",
    "fig = plt.figure(figsize=(6, 6))\n",
    "fig.subplots_adjust(left=0, right=0.8,  bottom=0, top=0.8, hspace=1, wspace=0.5)\n",
    "for i in range(num):\n",
    "    ax = fig.add_subplot(6, 6, i + 1, xticks=[], yticks=[])\n",
    "    ax.set_title(\"{} / {}\".format(y_pred_q6[false_list[i]],y_test_decode[false_list[i]]))\n",
    "    ax.imshow(X_val.reshape(-1,28,28)[false_list[i]], cmap='gray')"
   ]
  },
  {
   "cell_type": "markdown",
   "metadata": {},
   "source": [
    "以上"
   ]
  }
 ],
 "metadata": {
  "kernelspec": {
   "display_name": "Python 3",
   "language": "python",
   "name": "python3"
  },
  "language_info": {
   "codemirror_mode": {
    "name": "ipython",
    "version": 3
   },
   "file_extension": ".py",
   "mimetype": "text/x-python",
   "name": "python",
   "nbconvert_exporter": "python",
   "pygments_lexer": "ipython3",
   "version": "3.7.6"
  }
 },
 "nbformat": 4,
 "nbformat_minor": 4
}
