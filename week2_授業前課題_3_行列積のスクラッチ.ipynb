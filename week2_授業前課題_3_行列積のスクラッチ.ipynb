{
 "cells": [
  {
   "cell_type": "markdown",
   "metadata": {},
   "source": [
    "# Week2 授業前課題3 行列積のスクラッチ  \n",
    "以下のような行列A、Bを考えます。   \n",
    "A=  \n",
    "[-1, 2, 3]  \n",
    "[4, -5, 6]  \n",
    "[7, 8, -9]  \n",
    "B=  \n",
    "[0, 2, 1]  \n",
    "[0, 2, -8]  \n",
    "[2, 9, -1] "
   ]
  },
  {
   "cell_type": "markdown",
   "metadata": {},
   "source": [
    "## 【問題1】行列積を手計算する  \n",
    ">AとBの行列積を手計算で解いてください。  \n",
    ">計算過程もマークダウンテキストを用いて説明してください。"
   ]
  },
  {
   "cell_type": "markdown",
   "metadata": {},
   "source": [
    "### 【問題1】 の解答\n",
    "\n",
    "AB　=  \n",
    "-1×0 + 2×0 + 3×2,&emsp; -1×2 + 2×2 + 3×9,&emsp; -1×1 + 2×-8 + 3×-1  \n",
    "4×0 + -5×0 + 6×2,&emsp; 4×2 + -5×2 + 6×9,&emsp; 4×1 + -5×-8 + 6×-1  \n",
    "7×0 + 8×0 + -9×2,&emsp; 7×2 + 8×2 + -9×9,&emsp; 7×1 + 8×-8 + -9×-1  \n",
    "\n",
    "答え：  \n",
    "&nbsp;&nbsp;6&nbsp;&nbsp;&nbsp;29&nbsp;&nbsp;-20  \n",
    "&nbsp;12&nbsp;&nbsp;&nbsp;52&nbsp;&nbsp;38  \n",
    "-18&nbsp;-51&nbsp;-48  "
   ]
  },
  {
   "cell_type": "markdown",
   "metadata": {},
   "source": [
    "## 【問題2】NumPyの関数による計算  \n",
    ">この行列積はNumPyのnp.matmul()やnp.dot()、または@演算子を使うことで簡単に計算できます。  \n",
    ">これらを使い行列積を計算してください。"
   ]
  },
  {
   "cell_type": "code",
   "execution_count": 91,
   "metadata": {},
   "outputs": [
    {
     "name": "stdout",
     "output_type": "stream",
     "text": [
      "np.matmulによる行列積の結果は：\n",
      "[[  6  29 -20]\n",
      " [ 12  52  38]\n",
      " [-18 -51 -48]]\n",
      "np.dotによる行列積の結果は：\n",
      "[[  6  29 -20]\n",
      " [ 12  52  38]\n",
      " [-18 -51 -48]]\n",
      "@演算子による行列積の結果は：\n",
      "[[  6  29 -20]\n",
      " [ 12  52  38]\n",
      " [-18 -51 -48]]\n"
     ]
    }
   ],
   "source": [
    "# np.matmulによる行列積\n",
    "x_ndarray_matmul = np.matmul(a_ndarray , b_ndarray)\n",
    "\n",
    "# np.dotによる行列積\n",
    "x_ndarray_dot = np.dot(a_ndarray , b_ndarray)\n",
    "\n",
    "# @演算子による行列積\n",
    "x_ndarray_at = a_ndarray@b_ndarray\n",
    "\n",
    "# 解答\n",
    "print(\"np.matmulによる行列積の結果は：\\n{}\".format(x_ndarray_matmul))\n",
    "print(\"np.dotによる行列積の結果は：\\n{}\".format(x_ndarray_dot))\n",
    "print(\"@演算子による行列積の結果は：\\n{}\".format(x_ndarray_at))\n"
   ]
  },
  {
   "cell_type": "markdown",
   "metadata": {},
   "source": [
    "## 【問題3】ある要素の計算を実装  \n",
    ">手計算をする際はまず行列Aの0行目と行列Bの0列目に注目し、以下の計算を行ったかと思います。  \n",
    ">行列Aの(0,0)の要素 a0,0 と行列Bの(0,0)の要素 b0,0 を掛け合わせる  \n",
    ">行列Aの(0,1)の要素 a0,1 と行列Bの(1,0)の要素 b1,0 を掛け合わせる  \n",
    ">行列Aの(0,2)の要素 a0,2 と行列Bの(2,0)の要素 b2,0 を掛け合わせる  \n",
    ">それらの値を全て足し合わせる  \n",
    ">\n",
    ">数式で表すと  \n",
    ">\n",
    ">&nbsp;2  \n",
    ">&nbsp;∑&nbsp;&nbsp;a<sub>0,k</sub>&nbsp;b<sub>k,0</sub>  \n",
    ">k=0  \n",
    ">\n",
    ">です。  \n",
    ">\n",
    ">この計算をnp.matmul()やnp.dot()、または@演算子を使わずに行うコードを書いてください。"
   ]
  },
  {
   "cell_type": "code",
   "execution_count": 96,
   "metadata": {},
   "outputs": [
    {
     "name": "stdout",
     "output_type": "stream",
     "text": [
      "numpyの関数を使わずに計算した行列積(0, 0)の結果は：6\n"
     ]
    }
   ],
   "source": [
    "# 行列Aの行数を入れる変数\n",
    "a_i = 0\n",
    "# 行列Bの列数を入れる変数\n",
    "b_j = 0\n",
    "\n",
    "# ABの行列積（0,　0）の計算\n",
    "x_ai0_b0j = a_ndarray[a_i, 0]*b_ndarray[0, b_j]\n",
    "x_ai1_b1j = a_ndarray[a_i, 1]*b_ndarray[1, b_j]\n",
    "x_ai2_b2j  = a_ndarray[a_i, 2]*b_ndarray[2, b_j]\n",
    "x_00 = x_ai0_b0j + x_ai1_b1j + x_ai2_b2j\n",
    "\n",
    "\n",
    "# 解答\n",
    "print(\"numpyの関数を使わずに計算した行列積(0, 0)の結果は：{}\".format(x_00))\n"
   ]
  },
  {
   "cell_type": "markdown",
   "metadata": {},
   "source": [
    "## 【問題4】行列積を行う関数の作成  \n",
    ">問題3のコードを拡張し、行列積のスクラッチ実装を完成させてください。行列AとBを引数に受け取り、行列積を返す関数としてください。  \n",
    ">行列積を計算する場合は、問題3の計算を異なる行や列に対して繰り返していくことになります。  \n",
    ">\n",
    ">計算結果である 3×3 の行列Cの各要素 ci,j は数式で表すと次のようになります。  \n",
    ">\n",
    ">&nbsp;&nbsp;&nbsp;&nbsp;&nbsp;&nbsp;&nbsp;&nbsp;2  \n",
    ">c<sub>i,j</sub>&nbsp;=&nbsp;∑&nbsp;&nbsp;a<sub>i,k</sub>b<sub>k,j</sub>  \n",
    ">&nbsp;&nbsp;&nbsp;&nbsp;&nbsp;&nbsp;k=0  \n",
    ">\n",
    ">for文を使い、ndarrayのインデックスを動かしていくことで、合計9つの要素が計算できます。インデックス i や j を1増やすと、次の行や列に移ることができます。  \n",
    "\n"
   ]
  },
  {
   "cell_type": "code",
   "execution_count": 93,
   "metadata": {},
   "outputs": [
    {
     "name": "stdout",
     "output_type": "stream",
     "text": [
      "numpy関数を使わないスクラッチによる行列積の結果は：\n",
      "[[  6  29 -20]\n",
      " [ 12  52  38]\n",
      " [-18 -51 -48]]\n"
     ]
    }
   ],
   "source": [
    "import numpy as np\n",
    "\n",
    "\n",
    "def tensor_calculator(a_ndarray, b_ndarray):\n",
    "    \"\"\"\n",
    "    n行m列の”１から倍ずつ増えていく数列”のndarray（多次元配列）を作成する関数。\n",
    "    \n",
    "    Parameteres\n",
    "    --------------\n",
    "    a_ndarray:  ndarray（int, float）\n",
    "        積を求めたい行列\n",
    "    b_ndarray:  ndarray（int, float）\n",
    "        積を求めたい行列\n",
    "        \n",
    "    Returns\n",
    "    x_ndarray: ndarray\n",
    "        計算結果の２次元配列\n",
    "    --------------\n",
    "    none\n",
    "    \"\"\"\n",
    "    # 解答用の行列を入れる空リスト作成\n",
    "    x = []\n",
    "\n",
    "    # 計算\n",
    "    for a_i in range(len(a_ndarray[:,0])):\n",
    "        # １行分の計算結果を入れる空リストを作成\n",
    "        x_row = []\n",
    "        # 内積\n",
    "        for b_j in range(len(b_ndarray[0,:])):\n",
    "            x_0j = a_ndarray[a_i, 0]*b_ndarray[0, b_j]\n",
    "            x_1j = a_ndarray[a_i, 1]*b_ndarray[1, b_j]\n",
    "            x_2j = a_ndarray[a_i, 2]*b_ndarray[2, b_j]\n",
    "            x_row.append(x_0j + x_1j + x_2j)\n",
    "        # １行分の計算が終わったので、解答用のリストに入れる\n",
    "        x.append(x_row)\n",
    "\n",
    "    # numpyのndarrayに変換\n",
    "    x_ndarray = np.array(x)\n",
    "    \n",
    "    return x_ndarray\n",
    "\n",
    "\n",
    "# 計算したい配列を定義\n",
    "a_ndarray = np.array([[-1, 2, 3], [4, -5, 6], [7, 8, -9]])\n",
    "b_ndarray = np.array([[0, 2, 1], [0, 2, -8], [2, 9, -1]])\n",
    "\n",
    "# 作成したtensor_calculator関数で行列積を計算\n",
    "x_ndarray = tensor_calculator(a_ndarray, b_ndarray)\n",
    "\n",
    "# 解答\n",
    "print(\"numpy関数を使わないスクラッチによる行列積の結果は：\\n{}\".format(x_ndarray))\n"
   ]
  },
  {
   "cell_type": "markdown",
   "metadata": {},
   "source": [
    "## 【問題5】計算が定義されない入力を判定する  \n",
    "\n",
    ">問題4で作成した関数は、実装方法によってはこのDとEの配列を入力しても動いてしまう可能性があります。この場合、不適切な計算が行われることになります。また、途中でエラーになる場合でも、なぜエラーになったかが直接的には分かりづらいメッセージが表示されます。  \n",
    ">if文などによってこれを防ぎ、入力される形に問題があることをprint()を使い表示するコードを書き加えてください。"
   ]
  },
  {
   "cell_type": "code",
   "execution_count": 94,
   "metadata": {},
   "outputs": [
    {
     "name": "stdout",
     "output_type": "stream",
     "text": [
      "ERROR : かけられる側の列数とかける側の行数が等しくありません。\n",
      "numpy関数を使わないスクラッチによる行列積の結果は：\n",
      "None\n"
     ]
    }
   ],
   "source": [
    "import numpy as np\n",
    "\n",
    "\n",
    "def tensor_calculator(a_ndarray, b_ndarray):\n",
    "    \"\"\"\n",
    "    n行m列の”１から倍ずつ増えていく数列”のndarray（多次元配列）を作成する関数。\n",
    "    \n",
    "    Parameteres\n",
    "    --------------\n",
    "    a_ndarray:  ndarray（int, float）\n",
    "        積を求めたい行列（かけられる側）\n",
    "    b_ndarray:  ndarray（int, float）\n",
    "        積を求めたい行列（かける側）\n",
    "        \n",
    "    Returns\n",
    "    x_ndarray: ndarray\n",
    "        計算結果の２次元配列\n",
    "    --------------\n",
    "    none\n",
    "    \"\"\"\n",
    "    # 計算実行判定用配列\n",
    "    avoid_calculation = False\n",
    "    \n",
    "    # 計算可能か判定するために行列サイズ取得\n",
    "    a_column_count = len(a_ndarray[0,:])\n",
    "    b_row_count = len(b_ndarray[:,0])\n",
    "    \n",
    "    #　 かけられる側の列数とかける側の行数が等しいかチェック\n",
    "    if a_column_count != b_row_count:\n",
    "        avoid_calculation = True\n",
    "    \n",
    "    # 入力された行列が計算可能な形状ならば計算実施\n",
    "    if not avoid_calculation:\n",
    "        # 解答用の行列を入れる空リスト作成\n",
    "        x = []\n",
    "\n",
    "        # 計算\n",
    "        for a_i in range(len(a_ndarray[:,0])):\n",
    "            # １行分の計算結果を入れる空リストを作成\n",
    "            x_row = []\n",
    "            # 内積\n",
    "            for b_j in range(len(b_ndarray[0,:])):\n",
    "                x_0j = a_ndarray[a_i, 0]*b_ndarray[0, b_j]\n",
    "                x_1j = a_ndarray[a_i, 1]*b_ndarray[1, b_j]\n",
    "                x_2j = a_ndarray[a_i, 2]*b_ndarray[2, b_j]\n",
    "                x_row.append(x_0j + x_1j + x_2j)\n",
    "            # １行分の計算が終わったので、解答用のリストに入れる\n",
    "            x.append(x_row)\n",
    "\n",
    "        # numpyのndarrayに変換\n",
    "        x_ndarray = np.array(x)\n",
    "\n",
    "        return x_ndarray\n",
    "                      \n",
    "    else:\n",
    "        print(\"ERROR : かけられる側の列数とかける側の行数が等しくありません。\")\n",
    "\n",
    "\n",
    "# 計算したい配列を定義\n",
    "# a_ndarray = np.array([[-1, 2, 3], [4, -5, 6], [7, 8, -9]])\n",
    "# b_ndarray = np.array([[0, 2, 1], [0, 2, -8], [2, 9, -1]])\n",
    "d_ndarray= np.array([[-1, 2, 3], [4, -5, 6]])\n",
    "e_ndarray = np.array([[-9, 8, 7], [6, -5, 4]])\n",
    "\n",
    "# 作成したtensor_calculator関数で行列積を計算\n",
    "x_ndarray = tensor_calculator(d_ndarray, e_ndarray)\n",
    "\n",
    "# 解答\n",
    "print(\"numpy関数を使わないスクラッチによる行列積の結果は：\\n{}\".format(x_ndarray))"
   ]
  },
  {
   "cell_type": "markdown",
   "metadata": {},
   "source": [
    "## 【問題6】転置  \n",
    ">片方の行列を転置することで、行列積が計算できるようになります。  \n",
    ">np.transpose()や.Tアトリビュートを用いて転置し、行列積を計算してください。"
   ]
  },
  {
   "cell_type": "code",
   "execution_count": 1,
   "metadata": {},
   "outputs": [
    {
     "name": "stdout",
     "output_type": "stream",
     "text": [
      "WARNING : 行列が転置されました。\n",
      "numpy関数を使わないスクラッチによる行列積の結果は：\n",
      "[[ 46  -4]\n",
      " [-34  73]]\n"
     ]
    }
   ],
   "source": [
    "import numpy as np\n",
    "\n",
    "\n",
    "def tensor_calculator(a_ndarray, b_ndarray):\n",
    "    \"\"\"\n",
    "    n行m列の”１から倍ずつ増えていく数列”のndarray（多次元配列）を作成する関数。\n",
    "    \n",
    "    Parameteres\n",
    "    --------------\n",
    "    a_ndarray:  ndarray（int, float）\n",
    "        積を求めたい行列（かけられる側）\n",
    "    b_ndarray:  ndarray（int, float）\n",
    "        積を求めたい行列（かける側）\n",
    "        \n",
    "    Returns\n",
    "    x_ndarray: ndarray\n",
    "        計算結果の２次元配列\n",
    "    --------------\n",
    "    none\n",
    "    \"\"\"\n",
    "    # 計算実行判定用配列\n",
    "    avoid_calculation = False\n",
    "    \n",
    "    # 計算可能か判定するために行列サイズ取得\n",
    "    a_column_count = len(a_ndarray[0,:])\n",
    "    b_row_count = len(b_ndarray[:,0])\n",
    "    b_column_count = len(b_ndarray[0,:])\n",
    "    \n",
    "    #　 かけられる側の列数とかける側の行数が等しいかチェック\n",
    "    if a_column_count != b_row_count:\n",
    "        if  a_column_count == b_column_count:\n",
    "            b_ndarray = b_ndarray.T\n",
    "            print(\"WARNING : 行列が転置されました。\")\n",
    "        else:\n",
    "            avoid_calculation = True\n",
    "    \n",
    "    # 入力された行列が計算可能な形状ならば計算実施\n",
    "    if not avoid_calculation:\n",
    "        # 解答用の行列を入れる空リスト作成\n",
    "        x = []\n",
    "\n",
    "        # 計算\n",
    "        for a_i in range(len(a_ndarray[:,0])):\n",
    "            # １行分の計算結果を入れる空リストを作成\n",
    "            x_row = []\n",
    "            # 内積\n",
    "            for b_j in range(len(b_ndarray[0,:])):\n",
    "                x_0j = a_ndarray[a_i, 0]*b_ndarray[0, b_j]\n",
    "                x_1j = a_ndarray[a_i, 1]*b_ndarray[1, b_j]\n",
    "                x_2j = a_ndarray[a_i, 2]*b_ndarray[2, b_j]\n",
    "                x_row.append(x_0j + x_1j + x_2j)\n",
    "            # １行分の計算が終わったので、解答用のリストに入れる\n",
    "            x.append(x_row)\n",
    "\n",
    "        # numpyのndarrayに変換\n",
    "        x_ndarray = np.array(x)\n",
    "\n",
    "        return x_ndarray\n",
    "                      \n",
    "    else:\n",
    "        print(\"ERROR : かけられる側の列数とかける側の行数が等しくありません。\")\n",
    "\n",
    "\n",
    "# 計算したい配列を定義\n",
    "# a_ndarray = np.array([[-1, 2, 3], [4, -5, 6], [7, 8, -9]])\n",
    "# b_ndarray = np.array([[0, 2, 1], [0, 2, -8], [2, 9, -1]])\n",
    "d_ndarray= np.array([[-1, 2, 3], [4, -5, 6]])\n",
    "e_ndarray = np.array([[-9, 8, 7], [6, -5, 4]])\n",
    "\n",
    "# 作成したtensor_calculator関数で行列積を計算\n",
    "x_ndarray = tensor_calculator(d_ndarray, e_ndarray)\n",
    "\n",
    "# 解答\n",
    "print(\"numpy関数を使わないスクラッチによる行列積の結果は：\\n{}\".format(x_ndarray))"
   ]
  }
 ],
 "metadata": {
  "kernelspec": {
   "display_name": "Python 3",
   "language": "python",
   "name": "python3"
  },
  "language_info": {
   "codemirror_mode": {
    "name": "ipython",
    "version": 3
   },
   "file_extension": ".py",
   "mimetype": "text/x-python",
   "name": "python",
   "nbconvert_exporter": "python",
   "pygments_lexer": "ipython3",
   "version": "3.7.6"
  }
 },
 "nbformat": 4,
 "nbformat_minor": 4
}
