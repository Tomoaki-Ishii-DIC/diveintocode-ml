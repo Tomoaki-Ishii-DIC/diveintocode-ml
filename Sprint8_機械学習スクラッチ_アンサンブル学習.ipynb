{
 "cells": [
  {
   "cell_type": "markdown",
   "metadata": {},
   "source": [
    "# アンサンブル学習"
   ]
  },
  {
   "cell_type": "markdown",
   "metadata": {},
   "source": [
    "#### 小さなデータセットの用意\n",
    ">以前も利用した回帰のデータセットを用意します。\n",
    ">\n",
    ">House Prices: Advanced Regression Techniques\n",
    ">\n",
    ">この中のtrain.csvをダウンロードし、目的変数としてSalePrice、説明変数として、GrLivAreaとYearBuiltを使います。\n",
    ">\n",
    ">train.csvを学習用（train）8割、検証用（val）2割に分割してください。\n",
    ">\n",
    "#### scikit-learn\n",
    ">単一のモデルはスクラッチ実装ではなく、scikit-learnなどのライブラリの使用を推奨します。"
   ]
  },
  {
   "cell_type": "markdown",
   "metadata": {},
   "source": [
    "## 【問題1】ブレンディングのスクラッチ実装  \n",
    ">ブレンディング をスクラッチ実装し、単一モデルより精度があがる例を 最低3つ 示してください。精度があがるとは、検証用データに対する平均二乗誤差（MSE）が小さくなることを指します。\n",
    "\n"
   ]
  },
  {
   "cell_type": "markdown",
   "metadata": {},
   "source": [
    "### ブレンディングとは\n",
    ">ブレンディングとは、N個の多様なモデルを独立して学習させ、推定結果を重み付けした上で足し合わせる方法です。最も単純には平均をとります。多様なモデルとは、以下のような条件を変化させることで作り出すものです。\n",
    ">\n",
    ">- 手法（例：線形回帰、SVM、決定木、ニューラルネットワークなど）\n",
    ">- ハイパーパラメータ（例：SVMのカーネルの種類、重みの初期値など）\n",
    ">- 入力データの前処理の仕方（例：標準化、対数変換、PCAなど）\n",
    ">\n",
    ">重要なのはそれぞれのモデルが大きく異なることです。\n",
    ">\n",
    ">回帰問題でのブレンディングは非常に単純であるため、scikit-learnには用意されていません。\n",
    ">\n",
    ">《補足》\n",
    ">\n",
    ">分類問題の場合は、多数決を行います。回帰問題に比べると複雑なため、scikit-learnにはVotingClassifierが用意されています。"
   ]
  },
  {
   "cell_type": "code",
   "execution_count": 1,
   "metadata": {},
   "outputs": [],
   "source": [
    "import numpy as np\n",
    "import pandas as pd\n",
    "import matplotlib.pyplot as plt\n",
    "%matplotlib inline"
   ]
  },
  {
   "cell_type": "code",
   "execution_count": 2,
   "metadata": {},
   "outputs": [
    {
     "data": {
      "text/html": [
       "<div>\n",
       "<style scoped>\n",
       "    .dataframe tbody tr th:only-of-type {\n",
       "        vertical-align: middle;\n",
       "    }\n",
       "\n",
       "    .dataframe tbody tr th {\n",
       "        vertical-align: top;\n",
       "    }\n",
       "\n",
       "    .dataframe thead th {\n",
       "        text-align: right;\n",
       "    }\n",
       "</style>\n",
       "<table border=\"1\" class=\"dataframe\">\n",
       "  <thead>\n",
       "    <tr style=\"text-align: right;\">\n",
       "      <th></th>\n",
       "      <th>GrLivArea</th>\n",
       "      <th>YearBuilt</th>\n",
       "      <th>SalePrice</th>\n",
       "    </tr>\n",
       "  </thead>\n",
       "  <tbody>\n",
       "    <tr>\n",
       "      <th>0</th>\n",
       "      <td>1710</td>\n",
       "      <td>2003</td>\n",
       "      <td>208500</td>\n",
       "    </tr>\n",
       "    <tr>\n",
       "      <th>1</th>\n",
       "      <td>1262</td>\n",
       "      <td>1976</td>\n",
       "      <td>181500</td>\n",
       "    </tr>\n",
       "    <tr>\n",
       "      <th>2</th>\n",
       "      <td>1786</td>\n",
       "      <td>2001</td>\n",
       "      <td>223500</td>\n",
       "    </tr>\n",
       "    <tr>\n",
       "      <th>3</th>\n",
       "      <td>1717</td>\n",
       "      <td>1915</td>\n",
       "      <td>140000</td>\n",
       "    </tr>\n",
       "    <tr>\n",
       "      <th>4</th>\n",
       "      <td>2198</td>\n",
       "      <td>2000</td>\n",
       "      <td>250000</td>\n",
       "    </tr>\n",
       "    <tr>\n",
       "      <th>...</th>\n",
       "      <td>...</td>\n",
       "      <td>...</td>\n",
       "      <td>...</td>\n",
       "    </tr>\n",
       "    <tr>\n",
       "      <th>1455</th>\n",
       "      <td>1647</td>\n",
       "      <td>1999</td>\n",
       "      <td>175000</td>\n",
       "    </tr>\n",
       "    <tr>\n",
       "      <th>1456</th>\n",
       "      <td>2073</td>\n",
       "      <td>1978</td>\n",
       "      <td>210000</td>\n",
       "    </tr>\n",
       "    <tr>\n",
       "      <th>1457</th>\n",
       "      <td>2340</td>\n",
       "      <td>1941</td>\n",
       "      <td>266500</td>\n",
       "    </tr>\n",
       "    <tr>\n",
       "      <th>1458</th>\n",
       "      <td>1078</td>\n",
       "      <td>1950</td>\n",
       "      <td>142125</td>\n",
       "    </tr>\n",
       "    <tr>\n",
       "      <th>1459</th>\n",
       "      <td>1256</td>\n",
       "      <td>1965</td>\n",
       "      <td>147500</td>\n",
       "    </tr>\n",
       "  </tbody>\n",
       "</table>\n",
       "<p>1460 rows × 3 columns</p>\n",
       "</div>"
      ],
      "text/plain": [
       "      GrLivArea  YearBuilt  SalePrice\n",
       "0          1710       2003     208500\n",
       "1          1262       1976     181500\n",
       "2          1786       2001     223500\n",
       "3          1717       1915     140000\n",
       "4          2198       2000     250000\n",
       "...         ...        ...        ...\n",
       "1455       1647       1999     175000\n",
       "1456       2073       1978     210000\n",
       "1457       2340       1941     266500\n",
       "1458       1078       1950     142125\n",
       "1459       1256       1965     147500\n",
       "\n",
       "[1460 rows x 3 columns]"
      ]
     },
     "metadata": {},
     "output_type": "display_data"
    }
   ],
   "source": [
    "# データセットcsvをpandasに読み込む\n",
    "\n",
    "csv_path = \"./Kaggle_data/train.csv\" # ファイル名（パス）を指定する\n",
    "df_data = pd.read_csv(csv_path)\n",
    "\n",
    "# 条件に従って抜き出し\n",
    "df_X = df_data[['GrLivArea', 'YearBuilt']]\n",
    "df_y = df_data['SalePrice']\n",
    "\n",
    "df = pd.concat([df_X, df_y], axis=1)\n",
    "\n",
    "display(df)"
   ]
  },
  {
   "cell_type": "code",
   "execution_count": 3,
   "metadata": {},
   "outputs": [
    {
     "name": "stdout",
     "output_type": "stream",
     "text": [
      "[[1710 2003]\n",
      " [1262 1976]\n",
      " [1786 2001]\n",
      " ...\n",
      " [2340 1941]\n",
      " [1078 1950]\n",
      " [1256 1965]]\n",
      "[208500 181500 223500 ... 266500 142125 147500]\n"
     ]
    }
   ],
   "source": [
    "# 特徴量（説明変数）をX、正解（目的変数）をyというndarrayに格納\n",
    "\n",
    "X = np.array(df[['GrLivArea','YearBuilt']])\n",
    "y = np.array(df['SalePrice'])\n",
    "print(X)\n",
    "print(y)"
   ]
  },
  {
   "cell_type": "code",
   "execution_count": 4,
   "metadata": {},
   "outputs": [
    {
     "name": "stdout",
     "output_type": "stream",
     "text": [
      "(1168, 2)\n",
      "(1168,)\n",
      "(292, 2)\n",
      "(292,)\n"
     ]
    }
   ],
   "source": [
    "from sklearn.model_selection import train_test_split\n",
    "\n",
    "X_train, X_test, y_train, y_test = train_test_split(X, y, test_size=0.2, random_state=0)\n",
    "\n",
    "print(X_train.shape)\n",
    "print(y_train.shape)\n",
    "print(X_test.shape)\n",
    "print(y_test.shape)"
   ]
  },
  {
   "cell_type": "code",
   "execution_count": 5,
   "metadata": {},
   "outputs": [],
   "source": [
    "from sklearn.preprocessing import StandardScaler\n",
    "\n",
    "scaler = StandardScaler()\n",
    "scaler.fit(X_train)\n",
    "X_train_scaled = scaler.transform(X_train)\n",
    "X_test_scaled = scaler.transform(X_test)"
   ]
  },
  {
   "cell_type": "code",
   "execution_count": 6,
   "metadata": {},
   "outputs": [],
   "source": [
    "from sklearn.neighbors import KNeighborsClassifier\n",
    "from sklearn.linear_model import SGDClassifier\n",
    "from sklearn.svm import SVC\n",
    "from sklearn.tree import DecisionTreeClassifier\n",
    "from sklearn.metrics import mean_squared_error"
   ]
  },
  {
   "cell_type": "code",
   "execution_count": 7,
   "metadata": {},
   "outputs": [
    {
     "name": "stdout",
     "output_type": "stream",
     "text": [
      "今回のベースライン\n"
     ]
    },
    {
     "data": {
      "text/html": [
       "<div>\n",
       "<style scoped>\n",
       "    .dataframe tbody tr th:only-of-type {\n",
       "        vertical-align: middle;\n",
       "    }\n",
       "\n",
       "    .dataframe tbody tr th {\n",
       "        vertical-align: top;\n",
       "    }\n",
       "\n",
       "    .dataframe thead th {\n",
       "        text-align: right;\n",
       "    }\n",
       "</style>\n",
       "<table border=\"1\" class=\"dataframe\">\n",
       "  <thead>\n",
       "    <tr style=\"text-align: right;\">\n",
       "      <th></th>\n",
       "      <th>Model</th>\n",
       "      <th>平均二乗誤差（MSE）</th>\n",
       "    </tr>\n",
       "  </thead>\n",
       "  <tbody>\n",
       "    <tr>\n",
       "      <th>0</th>\n",
       "      <td>k-nearest neighbors</td>\n",
       "      <td>4.256201e+09</td>\n",
       "    </tr>\n",
       "    <tr>\n",
       "      <th>1</th>\n",
       "      <td>LinearRegression</td>\n",
       "      <td>5.991151e+09</td>\n",
       "    </tr>\n",
       "    <tr>\n",
       "      <th>2</th>\n",
       "      <td>SVM</td>\n",
       "      <td>2.673653e+09</td>\n",
       "    </tr>\n",
       "    <tr>\n",
       "      <th>3</th>\n",
       "      <td>DecisionTree</td>\n",
       "      <td>3.551295e+09</td>\n",
       "    </tr>\n",
       "  </tbody>\n",
       "</table>\n",
       "</div>"
      ],
      "text/plain": [
       "                 Model   平均二乗誤差（MSE）\n",
       "0  k-nearest neighbors  4.256201e+09\n",
       "1     LinearRegression  5.991151e+09\n",
       "2                  SVM  2.673653e+09\n",
       "3         DecisionTree  3.551295e+09"
      ]
     },
     "metadata": {},
     "output_type": "display_data"
    }
   ],
   "source": [
    "# 精度の一覧表用の空のリストを用意\n",
    "verification_result = []\n",
    "\n",
    "\n",
    "#最近傍法\n",
    "verification_neigh = ['k-nearest neighbors']\n",
    "\n",
    "# 近傍点を５に設定して学習\n",
    "neigh_baseline = KNeighborsClassifier(n_neighbors=5)# インスタンス化\n",
    "neigh_baseline.fit(X_train_scaled, y_train)# 学習\n",
    "y_pred_n = neigh_baseline.predict(X_test_scaled)# 予測\n",
    "\n",
    "# 平均二乗誤差（Mean Squared Error, MSE）    \n",
    "verification_neigh.append(mean_squared_error(y_test,  y_pred_n))\n",
    "\n",
    "\n",
    "# 線形回帰\n",
    "verification_linear = ['LinearRegression']\n",
    "\n",
    "linear_baseline = SGDClassifier()\n",
    "linear_baseline.fit(X_train_scaled, y_train)\n",
    "y_pred_li = linear_baseline.predict(X_test_scaled)\n",
    "\n",
    "# 平均二乗誤差（Mean Squared Error, MSE）    \n",
    "verification_linear.append(mean_squared_error(y_test,  y_pred_li))\n",
    "\n",
    "\n",
    "\n",
    "# SVM\n",
    "verification_svm = ['SVM']\n",
    "\n",
    "svm_baseline = SVC()\n",
    "svm_baseline.fit(X_train_scaled, y_train)\n",
    "y_pred_s = svm_baseline.predict(X_test_scaled)\n",
    "\n",
    "# 平均二乗誤差（Mean Squared Error, MSE）\n",
    "verification_svm.append(mean_squared_error(y_test, y_pred_s))\n",
    "\n",
    "\n",
    "\n",
    "# 決定木\n",
    "verification_tree = ['DecisionTree']\n",
    "\n",
    "tree_baseline = DecisionTreeClassifier()\n",
    "tree_baseline.fit(X_train_scaled, y_train)\n",
    "y_pred_t = tree_baseline.predict(X_test_scaled)\n",
    "\n",
    "# 平均二乗誤差（Mean Squared Error, MSE）\n",
    "verification_tree.append(mean_squared_error(y_test, y_pred_t))\n",
    "\n",
    "\n",
    "\n",
    "# 表を作成するために計算結果を２次元配列にする\n",
    "verification_result = [\n",
    "            verification_neigh,\n",
    "            verification_linear, \n",
    "            verification_svm, \n",
    "            verification_tree, \n",
    "        ]\n",
    "\n",
    "\n",
    "# 行と列のインデックスようのリストを用意\n",
    "data_columns=['Model', '平均二乗誤差（MSE）']\n",
    "\n",
    "# pandas のデータフレームにする\n",
    "df_verification = pd.DataFrame(data=verification_result, columns=data_columns)\n",
    "\n",
    "print(\"今回のベースライン\")\n",
    "display(df_verification)\n"
   ]
  },
  {
   "cell_type": "markdown",
   "metadata": {},
   "source": [
    "SVM、決定木、最近傍法、線形回帰の順に精度が高い。"
   ]
  },
  {
   "cell_type": "code",
   "execution_count": 8,
   "metadata": {},
   "outputs": [],
   "source": [
    "class ScratchEnsembleLearning():\n",
    "    \"\"\"\n",
    "    アンサンブル学習\n",
    "\n",
    "    Parameters\n",
    "    ----------\n",
    "    verbose : bool\n",
    "      学習過程を出力する場合はTrue\n",
    "      \n",
    "    Attributes\n",
    "    ----------\n",
    "    \"\"\"\n",
    "    def __init__(self, verbose=False):\n",
    "        # ハイパーパラメータを属性として記録\n",
    "        self.verbose = verbose\n",
    "        \n",
    "        \n",
    "    def fit(self, X, y, model_instance, weight):\n",
    "        \"\"\"\n",
    "        学習する\n",
    "        Parameters\n",
    "        ----------\n",
    "        X : 次の形のndarray, shape (n_samples, n_features)\n",
    "            訓練データの特徴量\n",
    "        y : 次の形のndarray, shape (n_samples, )\n",
    "            訓練データの正解値\n",
    "        \"\"\"\n",
    "        INSTANCE_0 = model_instance[0]\n",
    "        INSTANCE_1 = model_instance[1]\n",
    "        INSTANCE_2 = model_instance[2]\n",
    "\n",
    "        INSTANCE_0.fit(X, y)\n",
    "        INSTANCE_1.fit(X, y)\n",
    "        INSTANCE_2.fit(X, y)\n",
    "        \n",
    "        self.instance_0 = INSTANCE_0\n",
    "        self.instance_1 = INSTANCE_1\n",
    "        self.instance_2 = INSTANCE_2\n",
    "        \n",
    "        \n",
    "    def predict(self, X):\n",
    "        \"\"\"\n",
    "        推定する\n",
    "        \"\"\"\n",
    "        pred_0 = self.instance_0.predict(X_test)\n",
    "        pred_1 = self.instance_1.predict(X_test)\n",
    "        pred_2 = self.instance_2.predict(X_test)\n",
    "        \n",
    "        pred = (pred_0*weight[0] + pred_1*weight[1] + pred_2*weight[2])#/3\n",
    "        \n",
    "        self.pred = pred\n",
    "        self.pred_0 = pred_0\n",
    "        self.pred_1 = pred_1\n",
    "        self.pred_2 = pred_2\n",
    "        \n",
    "        return pred\n",
    "    \n",
    "    \n",
    "    def MSE(self, y_test, y_pred):\n",
    "        \"\"\"\n",
    "        平均二乗誤差（Mean Squared Error, MSE）\n",
    "        \"\"\"\n",
    "        MSE = mean_squared_error(y_test, y_pred)\n",
    "        \n",
    "        # 精度の一覧表用の空のリストを用意\n",
    "        verification_result = []\n",
    "        MSE_0 = mean_squared_error(y_test, self.pred_0)\n",
    "        MSE_1 = mean_squared_error(y_test, self.pred_1)\n",
    "        MSE_2 = mean_squared_error(y_test, self.pred_2)\n",
    "        \n",
    "        # 表を作成するために計算結果を２次元配列にする\n",
    "        verification_MSE_0 = ['INSTANCE_0', MSE_0]\n",
    "        verification_MSE_1 = ['INSTANCE_1', MSE_1]\n",
    "        verification_MSE_2 = ['INSTANCE_3', MSE_2]\n",
    "        verification_MSE = ['EnsembleLearning', MSE]\n",
    "        verification_result = [\n",
    "                    verification_MSE_0, \n",
    "                    verification_MSE_1, \n",
    "                    verification_MSE_2, \n",
    "                    verification_MSE\n",
    "                ]\n",
    "        # pandas のデータフレームにする\n",
    "        df_verification = pd.DataFrame(data=verification_result, columns=data_columns)\n",
    "        display(df_verification)\n",
    "        \n",
    "        return MSE\n",
    "        "
   ]
  },
  {
   "cell_type": "code",
   "execution_count": 9,
   "metadata": {},
   "outputs": [],
   "source": [
    "# インスタンス化\n",
    "neigh = KNeighborsClassifier(n_neighbors=5)\n",
    "linear = SGDClassifier()\n",
    "svm = SVC()\n",
    "tree = DecisionTreeClassifier()"
   ]
  },
  {
   "cell_type": "markdown",
   "metadata": {},
   "source": [
    "#### パターン１"
   ]
  },
  {
   "cell_type": "code",
   "execution_count": 10,
   "metadata": {},
   "outputs": [
    {
     "data": {
      "text/html": [
       "<div>\n",
       "<style scoped>\n",
       "    .dataframe tbody tr th:only-of-type {\n",
       "        vertical-align: middle;\n",
       "    }\n",
       "\n",
       "    .dataframe tbody tr th {\n",
       "        vertical-align: top;\n",
       "    }\n",
       "\n",
       "    .dataframe thead th {\n",
       "        text-align: right;\n",
       "    }\n",
       "</style>\n",
       "<table border=\"1\" class=\"dataframe\">\n",
       "  <thead>\n",
       "    <tr style=\"text-align: right;\">\n",
       "      <th></th>\n",
       "      <th>Model</th>\n",
       "      <th>平均二乗誤差（MSE）</th>\n",
       "    </tr>\n",
       "  </thead>\n",
       "  <tbody>\n",
       "    <tr>\n",
       "      <th>0</th>\n",
       "      <td>INSTANCE_0</td>\n",
       "      <td>4.038873e+10</td>\n",
       "    </tr>\n",
       "    <tr>\n",
       "      <th>1</th>\n",
       "      <td>INSTANCE_1</td>\n",
       "      <td>8.617359e+09</td>\n",
       "    </tr>\n",
       "    <tr>\n",
       "      <th>2</th>\n",
       "      <td>INSTANCE_3</td>\n",
       "      <td>9.909679e+10</td>\n",
       "    </tr>\n",
       "    <tr>\n",
       "      <th>3</th>\n",
       "      <td>EnsembleLearning</td>\n",
       "      <td>2.354077e+10</td>\n",
       "    </tr>\n",
       "  </tbody>\n",
       "</table>\n",
       "</div>"
      ],
      "text/plain": [
       "              Model   平均二乗誤差（MSE）\n",
       "0        INSTANCE_0  4.038873e+10\n",
       "1        INSTANCE_1  8.617359e+09\n",
       "2        INSTANCE_3  9.909679e+10\n",
       "3  EnsembleLearning  2.354077e+10"
      ]
     },
     "metadata": {},
     "output_type": "display_data"
    },
    {
     "data": {
      "text/plain": [
       "23540767014.166298"
      ]
     },
     "execution_count": 10,
     "metadata": {},
     "output_type": "execute_result"
    }
   ],
   "source": [
    "# 引数\n",
    "model_instance = [linear, svm, tree]\n",
    "weight = [0.3, 0.4, 0.3]\n",
    "\n",
    "# インスタンス化\n",
    "ensemble_learning_1 = ScratchEnsembleLearning()\n",
    "ensemble_learning_1.fit(X_train_scaled, y_train, model_instance, weight)\n",
    "y_pred = ensemble_learning_1.predict(X_test_scaled)\n",
    "ensemble_learning_1.MSE(y_test, y_pred)"
   ]
  },
  {
   "cell_type": "markdown",
   "metadata": {},
   "source": [
    "#### パターン２  \n",
    "SVMがさらに強く出るように比率を変更。また、決定木は誤差が大きいのであまり効かないよう重みを下げた。"
   ]
  },
  {
   "cell_type": "code",
   "execution_count": 11,
   "metadata": {},
   "outputs": [
    {
     "data": {
      "text/html": [
       "<div>\n",
       "<style scoped>\n",
       "    .dataframe tbody tr th:only-of-type {\n",
       "        vertical-align: middle;\n",
       "    }\n",
       "\n",
       "    .dataframe tbody tr th {\n",
       "        vertical-align: top;\n",
       "    }\n",
       "\n",
       "    .dataframe thead th {\n",
       "        text-align: right;\n",
       "    }\n",
       "</style>\n",
       "<table border=\"1\" class=\"dataframe\">\n",
       "  <thead>\n",
       "    <tr style=\"text-align: right;\">\n",
       "      <th></th>\n",
       "      <th>Model</th>\n",
       "      <th>平均二乗誤差（MSE）</th>\n",
       "    </tr>\n",
       "  </thead>\n",
       "  <tbody>\n",
       "    <tr>\n",
       "      <th>0</th>\n",
       "      <td>INSTANCE_0</td>\n",
       "      <td>9.605495e+09</td>\n",
       "    </tr>\n",
       "    <tr>\n",
       "      <th>1</th>\n",
       "      <td>INSTANCE_1</td>\n",
       "      <td>8.617359e+09</td>\n",
       "    </tr>\n",
       "    <tr>\n",
       "      <th>2</th>\n",
       "      <td>INSTANCE_3</td>\n",
       "      <td>9.909679e+10</td>\n",
       "    </tr>\n",
       "    <tr>\n",
       "      <th>3</th>\n",
       "      <td>EnsembleLearning</td>\n",
       "      <td>7.305266e+09</td>\n",
       "    </tr>\n",
       "  </tbody>\n",
       "</table>\n",
       "</div>"
      ],
      "text/plain": [
       "              Model   平均二乗誤差（MSE）\n",
       "0        INSTANCE_0  9.605495e+09\n",
       "1        INSTANCE_1  8.617359e+09\n",
       "2        INSTANCE_3  9.909679e+10\n",
       "3  EnsembleLearning  7.305266e+09"
      ]
     },
     "metadata": {},
     "output_type": "display_data"
    },
    {
     "data": {
      "text/plain": [
       "7305266206.890411"
      ]
     },
     "execution_count": 11,
     "metadata": {},
     "output_type": "execute_result"
    }
   ],
   "source": [
    "# 引数\n",
    "model_instance = [linear, svm, tree]\n",
    "weight = [0.2, 0.7, 0.1]\n",
    "\n",
    "# インスタンス化\n",
    "ensemble_learning_2 = ScratchEnsembleLearning()\n",
    "ensemble_learning_2.fit(X_train_scaled, y_train, model_instance, weight)\n",
    "y_pred = ensemble_learning_2.predict(X_test_scaled)\n",
    "ensemble_learning_2.MSE(y_test, y_pred)"
   ]
  },
  {
   "cell_type": "markdown",
   "metadata": {},
   "source": [
    "#### パターン３  \n",
    "線形回帰をより精度が高い最近傍法に変更。"
   ]
  },
  {
   "cell_type": "code",
   "execution_count": 12,
   "metadata": {},
   "outputs": [
    {
     "data": {
      "text/html": [
       "<div>\n",
       "<style scoped>\n",
       "    .dataframe tbody tr th:only-of-type {\n",
       "        vertical-align: middle;\n",
       "    }\n",
       "\n",
       "    .dataframe tbody tr th {\n",
       "        vertical-align: top;\n",
       "    }\n",
       "\n",
       "    .dataframe thead th {\n",
       "        text-align: right;\n",
       "    }\n",
       "</style>\n",
       "<table border=\"1\" class=\"dataframe\">\n",
       "  <thead>\n",
       "    <tr style=\"text-align: right;\">\n",
       "      <th></th>\n",
       "      <th>Model</th>\n",
       "      <th>平均二乗誤差（MSE）</th>\n",
       "    </tr>\n",
       "  </thead>\n",
       "  <tbody>\n",
       "    <tr>\n",
       "      <th>0</th>\n",
       "      <td>INSTANCE_0</td>\n",
       "      <td>6.917272e+09</td>\n",
       "    </tr>\n",
       "    <tr>\n",
       "      <th>1</th>\n",
       "      <td>INSTANCE_1</td>\n",
       "      <td>8.617359e+09</td>\n",
       "    </tr>\n",
       "    <tr>\n",
       "      <th>2</th>\n",
       "      <td>INSTANCE_3</td>\n",
       "      <td>9.909679e+10</td>\n",
       "    </tr>\n",
       "    <tr>\n",
       "      <th>3</th>\n",
       "      <td>EnsembleLearning</td>\n",
       "      <td>6.910175e+09</td>\n",
       "    </tr>\n",
       "  </tbody>\n",
       "</table>\n",
       "</div>"
      ],
      "text/plain": [
       "              Model   平均二乗誤差（MSE）\n",
       "0        INSTANCE_0  6.917272e+09\n",
       "1        INSTANCE_1  8.617359e+09\n",
       "2        INSTANCE_3  9.909679e+10\n",
       "3  EnsembleLearning  6.910175e+09"
      ]
     },
     "metadata": {},
     "output_type": "display_data"
    },
    {
     "data": {
      "text/plain": [
       "6910174768.534246"
      ]
     },
     "execution_count": 12,
     "metadata": {},
     "output_type": "execute_result"
    }
   ],
   "source": [
    "# 引数\n",
    "model_instance = [neigh, svm, tree]\n",
    "weight = [0.2, 0.7, 0.1]\n",
    "\n",
    "# インスタンス化\n",
    "ensemble_learning_3 = ScratchEnsembleLearning()\n",
    "ensemble_learning_3.fit(X_train_scaled, y_train, model_instance, weight)\n",
    "y_pred = ensemble_learning_3.predict(X_test_scaled)\n",
    "ensemble_learning_3.MSE(y_test, y_pred)"
   ]
  },
  {
   "cell_type": "markdown",
   "metadata": {},
   "source": [
    "#### パターン４  \n",
    "最近傍法が意外と精度が高いので比率を上げてみる。"
   ]
  },
  {
   "cell_type": "code",
   "execution_count": 13,
   "metadata": {},
   "outputs": [
    {
     "data": {
      "text/html": [
       "<div>\n",
       "<style scoped>\n",
       "    .dataframe tbody tr th:only-of-type {\n",
       "        vertical-align: middle;\n",
       "    }\n",
       "\n",
       "    .dataframe tbody tr th {\n",
       "        vertical-align: top;\n",
       "    }\n",
       "\n",
       "    .dataframe thead th {\n",
       "        text-align: right;\n",
       "    }\n",
       "</style>\n",
       "<table border=\"1\" class=\"dataframe\">\n",
       "  <thead>\n",
       "    <tr style=\"text-align: right;\">\n",
       "      <th></th>\n",
       "      <th>Model</th>\n",
       "      <th>平均二乗誤差（MSE）</th>\n",
       "    </tr>\n",
       "  </thead>\n",
       "  <tbody>\n",
       "    <tr>\n",
       "      <th>0</th>\n",
       "      <td>INSTANCE_0</td>\n",
       "      <td>6.917272e+09</td>\n",
       "    </tr>\n",
       "    <tr>\n",
       "      <th>1</th>\n",
       "      <td>INSTANCE_1</td>\n",
       "      <td>8.617359e+09</td>\n",
       "    </tr>\n",
       "    <tr>\n",
       "      <th>2</th>\n",
       "      <td>INSTANCE_3</td>\n",
       "      <td>9.909679e+10</td>\n",
       "    </tr>\n",
       "    <tr>\n",
       "      <th>3</th>\n",
       "      <td>EnsembleLearning</td>\n",
       "      <td>7.365754e+09</td>\n",
       "    </tr>\n",
       "  </tbody>\n",
       "</table>\n",
       "</div>"
      ],
      "text/plain": [
       "              Model   平均二乗誤差（MSE）\n",
       "0        INSTANCE_0  6.917272e+09\n",
       "1        INSTANCE_1  8.617359e+09\n",
       "2        INSTANCE_3  9.909679e+10\n",
       "3  EnsembleLearning  7.365754e+09"
      ]
     },
     "metadata": {},
     "output_type": "display_data"
    },
    {
     "data": {
      "text/plain": [
       "7365754440.109589"
      ]
     },
     "execution_count": 13,
     "metadata": {},
     "output_type": "execute_result"
    }
   ],
   "source": [
    "# 引数\n",
    "model_instance = [neigh, svm, tree]\n",
    "weight = [0.3, 0.4, 0.1]\n",
    "\n",
    "# インスタンス化\n",
    "ensemble_learning_4 = ScratchEnsembleLearning()\n",
    "ensemble_learning_4.fit(X_train_scaled, y_train, model_instance, weight)\n",
    "y_pred = ensemble_learning_4.predict(X_test_scaled)\n",
    "ensemble_learning_4.MSE(y_test, y_pred)"
   ]
  },
  {
   "cell_type": "markdown",
   "metadata": {},
   "source": [
    "### 結論  \n",
    "最近傍法, SVM, 決定木を0.2, 0.7, 0.1の重みづけで出力すると一番誤差が少ないことがわかった。  \n",
    "個別で精度が高くいものを増やしたり、比率を上げたりしてみたが、組み合わせ等の問題で  \n",
    "全体では精度が上がらないということがあることがわかった。"
   ]
  },
  {
   "cell_type": "markdown",
   "metadata": {},
   "source": [
    "## 【問題2】バギングのスクラッチ実装  \n",
    ">バギング をスクラッチ実装し、単一モデルより精度があがる例を 最低1つ 示してください。\n",
    "\n"
   ]
  },
  {
   "cell_type": "markdown",
   "metadata": {},
   "source": [
    "## バギングとは  \n",
    ">バギングは入力データの選び方を多様化する方法です。学習データから重複を許した上でランダムに抜き出すことで、N種類のサブセット（ **ブートストラップサンプル** ）を作り出します。それらによってモデルをN個学習し、推定結果の平均をとります。ブレンディングと異なり、それぞれの重み付けを変えることはありません。\n",
    ">\n",
    ">sklearn.model_selection.train_test_split — scikit-learn 0.21.3 documentation\n",
    ">\n",
    ">scikit-learnのtrain_test_splitを、shuffleパラメータをTrueにして使うことで、ランダムにデータを分割することができます。これによりブートストラップサンプルが手に入ります。\n",
    ">\n",
    ">推定結果の平均をとる部分はブースティングと同様の実装になります。"
   ]
  },
  {
   "cell_type": "code",
   "execution_count": 14,
   "metadata": {},
   "outputs": [],
   "source": [
    "import copy\n",
    "\n",
    "class ScratchBagging():\n",
    "    \"\"\"\n",
    "    バギング\n",
    "\n",
    "    Parameters\n",
    "    ----------\n",
    "    verbose : bool\n",
    "      学習過程を出力する場合はTrue\n",
    "      \n",
    "    Attributes\n",
    "    ----------\n",
    "    \"\"\"\n",
    "    def __init__(self, verbose=False):\n",
    "        # ハイパーパラメータを属性として記録\n",
    "        self.verbose = verbose\n",
    "        \n",
    "        \n",
    "    def fit(self, X, y, model_instance, test_size=0.2):\n",
    "        \"\"\"\n",
    "        学習する\n",
    "        Parameters\n",
    "        ----------\n",
    "        X : 次の形のndarray, shape (n_samples, n_features)\n",
    "            訓練データの特徴量\n",
    "        y : 次の形のndarray, shape (n_samples, )\n",
    "            訓練データの正解値\n",
    "        \"\"\"\n",
    "        X_train_0, _ , y_train_0, _ = train_test_split(X, y, test_size=test_size, shuffle=True)\n",
    "        X_train_1, _ , y_train_1, _ = train_test_split(X, y, test_size=test_size, shuffle=True)  \n",
    "        X_train_2, _ , y_train_2, _ = train_test_split(X, y, test_size=test_size, shuffle=True)\n",
    "        \n",
    "        model_0 = model_instance[0]\n",
    "        model_1 = model_instance[1]\n",
    "        model_2 = model_instance[2]\n",
    "        \n",
    "        model_0.fit(X_train_0, y_train_0)\n",
    "        model_1.fit(X_train_1, y_train_1)\n",
    "        model_2.fit(X_train_2, y_train_2)\n",
    "        \n",
    "        self.instance_0 = model_0\n",
    "        self.instance_1 = model_1\n",
    "        self.instance_2 = model_2\n",
    "        \n",
    "        \n",
    "    def predict(self, X):\n",
    "        \"\"\"\n",
    "        推定する\n",
    "        \"\"\"\n",
    "        pred_tmp_0 = self.instance_0.predict(X)\n",
    "        pred_tmp_1 = self.instance_1.predict(X)\n",
    "        pred_tmp_2 = self.instance_2.predict(X)\n",
    "        \n",
    "        pred = (pred_tmp_0+pred_tmp_1+pred_tmp_2)/3\n",
    "        \n",
    "        self.pred_0 = pred_tmp_0\n",
    "        self.pred_1 = pred_tmp_1\n",
    "        self.pred_2 = pred_tmp_2\n",
    "        \n",
    "        return pred\n",
    "    \n",
    "    \n",
    "    def MSE(self, y_test, y_pred):\n",
    "        \"\"\"\n",
    "        平均二乗誤差（Mean Squared Error, MSE）\n",
    "        \"\"\"\n",
    "        MSE = mean_squared_error(y_test, y_pred)\n",
    "        \n",
    "        # 精度の一覧表用の空のリストを用意\n",
    "        verification_result = []\n",
    "        MSE_0 = mean_squared_error(y_test, self.pred_0)\n",
    "        MSE_1 = mean_squared_error(y_test, self.pred_1)\n",
    "        MSE_2 = mean_squared_error(y_test, self.pred_2)\n",
    "        \n",
    "        # 表を作成するために計算結果を２次元配列にする\n",
    "        verification_MSE_0 = ['INSTANCE_0', MSE_0]\n",
    "        verification_MSE_1 = ['INSTANCE_1', MSE_1]\n",
    "        verification_MSE_2 = ['INSTANCE_3', MSE_2]\n",
    "        verification_MSE = ['Bagging', MSE]\n",
    "        verification_result = [\n",
    "                    verification_MSE_0, \n",
    "                    verification_MSE_1, \n",
    "                    verification_MSE_2, \n",
    "                    verification_MSE\n",
    "                ]\n",
    "        # pandas のデータフレームにする\n",
    "        df_verification = pd.DataFrame(data=verification_result, columns=data_columns)\n",
    "        display(df_verification)\n",
    "        \n",
    "        return MSE\n",
    "        "
   ]
  },
  {
   "cell_type": "markdown",
   "metadata": {},
   "source": [
    "#### パターン1\n",
    "ベースラインの結果が良かったSVMで実施。"
   ]
  },
  {
   "cell_type": "code",
   "execution_count": 15,
   "metadata": {},
   "outputs": [
    {
     "data": {
      "text/html": [
       "<div>\n",
       "<style scoped>\n",
       "    .dataframe tbody tr th:only-of-type {\n",
       "        vertical-align: middle;\n",
       "    }\n",
       "\n",
       "    .dataframe tbody tr th {\n",
       "        vertical-align: top;\n",
       "    }\n",
       "\n",
       "    .dataframe thead th {\n",
       "        text-align: right;\n",
       "    }\n",
       "</style>\n",
       "<table border=\"1\" class=\"dataframe\">\n",
       "  <thead>\n",
       "    <tr style=\"text-align: right;\">\n",
       "      <th></th>\n",
       "      <th>Model</th>\n",
       "      <th>平均二乗誤差（MSE）</th>\n",
       "    </tr>\n",
       "  </thead>\n",
       "  <tbody>\n",
       "    <tr>\n",
       "      <th>0</th>\n",
       "      <td>INSTANCE_0</td>\n",
       "      <td>3.665229e+09</td>\n",
       "    </tr>\n",
       "    <tr>\n",
       "      <th>1</th>\n",
       "      <td>INSTANCE_1</td>\n",
       "      <td>2.893126e+09</td>\n",
       "    </tr>\n",
       "    <tr>\n",
       "      <th>2</th>\n",
       "      <td>INSTANCE_3</td>\n",
       "      <td>3.082564e+09</td>\n",
       "    </tr>\n",
       "    <tr>\n",
       "      <th>3</th>\n",
       "      <td>Bagging</td>\n",
       "      <td>2.822355e+09</td>\n",
       "    </tr>\n",
       "  </tbody>\n",
       "</table>\n",
       "</div>"
      ],
      "text/plain": [
       "        Model   平均二乗誤差（MSE）\n",
       "0  INSTANCE_0  3.665229e+09\n",
       "1  INSTANCE_1  2.893126e+09\n",
       "2  INSTANCE_3  3.082564e+09\n",
       "3     Bagging  2.822355e+09"
      ]
     },
     "metadata": {},
     "output_type": "display_data"
    },
    {
     "data": {
      "text/plain": [
       "2822355470.094368"
      ]
     },
     "execution_count": 15,
     "metadata": {},
     "output_type": "execute_result"
    }
   ],
   "source": [
    "# 引数\n",
    "svm_bagging_0 = SVC()\n",
    "svm_bagging_1 = SVC()\n",
    "svm_bagging_2 = SVC()\n",
    "\n",
    "model_instance = [svm_bagging_0, svm_bagging_1, svm_bagging_2]\n",
    "\n",
    "# インスタンス化\n",
    "bagging_1 = ScratchBagging()\n",
    "bagging_1.fit(X_train_scaled, y_train, model_instance, test_size=0.2)\n",
    "y_pred_b = bagging_1.predict(X_test_scaled)\n",
    "bagging_1.MSE(y_test, y_pred_b)"
   ]
  },
  {
   "cell_type": "markdown",
   "metadata": {},
   "source": [
    "#### パターン２\n",
    "ベースラインがあまり良くなかった決定木で実施。"
   ]
  },
  {
   "cell_type": "code",
   "execution_count": 16,
   "metadata": {},
   "outputs": [
    {
     "data": {
      "text/html": [
       "<div>\n",
       "<style scoped>\n",
       "    .dataframe tbody tr th:only-of-type {\n",
       "        vertical-align: middle;\n",
       "    }\n",
       "\n",
       "    .dataframe tbody tr th {\n",
       "        vertical-align: top;\n",
       "    }\n",
       "\n",
       "    .dataframe thead th {\n",
       "        text-align: right;\n",
       "    }\n",
       "</style>\n",
       "<table border=\"1\" class=\"dataframe\">\n",
       "  <thead>\n",
       "    <tr style=\"text-align: right;\">\n",
       "      <th></th>\n",
       "      <th>Model</th>\n",
       "      <th>平均二乗誤差（MSE）</th>\n",
       "    </tr>\n",
       "  </thead>\n",
       "  <tbody>\n",
       "    <tr>\n",
       "      <th>0</th>\n",
       "      <td>INSTANCE_0</td>\n",
       "      <td>2.824472e+09</td>\n",
       "    </tr>\n",
       "    <tr>\n",
       "      <th>1</th>\n",
       "      <td>INSTANCE_1</td>\n",
       "      <td>3.898981e+09</td>\n",
       "    </tr>\n",
       "    <tr>\n",
       "      <th>2</th>\n",
       "      <td>INSTANCE_3</td>\n",
       "      <td>3.830686e+09</td>\n",
       "    </tr>\n",
       "    <tr>\n",
       "      <th>3</th>\n",
       "      <td>Bagging</td>\n",
       "      <td>2.612077e+09</td>\n",
       "    </tr>\n",
       "  </tbody>\n",
       "</table>\n",
       "</div>"
      ],
      "text/plain": [
       "        Model   平均二乗誤差（MSE）\n",
       "0  INSTANCE_0  2.824472e+09\n",
       "1  INSTANCE_1  3.898981e+09\n",
       "2  INSTANCE_3  3.830686e+09\n",
       "3     Bagging  2.612077e+09"
      ]
     },
     "metadata": {},
     "output_type": "display_data"
    },
    {
     "data": {
      "text/plain": [
       "2612077237.097412"
      ]
     },
     "execution_count": 16,
     "metadata": {},
     "output_type": "execute_result"
    }
   ],
   "source": [
    "# 引数\n",
    "tree_bagging_0 = DecisionTreeClassifier()\n",
    "tree_bagging_1 = DecisionTreeClassifier()\n",
    "tree_bagging_2 = DecisionTreeClassifier()\n",
    "\n",
    "model_instance = [tree_bagging_0, tree_bagging_1, tree_bagging_2]\n",
    "\n",
    "# インスタンス化\n",
    "bagging_1 = ScratchBagging()\n",
    "bagging_1.fit(X_train_scaled, y_train, model_instance, test_size=0.2)\n",
    "y_pred_b = bagging_1.predict(X_test_scaled)\n",
    "bagging_1.MSE(y_test, y_pred_b)"
   ]
  },
  {
   "cell_type": "markdown",
   "metadata": {},
   "source": [
    "#### パターン３\n",
    "最近傍法で実施。"
   ]
  },
  {
   "cell_type": "code",
   "execution_count": 17,
   "metadata": {},
   "outputs": [
    {
     "data": {
      "text/html": [
       "<div>\n",
       "<style scoped>\n",
       "    .dataframe tbody tr th:only-of-type {\n",
       "        vertical-align: middle;\n",
       "    }\n",
       "\n",
       "    .dataframe tbody tr th {\n",
       "        vertical-align: top;\n",
       "    }\n",
       "\n",
       "    .dataframe thead th {\n",
       "        text-align: right;\n",
       "    }\n",
       "</style>\n",
       "<table border=\"1\" class=\"dataframe\">\n",
       "  <thead>\n",
       "    <tr style=\"text-align: right;\">\n",
       "      <th></th>\n",
       "      <th>Model</th>\n",
       "      <th>平均二乗誤差（MSE）</th>\n",
       "    </tr>\n",
       "  </thead>\n",
       "  <tbody>\n",
       "    <tr>\n",
       "      <th>0</th>\n",
       "      <td>INSTANCE_0</td>\n",
       "      <td>4.430251e+09</td>\n",
       "    </tr>\n",
       "    <tr>\n",
       "      <th>1</th>\n",
       "      <td>INSTANCE_1</td>\n",
       "      <td>4.291967e+09</td>\n",
       "    </tr>\n",
       "    <tr>\n",
       "      <th>2</th>\n",
       "      <td>INSTANCE_3</td>\n",
       "      <td>3.965840e+09</td>\n",
       "    </tr>\n",
       "    <tr>\n",
       "      <th>3</th>\n",
       "      <td>Bagging</td>\n",
       "      <td>4.054436e+09</td>\n",
       "    </tr>\n",
       "  </tbody>\n",
       "</table>\n",
       "</div>"
      ],
      "text/plain": [
       "        Model   平均二乗誤差（MSE）\n",
       "0  INSTANCE_0  4.430251e+09\n",
       "1  INSTANCE_1  4.291967e+09\n",
       "2  INSTANCE_3  3.965840e+09\n",
       "3     Bagging  4.054436e+09"
      ]
     },
     "metadata": {},
     "output_type": "display_data"
    },
    {
     "data": {
      "text/plain": [
       "4054435800.6023583"
      ]
     },
     "execution_count": 17,
     "metadata": {},
     "output_type": "execute_result"
    }
   ],
   "source": [
    "# 引数\n",
    "neigh_bagging_0 = KNeighborsClassifier(n_neighbors=5)\n",
    "neigh_bagging_1 = KNeighborsClassifier(n_neighbors=5)\n",
    "neigh_bagging_2 = KNeighborsClassifier(n_neighbors=5)\n",
    "\n",
    "model_instance = [neigh_bagging_0, neigh_bagging_1, neigh_bagging_2]\n",
    "\n",
    "# インスタンス化\n",
    "bagging_1 = ScratchBagging()\n",
    "bagging_1.fit(X_train_scaled, y_train, model_instance, test_size=0.2)\n",
    "y_pred_b = bagging_1.predict(X_test_scaled)\n",
    "bagging_1.MSE(y_test, y_pred_b)"
   ]
  },
  {
   "cell_type": "markdown",
   "metadata": {},
   "source": [
    "#### パターン４\n",
    "線形回帰で実施。"
   ]
  },
  {
   "cell_type": "code",
   "execution_count": 18,
   "metadata": {},
   "outputs": [
    {
     "data": {
      "text/html": [
       "<div>\n",
       "<style scoped>\n",
       "    .dataframe tbody tr th:only-of-type {\n",
       "        vertical-align: middle;\n",
       "    }\n",
       "\n",
       "    .dataframe tbody tr th {\n",
       "        vertical-align: top;\n",
       "    }\n",
       "\n",
       "    .dataframe thead th {\n",
       "        text-align: right;\n",
       "    }\n",
       "</style>\n",
       "<table border=\"1\" class=\"dataframe\">\n",
       "  <thead>\n",
       "    <tr style=\"text-align: right;\">\n",
       "      <th></th>\n",
       "      <th>Model</th>\n",
       "      <th>平均二乗誤差（MSE）</th>\n",
       "    </tr>\n",
       "  </thead>\n",
       "  <tbody>\n",
       "    <tr>\n",
       "      <th>0</th>\n",
       "      <td>INSTANCE_0</td>\n",
       "      <td>5.579812e+09</td>\n",
       "    </tr>\n",
       "    <tr>\n",
       "      <th>1</th>\n",
       "      <td>INSTANCE_1</td>\n",
       "      <td>6.154325e+09</td>\n",
       "    </tr>\n",
       "    <tr>\n",
       "      <th>2</th>\n",
       "      <td>INSTANCE_3</td>\n",
       "      <td>6.361193e+09</td>\n",
       "    </tr>\n",
       "    <tr>\n",
       "      <th>3</th>\n",
       "      <td>Bagging</td>\n",
       "      <td>5.159755e+09</td>\n",
       "    </tr>\n",
       "  </tbody>\n",
       "</table>\n",
       "</div>"
      ],
      "text/plain": [
       "        Model   平均二乗誤差（MSE）\n",
       "0  INSTANCE_0  5.579812e+09\n",
       "1  INSTANCE_1  6.154325e+09\n",
       "2  INSTANCE_3  6.361193e+09\n",
       "3     Bagging  5.159755e+09"
      ]
     },
     "metadata": {},
     "output_type": "display_data"
    },
    {
     "data": {
      "text/plain": [
       "5159755172.681888"
      ]
     },
     "execution_count": 18,
     "metadata": {},
     "output_type": "execute_result"
    }
   ],
   "source": [
    "# 引数\n",
    "linear_bagging_0 = SGDClassifier()\n",
    "linear_bagging_1 = SGDClassifier()\n",
    "linear_bagging_2 = SGDClassifier()\n",
    "\n",
    "model_instance = [linear_bagging_0, linear_bagging_1, linear_bagging_2]\n",
    "\n",
    "# インスタンス化\n",
    "bagging_1 = ScratchBagging()\n",
    "bagging_1.fit(X_train_scaled, y_train, model_instance, test_size=0.2)\n",
    "y_pred_b = bagging_1.predict(X_test_scaled)\n",
    "bagging_1.MSE(y_test, y_pred_b)"
   ]
  },
  {
   "cell_type": "markdown",
   "metadata": {},
   "source": [
    "### 結論  \n",
    "最近傍法, 決定木はバギングによって精度が向上した。"
   ]
  },
  {
   "cell_type": "markdown",
   "metadata": {},
   "source": [
    "## 【問題3】スタッキングのスクラッチ実装  \n",
    ">スタッキング をスクラッチ実装し、単一モデルより精度があがる例を 最低1つ 示してください。\n",
    "\n"
   ]
  },
  {
   "cell_type": "code",
   "execution_count": 19,
   "metadata": {},
   "outputs": [],
   "source": [
    "from sklearn.model_selection import KFold"
   ]
  },
  {
   "cell_type": "code",
   "execution_count": 20,
   "metadata": {},
   "outputs": [],
   "source": [
    "class ScratchStacking():\n",
    "    \"\"\"\n",
    "    スタッキング\n",
    "\n",
    "    Parameters\n",
    "    ----------\n",
    "    verbose : bool\n",
    "      学習過程を出力する場合はTrue\n",
    "      \n",
    "    Attributes\n",
    "    ----------\n",
    "    self.pred_list\n",
    "    　　\n",
    "    self.instance_list\n",
    "    　　\n",
    "    self.instance_l2\n",
    "      \n",
    "    \"\"\"\n",
    "    def __init__(self, verbose=False):\n",
    "        # ハイパーパラメータを属性として記録\n",
    "        self.verbose = verbose\n",
    "        \n",
    "        \n",
    "    def fit(self, X, y, INSTANCE, INSTANCE_L2):\n",
    "        \"\"\"\n",
    "        学習する\n",
    "        Parameters\n",
    "        ----------\n",
    "        X : 次の形のndarray, shape (n_samples, n_features)\n",
    "            訓練データの特徴量\n",
    "        y : 次の形のndarray, shape (n_samples, )\n",
    "            訓練データの正解値\n",
    "        \"\"\"\n",
    "        ############ ステージ０　############\n",
    "        # 推定保管用\n",
    "        pred_list = []\n",
    "        \n",
    "        # モデル数分ループ\n",
    "        for i in range(3):\n",
    "            # データを４分割\n",
    "            kf = KFold(n_splits=4)\n",
    "            # データ分割を実施\n",
    "            kf.get_n_splits(X)\n",
    "            \n",
    "            # 推定保管用\n",
    "            pred_tmp = []\n",
    "            \n",
    "            # ループ回数のカウント用\n",
    "            j = 0\n",
    "            #for j, (train_index, test_index) in enumerate(zip(kf.split(X))):\n",
    "            for train_index, test_index in kf.split(X):\n",
    "                X_train, X_test = X[train_index], X[test_index]\n",
    "                y_train, y_test = y[train_index], y[test_index]\n",
    "                \n",
    "                # 学習\n",
    "                INSTANCE[i][j].fit(X_train, y_train)\n",
    "                # 推定\n",
    "                y_pred = INSTANCE[i][j].predict(X_test)\n",
    "                pred_tmp.extend(y_pred)\n",
    "                \n",
    "                j += 1\n",
    "            \n",
    "            # OOF\n",
    "            pred_list.append(pred_tmp)\n",
    "\n",
    "        # OOF の保管\n",
    "        self.pred_list = np.array(pred_list).T\n",
    "        # インスタンスの保管\n",
    "        self.instance_list = np.array(INSTANCE)\n",
    "        \n",
    "        ############ ステージN　############\n",
    "        # pred を 学習用に分割\n",
    "        X_train_l2, X_test_l2, y_train_l2, y_test_l2 = train_test_split(self.pred_list, y, test_size=0.2, random_state=0)\n",
    "\n",
    "        # 学習\n",
    "        INSTANCE_L2.fit(X_train_l2, y_train_l2)\n",
    "        # インスタンスの保管\n",
    "        self.instance_l2 = INSTANCE_L2\n",
    "        \n",
    "        \n",
    "    def predict(self, X):\n",
    "        \"\"\"\n",
    "        推定する\n",
    "        \"\"\"\n",
    "        ############ ステージ０　############\n",
    "        # 推定保管用\n",
    "        pred_list = []\n",
    "        for i in range(3):\n",
    "            # 推定保管用\n",
    "            pred_tmp = []\n",
    "            for j in range(4):\n",
    "                # 推定\n",
    "                y_pred = self.instance_list[i, j].predict(X)\n",
    "                pred_tmp.append(y_pred)\n",
    "            # 同一モデルないで平均を取る\n",
    "            pred_tmp = np.mean(np.array(pred_tmp).T, axis=1)\n",
    "            pred_list.append(pred_tmp)\n",
    "            \n",
    "        # 推定データの作成\n",
    "        pred_list = np.array(pred_list).T\n",
    "        \n",
    "        ############ ステージN　############\n",
    "        y_pred_l2 = self.instance_l2.predict(pred_list)\n",
    "        print(y_pred_l2)\n",
    "        \n",
    "        return y_pred_l2\n",
    "    \n",
    "    \n",
    "    def MSE(self, y_test, y_pred):\n",
    "        \"\"\"\n",
    "        平均二乗誤差（Mean Squared Error, MSE）\n",
    "        \"\"\"\n",
    "        MSE = mean_squared_error(y_test, y_pred)\n",
    "        \n",
    "        return MSE\n",
    "        "
   ]
  },
  {
   "cell_type": "markdown",
   "metadata": {},
   "source": [
    "#### パターン1\n",
    "ベースラインとして単独で実施したときに最も精度の良かったSVCのみで構成して実施。"
   ]
  },
  {
   "cell_type": "code",
   "execution_count": 21,
   "metadata": {},
   "outputs": [
    {
     "name": "stdout",
     "output_type": "stream",
     "text": [
      "[190000 140000 140000 190000 140000 119000 174000 140000 190000 140000\n",
      " 174000 180000 190000 140000 140000 140000 190000 140000 140000 140000\n",
      " 140000 140000 135000 174000 190000 140000 174000 135000 190000 140000\n",
      " 140000 190000 140000 130000 190000 174000 174000 140000 190000 340000\n",
      " 140000 140000 180000 190000 340000 140000 115000 140000 190000 135000\n",
      " 340000 140000 140000 135000 174000 140000 140000 190000 140000 115000\n",
      " 140000 140000 140000 140000 174000 140000 135000 190000 115000 190000\n",
      " 174000 140000 115000 174000 140000 190000 140000 119000 340000 140000\n",
      " 140000 140000 140000 140000 190000 174000 140000 174000 180000 140000\n",
      " 190000 180000 174000 190000 180000 140000 174000 140000 140000 140000\n",
      " 190000 190000 140000 140000 119000 340000 174000 119000 174000 140000\n",
      " 119000 140000 190000 140000 174000 180000 340000 140000 190000 190000\n",
      " 140000 174000 140000 180000 174000 174000 190000 180000 180000 180000\n",
      " 174000 180000 190000 180000 140000 190000 140000 174000 115000 174000\n",
      " 140000 140000 190000 140000 140000 174000 174000 140000 190000 174000\n",
      " 140000 190000 190000 140000 140000 200000 140000 140000 140000 174000\n",
      " 140000 140000 174000 140000 174000 140000 140000 130000 174000 190000\n",
      " 140000 180000 180000 140000 140000 140000 140000 200000 140000 140000\n",
      " 190000 180000 115000 190000 119000 180000 140000 180000 174000 140000\n",
      " 140000 140000 174000 140000 140000 140000 135000 140000 140000 140000\n",
      " 140000 140000 135000 140000 140000 190000 140000 190000 190000 119000\n",
      " 140000 190000 140000 119000 190000 190000 140000 340000 190000 135000\n",
      " 180000 140000 140000 140000 174000 190000 190000 180000 140000 140000\n",
      " 140000 140000 140000 140000 190000 140000 190000 115000 140000 140000\n",
      " 140000 190000 190000 190000 140000 140000 180000 174000 140000 174000\n",
      " 140000 190000 119000 340000 174000 190000 135000 174000 340000 140000\n",
      " 190000 140000 140000 140000 190000 190000 200000 119000 140000 190000\n",
      " 140000 140000 140000 180000 190000 190000 190000 140000 190000 140000\n",
      " 140000 190000 140000 140000 180000 140000 140000 174000 340000 190000\n",
      " 119000 119000]\n"
     ]
    },
    {
     "data": {
      "text/plain": [
       "4035473216.479452"
      ]
     },
     "execution_count": 21,
     "metadata": {},
     "output_type": "execute_result"
    }
   ],
   "source": [
    "# 引数\n",
    "\n",
    "# L１のインスタンス\n",
    "svm_stacking_a0 = SVC()\n",
    "svm_stacking_a1 = SVC()\n",
    "svm_stacking_a2 = SVC()\n",
    "svm_stacking_a3 = SVC()\n",
    "instance_a = [svm_stacking_a0, svm_stacking_a1, svm_stacking_a2, svm_stacking_a3]\n",
    "\n",
    "\n",
    "svm_stacking_b0 = SVC()\n",
    "svm_stacking_b1 = SVC()\n",
    "svm_stacking_b2 = SVC()\n",
    "svm_stacking_b3 = SVC()\n",
    "instance_b = [svm_stacking_b0, svm_stacking_b1, svm_stacking_b2, svm_stacking_b3]\n",
    "\n",
    "\n",
    "svm_stacking_c0 = SVC()\n",
    "svm_stacking_c1 = SVC()\n",
    "svm_stacking_c2 = SVC()\n",
    "svm_stacking_c3 = SVC()\n",
    "instance_c = [svm_stacking_c0, svm_stacking_c1, svm_stacking_c2, svm_stacking_c3]\n",
    "\n",
    "model_instance = [instance_a, instance_b, instance_c]\n",
    "\n",
    "# L2のインスタンス\n",
    "l2__instance = SVC()\n",
    "\n",
    "\n",
    "\n",
    "# インスタンス化\n",
    "stacking_1 = ScratchStacking()\n",
    "stacking_1.fit(X_train_scaled, y_train, model_instance, l2__instance)\n",
    "\n",
    "# 推定\n",
    "y_pred_b = stacking_1.predict(X_test_scaled)\n",
    "stacking_1.MSE(y_test, y_pred_b)"
   ]
  },
  {
   "cell_type": "markdown",
   "metadata": {},
   "source": [
    "単独で実施した時が2827616000のため、むしろ精度が下がった。  \n",
    "単独のモデルを使うより、いろいろなモデルを組み合わせる方が良いと思われる。"
   ]
  },
  {
   "cell_type": "markdown",
   "metadata": {},
   "source": [
    "#### パターン２\n",
    "ステージ０をSVM、最近傍法、決定木で構成。ステージNは線形回帰で構成。"
   ]
  },
  {
   "cell_type": "code",
   "execution_count": 22,
   "metadata": {},
   "outputs": [
    {
     "name": "stdout",
     "output_type": "stream",
     "text": [
      "[189000 189000 189000 189000 153500 189000 189000 189000 153500 189000\n",
      " 189000 189000 189000 189000 189000 189000 189000 189000 189000 189000\n",
      " 189000 189000 189000 189000 153500 189000 189000 189000 189000 189000\n",
      " 189000 189000 189000 189000 189000 189000 189000 189000 189000 189000\n",
      " 168000 189000 189000 189000 189000 189000 189000 189000 189000 189000\n",
      " 189000 189000 189000 189000 189000 189000 189000 153500 189000 189000\n",
      " 189000 189000 189000 189000 189000 189000 189000 189000 189000 189000\n",
      " 189000 189000 189000 189000 189000 168000 189000 189000 189000 189000\n",
      " 189000 189000 189000 189000 189000 189000 189000 189000 189000 189000\n",
      " 189000 189000 189000 189000 189000 153500 189000 189000 189000 189000\n",
      " 189000 189000 189000 189000 189000 189000 189000 189000 189000 189000\n",
      " 189000 189000 189000 189000 189000 189000 189000 189000 189000 189000\n",
      " 189000 189000 189000 189000 189000 189000 189000 189000 189000 153500\n",
      " 189000 189000 189000 189000 189000 189000 189000 189000 189000 189000\n",
      " 189000 189000 189000 189000 153500 189000 189000 189000 189000 189000\n",
      " 189000 189000 153500 189000 189000 189000 189000 189000 189000 189000\n",
      " 189000 189000 189000 189000 189000 189000 189000 189000 189000 189000\n",
      " 189000 189000 189000 189000 189000 189000 189000 189000 189000 189000\n",
      " 189000 189000 189000 189000 189000 189000 189000 189000 189000 189000\n",
      " 189000 189000 189000 189000 189000 189000 189000 189000 189000 189000\n",
      " 189000 189000 189000 189000 189000 189000 189000 189000 189000 189000\n",
      " 189000 189000 189000 189000 153500 189000 189000 189000 168000 189000\n",
      " 189000 189000 189000 189000 189000 189000 189000 381000 189000 189000\n",
      " 189000 189000 189000 189000 189000 189000 189000 189000 189000 189000\n",
      " 189000 189000 189000 189000 189000 189000 189000 189000 189000 189000\n",
      " 189000 189000 189000 189000 189000 189000 189000 189000 189000 437154\n",
      " 189000 189000 189000 189000 189000 189000 189000 189000 189000 168000\n",
      " 189000 189000 189000 189000 189000 189000 189000 189000 189000 381000\n",
      " 189000 189000 189000 189000 189000 189000 189000 189000 189000 189000\n",
      " 153500 189000]\n"
     ]
    },
    {
     "data": {
      "text/plain": [
       "7790887136.739726"
      ]
     },
     "execution_count": 22,
     "metadata": {},
     "output_type": "execute_result"
    }
   ],
   "source": [
    "# 引数\n",
    "\n",
    "# L１のインスタンス\n",
    "svm_stacking_0 = SVC()\n",
    "svm_stacking_1 = SVC()\n",
    "svm_stacking_2 = SVC()\n",
    "svm_stacking_3 = SVC()\n",
    "instance_a = [svm_stacking_0, svm_stacking_1, svm_stacking_2, svm_stacking_3]\n",
    "\n",
    "neigh_stacking_0 = KNeighborsClassifier(n_neighbors=5)\n",
    "neigh_stacking_1 = KNeighborsClassifier(n_neighbors=5)\n",
    "neigh_stacking_2 = KNeighborsClassifier(n_neighbors=5)\n",
    "neigh_stacking_3 = KNeighborsClassifier(n_neighbors=5)\n",
    "instance_b = [neigh_stacking_0, neigh_stacking_1, neigh_stacking_2, neigh_stacking_3]\n",
    "\n",
    "tree_stacking_0 = DecisionTreeClassifier()\n",
    "tree_stacking_1 = DecisionTreeClassifier()\n",
    "tree_stacking_2 = DecisionTreeClassifier()\n",
    "tree_stacking_3 = DecisionTreeClassifier()\n",
    "instance_c = [tree_stacking_0, tree_stacking_1, tree_stacking_2, tree_stacking_3]\n",
    "\n",
    "model_instance = [instance_a, instance_b, instance_c]\n",
    "\n",
    "# L2のインスタンス\n",
    "l2__instance = SGDClassifier()\n",
    "\n",
    "\n",
    "\n",
    "# インスタンス化\n",
    "stacking_1 = ScratchStacking()\n",
    "stacking_1.fit(X_train_scaled, y_train, model_instance, l2__instance)\n",
    "\n",
    "# 推定\n",
    "y_pred_b = stacking_1.predict(X_test_scaled)\n",
    "stacking_1.MSE(y_test, y_pred_b)"
   ]
  },
  {
   "cell_type": "markdown",
   "metadata": {},
   "source": [
    "精度が悪化した。ステージNは単独モデルによる学習になるため、精度の高いモデルの方が良いのではないか。"
   ]
  },
  {
   "cell_type": "markdown",
   "metadata": {},
   "source": [
    "#### パターン３  \n",
    "最終ステージは精度の高いSVMで構成。"
   ]
  },
  {
   "cell_type": "code",
   "execution_count": 25,
   "metadata": {},
   "outputs": [
    {
     "name": "stdout",
     "output_type": "stream",
     "text": [
      "[180000 140000 140000 140000 135000 110000 180000 140000 325000 140000\n",
      " 180000 140000 180000 140000 140000 140000 180000 140000 140000 140000\n",
      " 140000 140000 135000 155000 155000 135000 180000 110000 290000 140000\n",
      " 140000 180000 140000 180000 260000 155000 180000 140000 180000 290000\n",
      " 180000 135000 155000 290000 290000 140000 135000 140000 140000 135000\n",
      " 325000 140000 140000 110000 180000 140000 140000 173000 140000 110000\n",
      " 140000 140000 140000 140000 180000 140000 140000 290000 135000 180000\n",
      " 180000 135000 135000 155000 140000 290000 140000 110000 290000 140000\n",
      " 140000 140000 140000 140000 180000 140000 140000 180000 180000 140000\n",
      " 180000 140000 180000 180000 155000 155000 180000 140000 140000 140000\n",
      " 180000 290000 140000 140000 110000 290000 155000 110000 155000 140000\n",
      "  86000 140000 180000 135000 140000 140000 290000 140000 180000 180000\n",
      " 140000 180000 140000 155000 155000 174000 290000 155000 140000 140000\n",
      " 155000 140000 180000 140000 140000 180000 140000 155000 135000 155000\n",
      " 140000 140000 180000 140000 135000 155000 180000 140000 290000 180000\n",
      " 140000 290000 173000 140000 140000 180000 135000 140000 140000 140000\n",
      " 140000 140000 180000 135000 180000 135000 140000 290000 180000 180000\n",
      " 140000 140000 155000 155000 140000 135000 140000 180000 135000 140000\n",
      " 180000 140000 110000 290000 135000 140000 135000 140000 140000 140000\n",
      " 140000 140000 180000 140000 135000 140000 110000 140000 140000 140000\n",
      " 140000 140000 110000 140000 140000 180000 140000 180000 180000 110000\n",
      " 140000 180000 135000 135000 180000 180000 140000 290000 290000 110000\n",
      " 140000 140000 140000 135000 155000 180000 180000 173000 140000 140000\n",
      " 135000 135000 140000 140000 180000 140000 140000 135000 140000 140000\n",
      " 140000 180000 180000 180000 140000 140000 155000 180000 135000 140000\n",
      " 140000 180000 110000 325000 180000 290000 135000 180000 325000 325000\n",
      " 173000 140000 140000 135000 290000 180000 180000  86000 180000 290000\n",
      " 140000 180000 140000 140000 140000 180000 180000 140000 290000 135000\n",
      " 140000 290000 140000 140000 180000 180000 140000 180000 290000 155000\n",
      " 135000 110000]\n"
     ]
    },
    {
     "data": {
      "text/plain": [
       "3357875175.3835616"
      ]
     },
     "execution_count": 25,
     "metadata": {},
     "output_type": "execute_result"
    }
   ],
   "source": [
    "# 引数\n",
    "\n",
    "# L１のインスタンス\n",
    "neigh_stacking_0 = KNeighborsClassifier(n_neighbors=5)\n",
    "neigh_stacking_1 = KNeighborsClassifier(n_neighbors=5)\n",
    "neigh_stacking_2 = KNeighborsClassifier(n_neighbors=5)\n",
    "neigh_stacking_3 = KNeighborsClassifier(n_neighbors=5)\n",
    "instance_a = [neigh_stacking_0, neigh_stacking_1, neigh_stacking_2, neigh_stacking_3]\n",
    "\n",
    "tree_stacking_0 = DecisionTreeClassifier()\n",
    "tree_stacking_1 = DecisionTreeClassifier()\n",
    "tree_stacking_2 = DecisionTreeClassifier()\n",
    "tree_stacking_3 = DecisionTreeClassifier()\n",
    "instance_b = [tree_stacking_0, tree_stacking_1, tree_stacking_2, tree_stacking_3]\n",
    "\n",
    "linear_stacking_0 = SGDClassifier()\n",
    "linear_stacking_1 = SGDClassifier()\n",
    "linear_stacking_2 = SGDClassifier()\n",
    "linear_stacking_3 = SGDClassifier()\n",
    "instance_c = [linear_stacking_0, linear_stacking_1, linear_stacking_2, linear_stacking_3]\n",
    "\n",
    "model_instance = [instance_a, instance_b, instance_c]\n",
    "\n",
    "# L2のインスタンス\n",
    "l2__instance = SVC()\n",
    "\n",
    "\n",
    "\n",
    "# インスタンス化\n",
    "stacking_1 = ScratchStacking()\n",
    "stacking_1.fit(X_train_scaled, y_train, model_instance, l2__instance)\n",
    "\n",
    "# 推定\n",
    "y_pred_b = stacking_1.predict(X_test_scaled)\n",
    "stacking_1.MSE(y_test, y_pred_b)"
   ]
  },
  {
   "cell_type": "markdown",
   "metadata": {},
   "source": [
    "精度が下がったことを確認。"
   ]
  },
  {
   "cell_type": "markdown",
   "metadata": {},
   "source": [
    "#### パターン４  \n",
    "最終ステージを決定木でも実施。"
   ]
  },
  {
   "cell_type": "code",
   "execution_count": 26,
   "metadata": {},
   "outputs": [
    {
     "name": "stdout",
     "output_type": "stream",
     "text": [
      "[135000 124500 109900 187000  83500 147000 176485 124500 184750 139600\n",
      " 224000 162900 233230 117500 109900 181000 239000 130000 164900 179900\n",
      " 124500 140200 180000 160000 125000 128500 174000 180000 225000  80500\n",
      " 165000 226000 128900 169000 219210 179400 168500 235000 228000 281213\n",
      " 174000 161000 159895 219500 281213 107500 102000 129500 162900  81000\n",
      " 380000 147000 143750  34900 162000 117500 134000 285000 136500 110500\n",
      " 115000 145000 181000 107000 187000 165000 109900 211000 180000 197900\n",
      " 171750 110500 109900 176485 109900 225000 102000 125500 276000  99500\n",
      " 128900 124500 117500 130000 239000 164700  87000 174000 178000 121600\n",
      " 259000 217500 179200 233230 176485 181000 174000 179900 117500 164900\n",
      " 197900 233230  99500 147400  86000 402861 221500 129000 174000 117500\n",
      "  86000 115000 179200 110500 180000 118964 333168 115000 184000 255000\n",
      " 139600 176485 102000 147400 172500 224000 255000 164500 217500 120000\n",
      " 160000 217500 204750 147400 117500 259000 140000 160000 109900 162000\n",
      " 109900 218000 162000 127000 160000 164700 176485 136500 236000 168500\n",
      " 140000 253293 285000 124900 107000 189000 110500 164900 141000 160000\n",
      " 117500 169900 224000 127000 224000 164500 185000 222000 226000 226000\n",
      " 123000 118964 159895 155000 109900  83500 178400 188000 162000 175000\n",
      " 234000 147400  67000 225000 110500 147400  83000 217500 176485 140200\n",
      " 130000 127000 236000 161000 180000 131400 180000 121600  93500 130000\n",
      " 127000 158000  34900 175000 131400 285000 127000 239000 197900 147000\n",
      " 139600 162000  81000  91300 165150 155000 137450 255900 211000 180000\n",
      " 137500 124500 170000 119900 168500 228000 239000 160000 135960 134432\n",
      "  81000 110500 117500 123000 112000 124500 187000 102000 110000 214500\n",
      " 179900 259000 228000 197900 107000 140000 164700 168500 153500 180500\n",
      " 164900 318061 163500 437154 278000 219500  81000 187000 303477 169000\n",
      " 204750 124000  60000 180000 255000 197900 272000  86000 147500 211000\n",
      " 124500 155000 140000 120000 190000 269500 259000 165000 250000 162000\n",
      " 145000 290000 180000 140000 164500 187000 132500 187000 611657 227875\n",
      "  52500  91000]\n"
     ]
    },
    {
     "data": {
      "text/plain": [
       "3945142655.020548"
      ]
     },
     "execution_count": 26,
     "metadata": {},
     "output_type": "execute_result"
    }
   ],
   "source": [
    "# 引数\n",
    "\n",
    "# L１のインスタンス\n",
    "svm_stacking_0 = SVC()\n",
    "svm_stacking_1 = SVC()\n",
    "svm_stacking_2 = SVC()\n",
    "svm_stacking_3 = SVC()\n",
    "instance_a = [svm_stacking_0, svm_stacking_1, svm_stacking_2, svm_stacking_3]\n",
    "\n",
    "neigh_stacking_0 = KNeighborsClassifier(n_neighbors=5)\n",
    "neigh_stacking_1 = KNeighborsClassifier(n_neighbors=5)\n",
    "neigh_stacking_2 = KNeighborsClassifier(n_neighbors=5)\n",
    "neigh_stacking_3 = KNeighborsClassifier(n_neighbors=5)\n",
    "instance_b = [neigh_stacking_0, neigh_stacking_1, neigh_stacking_2, neigh_stacking_3]\n",
    "\n",
    "linear_stacking_0 = SGDClassifier()\n",
    "linear_stacking_1 = SGDClassifier()\n",
    "linear_stacking_2 = SGDClassifier()\n",
    "linear_stacking_3 = SGDClassifier()\n",
    "instance_c = [linear_stacking_0, linear_stacking_1, linear_stacking_2, linear_stacking_3]\n",
    "\n",
    "model_instance = [instance_a, instance_b, instance_c]\n",
    "\n",
    "# L2のインスタンス\n",
    "l2__instance = DecisionTreeClassifier()\n",
    "\n",
    "\n",
    "\n",
    "# インスタンス化\n",
    "stacking_1 = ScratchStacking()\n",
    "stacking_1.fit(X_train_scaled, y_train, model_instance, l2__instance)\n",
    "\n",
    "# 推定\n",
    "y_pred_b = stacking_1.predict(X_test_scaled)\n",
    "stacking_1.MSE(y_test, y_pred_b)"
   ]
  },
  {
   "cell_type": "markdown",
   "metadata": {},
   "source": [
    "それなりにいい結果が出た。"
   ]
  },
  {
   "cell_type": "markdown",
   "metadata": {},
   "source": [
    "#### 考察  \n",
    "個別で精度が高いからと言って単独のモデルでスタッキングを構成しても精度は上がらず、 \n",
    "むしろ下がる結果になった。  \n",
    "また、いろいろなモデルを組み合わせるとしても、最終ステージのモデルはできるだけ精度の高い  \n",
    "ものを使用する方が良いことがわかった。"
   ]
  },
  {
   "cell_type": "markdown",
   "metadata": {},
   "source": [
    "以上"
   ]
  }
 ],
 "metadata": {
  "kernelspec": {
   "display_name": "Python 3",
   "language": "python",
   "name": "python3"
  },
  "language_info": {
   "codemirror_mode": {
    "name": "ipython",
    "version": 3
   },
   "file_extension": ".py",
   "mimetype": "text/x-python",
   "name": "python",
   "nbconvert_exporter": "python",
   "pygments_lexer": "ipython3",
   "version": "3.7.6"
  }
 },
 "nbformat": 4,
 "nbformat_minor": 4
}
