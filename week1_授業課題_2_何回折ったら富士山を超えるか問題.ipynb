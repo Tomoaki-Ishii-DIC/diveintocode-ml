{
 "cells": [
  {
   "cell_type": "markdown",
   "metadata": {},
   "source": [
    "# Week1 授業課題2 何回折ったら富士山を越えるか問題"
   ]
  },
  {
   "cell_type": "markdown",
   "metadata": {},
   "source": [
    "## 【問題1】富士山を超える最小の折る回数\n",
    ">厚さが「富士山(3776m)」を超えるのは何回紙を折った時か計算するプログラムを作成してください。"
   ]
  },
  {
   "cell_type": "code",
   "execution_count": 5,
   "metadata": {},
   "outputs": [
    {
     "name": "stdout",
     "output_type": "stream",
     "text": [
      "紙を26回折ると富士山を越える。\n"
     ]
    }
   ],
   "source": [
    "# 紙の厚さを定数として設定（m）\n",
    "THICKNESS = 0.00008\n",
    "\n",
    "# 富士山の高さを定数として設定（m）\n",
    "FUJI = 3776\n",
    "\n",
    "# 折った後の厚さを入れる変数に折る前の紙の厚さを代入\n",
    "paper_heigt = THICKNESS\n",
    "\n",
    "# カウンター変数\n",
    "count = 0\n",
    "\n",
    "#　計算\n",
    "while paper_heigt < FUJI :\n",
    "    count += 1\n",
    "    paper_heigt = paper_heigt*2\n",
    "    \n",
    "# 答え\n",
    "print(\"紙を{}回折ると富士山を越える。\".format(count))"
   ]
  },
  {
   "cell_type": "markdown",
   "metadata": {},
   "source": [
    "## 【問題2】任意の厚さに対応した関数を作成  \n",
    ">距離を入力すると、何回折った時に超えるかを出力する関数を作成してください。引数として、折る前の厚さ t<sub>０</sub>も設定できるようにしましょう。  \n",
    ">この関数を利用して、「最も近い太陽以外の恒星」に到達するには紙を何回折る必要があるか計算してください。「最も近い太陽以外の恒星」の距離は調査してください。"
   ]
  },
  {
   "cell_type": "code",
   "execution_count": 8,
   "metadata": {},
   "outputs": [
    {
     "name": "stdout",
     "output_type": "stream",
     "text": [
      "紙を68回折ると最も近い太陽以外の恒星に到達する。\n"
     ]
    }
   ],
   "source": [
    "def paper_count(distance, thickness=0.00008):\n",
    "    \"\"\"\n",
    "    紙の厚さと到達したい目標までの距離を入力すると、何回その紙を折れば\n",
    "    目標に到達できるか計算して出力する関数\n",
    "\n",
    "    Parameteres\n",
    "    --------------\n",
    "    distance: int, float\n",
    "        到達したい目標までの距離\n",
    "    thickness: float\n",
    "        折る紙の厚さ（m） (default : 0.00008)\n",
    "        \n",
    "    Returns\n",
    "    --------------\n",
    "    count: int\n",
    "        紙を折った回数\n",
    "    \"\"\"\n",
    "    # 折った後の厚さを入れる変数に折る前の紙の厚さを代入\n",
    "    paper_heigt = thickness\n",
    "    \n",
    "    # カウンター変数\n",
    "    count = 0\n",
    "    \n",
    "    # 計算\n",
    "    while paper_heigt < distance:\n",
    "        count += 1\n",
    "        paper_heigt = paper_heigt*2\n",
    "        \n",
    "    return count\n",
    "\n",
    "\n",
    "# 紙の厚さを設定（m）\n",
    "thickness = 0.00008\n",
    "\n",
    "#　光年単位を変数に入れる\n",
    "kounen = 9.5*10**15\n",
    "\n",
    "# 目標値までの距離を設定（m）\n",
    "target_distance = 4.2*kounen\n",
    "\n",
    "# 関数を使って紙を折った回数を計算\n",
    "folding_count = paper_count(target_distance, thickness=thickness)\n",
    "\n",
    "# 答え\n",
    "print(\"紙を{}回折ると最も近い太陽以外の恒星に到達する。\".format(folding_count))\n"
   ]
  },
  {
   "cell_type": "markdown",
   "metadata": {},
   "source": [
    "## 【問題3】必要な紙の長さ  \n",
    "\n",
    ">実際のところ身近にある紙は43回はおろか10回も折れません。しかし、大きな紙ほどたくさん折ることができ、トイレットペーパーのような長い紙を一方向に折ることを考えた時の折れる回数を求める公式が存在します。  \n",
    ">厚さ t<sub>0</sub>の紙をn回折るために必要な紙の長さLは以下の公式で求まります。  \n",
    ">L = πt<sub>0</sub>/6 * (2<sup>n</sup>+4) * (2<sup>n</sup>−1)  \n",
    ">この公式を利用して、実際に紙を折り任意の厚さに到達するために必要な紙の長さを求める関数を作成してください。  \n",
    ">そしてこれを使って「月」「富士山」「最も近い太陽以外の恒星」に届くために必要な紙の長さを求めてください。"
   ]
  },
  {
   "cell_type": "code",
   "execution_count": 9,
   "metadata": {},
   "outputs": [
    {
     "name": "stdout",
     "output_type": "stream",
     "text": [
      "月に到達するには3.240919444170781e+21mの紙が必要。\n",
      "富士山に到達するには188646348487.24017mの紙が必要。\n",
      "最も近い太陽以外の恒星に到達するには1.4595803601100348e+37mの紙が必要。\n"
     ]
    }
   ],
   "source": [
    "import math\n",
    "\n",
    "\n",
    "def paper_count(distance, thickness = 0.00008):\n",
    "    \"\"\"\n",
    "    紙の厚さと到達したい目標までの距離を入力すると、何回その紙を折れば\n",
    "    目標に到達できるか計算して出力する関数。（問題２で作成した関数。）\n",
    "\n",
    "    Parameteres\n",
    "    --------------\n",
    "    distance: int, float\n",
    "        到達したい目標までの距離\n",
    "    thickness: float\n",
    "        折る紙の厚さ（m） (default : 0.00008)\n",
    "        \n",
    "    Returns\n",
    "    --------------\n",
    "    count: int\n",
    "        紙を折った回数\n",
    "    \"\"\"\n",
    "    # 折った後の厚さを入れる変数に折る前の紙の厚さを代入\n",
    "    paper_heigt = thickness\n",
    "    \n",
    "    # カウンター変数\n",
    "    count = 0\n",
    "    \n",
    "    # 計算\n",
    "    while paper_heigt < distance:\n",
    "        count += 1\n",
    "        paper_heigt = paper_heigt*2\n",
    "        \n",
    "    return count\n",
    "\n",
    "\n",
    "def paper_length(distance):\n",
    "    \"\"\"\n",
    "    紙を折ることによって到達したい目標距離を入力すると、到達に必要な紙の長さを\n",
    "    計算して出力する関数。\n",
    "    紙を折る回数はpaper_count関数を利用。紙の厚さは0.00008mに設定。\n",
    "\n",
    "    Parameteres\n",
    "    --------------\n",
    "    distance: int, float\n",
    "        到達したい目標までの距離\n",
    "        \n",
    "    Returns\n",
    "    --------------\n",
    "    count: int\n",
    "        紙を折った回数。\n",
    "    \"\"\"\n",
    "    # 紙の厚さを設定（m）\n",
    "    THICKNESS = 0.00008\n",
    "    \n",
    "    # 円周率\n",
    "    PAI = math.pi\n",
    "    \n",
    "    # n乗（紙を折った回数）を取得。作成したpaper_count関数を活用する。\n",
    "    n = paper_count(distance, thickness=THICKNESS)\n",
    "     \n",
    "    # 厚さ THICKNESS の紙をn回折るために必要な紙の長さ\n",
    "    l = (PAI*THICKNESS)/6 * (2**n+ 4) * (2**n-1)\n",
    "    \n",
    "    return l\n",
    "    \n",
    "\n",
    "# キロメートル単位を変数に入れる\n",
    "kilo_meters = 1000\n",
    "\n",
    "#　光年単位を変数に入れる\n",
    "kounen = 9.5*10**15\n",
    "\n",
    "# 求めたい対象の名前と距離をリストに入れる。\n",
    "target_name_list = ['月', '富士山', '最も近い太陽以外の恒星']\n",
    "target_distance_list = [38*10000*kilo_meters , 3778, 4.2*kounen]\n",
    "\n",
    "# 答え\n",
    "for i in range(len(target_name_list)):\n",
    "    # paper_length関数を使用して必要な紙の長さを求める。\n",
    "    required_paper_length = paper_length(target_distance_list[i])\n",
    "    print(\"{}に到達するには{}mの紙が必要。\".format(target_name_list[i], required_paper_length))\n"
   ]
  }
 ],
 "metadata": {
  "kernelspec": {
   "display_name": "Python 3",
   "language": "python",
   "name": "python3"
  },
  "language_info": {
   "codemirror_mode": {
    "name": "ipython",
    "version": 3
   },
   "file_extension": ".py",
   "mimetype": "text/x-python",
   "name": "python",
   "nbconvert_exporter": "python",
   "pygments_lexer": "ipython3",
   "version": "3.7.6"
  }
 },
 "nbformat": 4,
 "nbformat_minor": 4
}
