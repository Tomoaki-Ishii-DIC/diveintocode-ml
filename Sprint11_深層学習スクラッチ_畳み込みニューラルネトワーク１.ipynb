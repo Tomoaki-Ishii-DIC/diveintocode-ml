{
 "cells": [
  {
   "cell_type": "markdown",
   "metadata": {},
   "source": [
    "# Week 1 授業課題1 曽呂利新左衛門問題"
   ]
  },
  {
   "cell_type": "markdown",
   "metadata": {},
   "source": [
    "# 【問題1】100日目の米粒の数  \n",
    ">100日目には合計で米粒をいくつもらっているのかを計算するコードを作成し、答えを出力してください。また、1日目から100日目までの「その日にもらう米の数」と「その日までに累計で貰う米の数」の推移を折れ線グラフで表現してください。（縦軸が米の数、横軸が日数）"
   ]
  },
  {
   "cell_type": "code",
   "execution_count": 14,
   "metadata": {},
   "outputs": [
    {
     "name": "stdout",
     "output_type": "stream",
     "text": [
      "100日目におけるもらった米粒の合計は1267650600228229401496703205375粒です。\n"
     ]
    },
    {
     "data": {
      "image/png": "[encoded data removed]",
      "text/plain": [
       "<Figure size 432x288 with 1 Axes>"
      ]
     },
     "metadata": {
      "needs_background": "light"
     },
     "output_type": "display_data"
    }
   ],
   "source": [
    "import matplotlib.pyplot as plt\n",
    "\n",
    "# 米粒を受け取る日数\n",
    "DAYS = 100\n",
    "\n",
    "# 計算用のリストを作成（受け取る米粒を入れるリストと累計のリスト）\n",
    "rice_grains = []\n",
    "total_grains = []\n",
    "\n",
    "# 初日に受け取る米粒をリストに代入\n",
    "rice_grains.append(1)\n",
    "total_grains.append(1)\n",
    "\n",
    "# 米粒の累計を求める\n",
    "for i in range(1, DAYS):\n",
    "    rice_grains.append(rice_grains[-1]*2)\n",
    "    total_grains.append(sum(rice_grains))\n",
    "    \n",
    "# 答え\n",
    "print(\"100日目におけるもらった米粒の合計は{}粒です。\".format(total_grains[-1]))    \n",
    "\n",
    "# グラフ化する。\n",
    "%matplotlib inline\n",
    "plt.title(\"Rice Grains\")\n",
    "plt.xlabel(\"Days\")\n",
    "plt.ylabel(\"Grains\")\n",
    "plt.plot(rice_grains)\n",
    "plt.plot(total_grains)\n",
    "plt.show()"
   ]
  },
  {
   "cell_type": "markdown",
   "metadata": {},
   "source": [
    "## 【問題2】100日目以外の米粒の数  \n",
    ">この逸話は30日だったり81日だったりと日数が曖昧です。どの話にも対応できるように日数を引数とした 関数 を作成しましょう。関数を作成した上で、コースを受講する日数の間でいくつ米粒をもらえるかを答えてください。前の問題同様に折れ線グラフも出力してください。  \n",
    ">以下の雛形には関数としての枠組みだけではなく、引数や返り値についてのコメントも記載してあります。参考にして、自分なりにも分かりやすくコメントを書き換えてください。"
   ]
  },
  {
   "cell_type": "code",
   "execution_count": 15,
   "metadata": {},
   "outputs": [
    {
     "name": "stdout",
     "output_type": "stream",
     "text": [
      "コースを受講する日数の間にもらえる米粒は31粒です。\n"
     ]
    },
    {
     "data": {
      "image/png": "[encoded data removed]",
      "text/plain": [
       "<Figure size 432x288 with 1 Axes>"
      ]
     },
     "metadata": {
      "needs_background": "light"
     },
     "output_type": "display_data"
    }
   ],
   "source": [
    "import numpy as np\n",
    "import matplotlib.pyplot as plt\n",
    "\n",
    "\n",
    "def compute_sorori_shinzaemon(day=100):\n",
    "    \"\"\"\n",
    "    曽呂利新左衛門の米の逸話を検証する関数。日にちごとの米の粒の数を計算する。\n",
    "\n",
    "    Parameteres\n",
    "    --------------\n",
    "    day: int\n",
    "        米を貰う日数 (default : 100)\n",
    "\n",
    "    Returns\n",
    "    --------------\n",
    "    rice_grains: list\n",
    "        ある日に貰う米の数のリスト（リストの長さはdayに等しくなる）\n",
    "    total_grains: list\n",
    "        ある日までに累計で貰う米の数のリスト（リストの長さはdayに等しくなる）\n",
    "    \"\"\"\n",
    "    # 計算用のリストを作成（受け取る米粒を入れるリストと累計のリスト）\n",
    "    rice_grains = []\n",
    "    total_grains = []\n",
    "    \n",
    "    # 初日に受け取る米粒をリストに代入\n",
    "    rice_grains.append(1)\n",
    "    total_grains.append(1)\n",
    "    \n",
    "    # 米粒の累計を求める\n",
    "    for i in range(1,day):\n",
    "        rice_grains.append(rice_grains[-1]*2)\n",
    "        total_grains.append(sum(rice_grains))\n",
    "        \n",
    "    return rice_grains, total_grains\n",
    "\n",
    "\n",
    "# 調べたい日数を入れる\n",
    "CLASS_DAYS = 31 + 30 + 31 + 31\n",
    "\n",
    "# test\n",
    "CLASS_DAYS = 5\n",
    "\n",
    "# 計算。結果とグラフ用の日数を変数に代入。\n",
    "rice_grains, total_grains = compute_sorori_shinzaemon(day=CLASS_DAYS)\n",
    "    \n",
    "# 答え\n",
    "print(\"コースを受講する日数の間にもらえる米粒は{}粒です。\".format(total_grains[-1]))    \n",
    "\n",
    "\n",
    "# グラフ表示\n",
    "%matplotlib inline\n",
    "plt.title(\"Rice Grains\")\n",
    "plt.xlabel(\"Days\")\n",
    "plt.ylabel(\"Grains\")\n",
    "plt.plot(rice_grains) \n",
    "plt.plot(total_grains) \n",
    "\n",
    "plt.show()"
   ]
  },
  {
   "cell_type": "markdown",
   "metadata": {},
   "source": [
    "## 【問題3】貰える米で何人が何日生活できるか  \n",
    ">この米があれば何人が何日生活できるか計算する関数を作成してください。コースを受講する期間に貰える米粒で、このクラスにいる人数であれば、何日間生活できるかを出力してみましょう。  \n",
    ">関数の最低限の入力は 米粒の数(int) と 人数(int) 、出力は 生活できる日数(int) です。関数名やコメントなどは分かりやすく考えて作成してください。  \n",
    ">ここでは1日に必要な米粒の数は提示しません。自分なりに調べて、計算式に落とし込んでください。どう調べ、何を根拠にしたかもコメントを残しておいてください。"
   ]
  },
  {
   "cell_type": "code",
   "execution_count": 11,
   "metadata": {},
   "outputs": [
    {
     "name": "stdout",
     "output_type": "stream",
     "text": [
      "コース受講中にもらった米粒でメンバー9人が生活できるのは98461333021104878187994584973312日です。\n"
     ]
    }
   ],
   "source": [
    "import matplotlib.pyplot as plt\n",
    "\n",
    "\n",
    "def compute_sorori_shinzaemon(day=100):\n",
    "    \"\"\"\n",
    "    曽呂利新左衛門の米の逸話を検証する関数。日にちごとの米の粒の数を計算する。\n",
    "\n",
    "    Parameteres\n",
    "    --------------\n",
    "    day: int\n",
    "        米を貰う日数 (default : 100)\n",
    "\n",
    "    Returns\n",
    "    --------------\n",
    "    lastday_total_grains : int\n",
    "        最終日のもらった米粒の累計値\n",
    "    \"\"\"\n",
    "    # 計算用のリストを作成\n",
    "    rice_grains = []\n",
    "    total_grains = []\n",
    "    \n",
    "    # 初日に受け取る米粒をリストに代入\n",
    "    rice_grains.append(1)\n",
    "    total_grains.append(1)\n",
    "    \n",
    "    # 米粒の類型を求める\n",
    "    for i in range(1,day):\n",
    "        rice_grains.append(rice_grains[-1]*2)\n",
    "        total_grains.append(sum(rice_grains))\n",
    "        \n",
    "    # 最終日におけるもらった米粒の合計を変数に代入\n",
    "    lastday_total_grains = total_grains[-1]\n",
    "    \n",
    "    return lastday_total_grains\n",
    "\n",
    "\n",
    "def live_days(rice_grains: int, person: int):\n",
    "    \"\"\"\n",
    "    米粒と人数を入力すると何日間生きられるか計算する関数。\n",
    "    大人が１日に食べるのが２合。１合が６０００粒なので一日１２０００粒食べると仮定して作成。\n",
    "\n",
    "    Parameteres\n",
    "    --------------\n",
    "    rice_grains: int\n",
    "        現在ある米粒の数\n",
    "        \n",
    "    person: int\n",
    "        受講生の人数\n",
    "\n",
    "    Returns\n",
    "    --------------\n",
    "    rdays : list\n",
    "        米粒と人数から計算した生活できる日数\n",
    "    \"\"\"\n",
    "    # 一般的な日本人が１日に食べる米粒量\n",
    "    ONEDAY_RICE_GRAIN = 12000\n",
    "    \n",
    "    # 日数計算\n",
    "    days = int(rice_grains/ONEDAY_RICE_GRAIN/person)\n",
    "    \n",
    "    return days\n",
    "\n",
    "\n",
    "\n",
    "# 調べたい日数を入れる\n",
    "CLASS_DAYS = 31 + 30 + 31 + 31\n",
    "\n",
    "# 調べたい人数を入れる\n",
    "MEMBERS = 9\n",
    "\n",
    "# 作成した関数を使って、トータルの米粒を変数に代入。\n",
    "total_grains = compute_sorori_shinzaemon(day=CLASS_DAYS)\n",
    "\n",
    "# 作成した関数を使って、生きることができる日数を計算。\n",
    "answer_days = live_days(total_grains, MEMBERS)\n",
    "\n",
    "# 答え\n",
    "print(\"コース受講中にもらった米粒でメンバー{}人が生活できるのは{}日です。\".format(MEMBERS, answer_days))\n",
    "\n"
   ]
  }
 ],
 "metadata": {
  "kernelspec": {
   "display_name": "Python 3",
   "language": "python",
   "name": "python3"
  },
  "language_info": {
   "codemirror_mode": {
    "name": "ipython",
    "version": 3
   },
   "file_extension": ".py",
   "mimetype": "text/x-python",
   "name": "python",
   "nbconvert_exporter": "python",
   "pygments_lexer": "ipython3",
   "version": "3.7.6"
  }
 },
 "nbformat": 4,
 "nbformat_minor": 4
}
