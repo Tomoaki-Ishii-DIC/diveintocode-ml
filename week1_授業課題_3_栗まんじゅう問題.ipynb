{
 "cells": [
  {
   "cell_type": "markdown",
   "metadata": {},
   "source": [
    "# Week 1 授業課題３ 栗まんじゅう問題  \n",
    "漫画ドラえもんには「バイバイン」という道具が登場する、2のn乗に関する有名なエピソード[1]があります。  \n",
    "[1] 藤子・Ｆ・不二雄(1979)『ドラえもん（１７）』小学館.  \n",
    "「バイバイン」は薬品で、これを振掛けるとその物体は5分ごとに倍に増えるという働きがあります。作中では栗まんじゅうを増やしますが、食べきれなくなったためロケットを使い宇宙に捨てました。  \n",
    "ここで度々話題になるのが、栗まんじゅうはその後宇宙でどのように増えていくのかについてです。様々な議論がされていますが、今回は単純に栗まんじゅうの体積がどう増えるかを計算してみましょう。\n",
    "\n"
   ]
  },
  {
   "cell_type": "markdown",
   "metadata": {},
   "source": [
    "## 【問題】栗まんじゅうが太陽系を覆う日  \n",
    "\n",
    ">1個の栗まんじゅうにバイバインを振りかけた場合、太陽系が栗まんじゅうで覆われるのは何分後でしょうか。これを計算するプログラムを作成してください。  \n",
    ">栗まんじゅうや太陽系の体積を調査した上で仮定して計算してください。栗まんじゅうの隙間や重力などは考えず、問題を単純化して構いません。  \n",
    ">ボールにバイバインを振りかけた時、東京ドームが一杯になる時間など他の状況にも適用できるような汎用的なプログラムを作成してください。また、グラフを表示するなど分かりやすいノートブックを作成してください。"
   ]
  },
  {
   "cell_type": "code",
   "execution_count": 11,
   "metadata": {},
   "outputs": [
    {
     "name": "stdout",
     "output_type": "stream",
     "text": [
      "栗まんじゅうにバイバインをかけると、1100分後に目標サイズに達する。\n"
     ]
    },
    {
     "data": {
      "image/png": "[encoded data removed]",
      "text/plain": [
       "<Figure size 432x288 with 1 Axes>"
      ]
     },
     "metadata": {
      "needs_background": "light"
     },
     "output_type": "display_data"
    }
   ],
   "source": [
    "import numpy as np\n",
    "import matplotlib.pyplot as plt\n",
    "import math\n",
    "\n",
    "\n",
    "def volume_calculation(bai_bai_size , target_size):\n",
    "    \"\"\"\n",
    "    バイバインをかけられた物体の”体積”と目標とする物体の”体積”を入力すると\n",
    "    その物体が何分後に目標のサイズに達するか計算する関数。\n",
    "    バイバインをかけられるとその物体は５分ごとに２倍の大きさになる。\n",
    "\n",
    "    Parameteres\n",
    "    --------------\n",
    "    bai_bai_size: int, float\n",
    "        倍にしたい物体の体積\n",
    "    target_size: int, float\n",
    "    　　　　目標とする物体の体積\n",
    "        \n",
    "    Returns\n",
    "    --------------\n",
    "    bai_bai_time: int\n",
    "        目標到達までにかかる時間\n",
    "    bai_bai_size_list: list\n",
    "        バイバインによって大きくなる物体の５分ごとのサイズの経過リスト\n",
    "    \"\"\"\n",
    "    # バイバインによるサイズ増加記録リスト\n",
    "    bai_bai_size_list = []\n",
    "    \n",
    "    # 初期値の入力\n",
    "    bai_bai_size_list.append(bai_bai_size)\n",
    "\n",
    "    # カウンター変数\n",
    "    count = 0\n",
    "    \n",
    "    # バイバインをかけられた物体が何倍になると目標物のサイズに達するか\n",
    "    while bai_bai_size < target_size:\n",
    "        count += 1\n",
    "        bai_bai_size *= 2\n",
    "        bai_bai_size_list.append(bai_bai_size)\n",
    "     \n",
    "    # バイバインによって目標サイズに達した時間を変数に入れる\n",
    "    bai_bai_time = count*5\n",
    "    \n",
    "    return bai_bai_time, bai_bai_size_list\n",
    "\n",
    "\n",
    "        \n",
    "# 円周率\n",
    "PAI = math.pi\n",
    "\n",
    "# 光年を定義(m)\n",
    "kounen = 9460730472580800\n",
    "\n",
    "# 栗まんじゅう（or ボール）の体積（立方メートル）。栗まんじゅうの半径は約2.5cm\n",
    "bai_bai_r = 2.5/100\n",
    "bai_bai_size = 4/3 *(PAI*bai_bai_r**3)\n",
    "\n",
    "# 太陽系（or 東京ドーム）の体積（立方メートル）。太陽系の半径は約２５０００万光年。\n",
    "target_r = 25000*kounen\n",
    "target_size = 4/3 * (PAI*target_r**3)\n",
    "\n",
    "# 目標の体積に達する時間を変数に入れる。\n",
    "ans, bai_bai_list = volume_calculation(bai_bai_size, target_size)\n",
    "\n",
    "print(\"栗まんじゅうにバイバインをかけると、{}分後に目標サイズに達する。\".format(ans))\n",
    "\n",
    "\n",
    "# グラフ表示\n",
    "%matplotlib inline\n",
    "plt.title(\"Growth of Baibain\")\n",
    "plt.xlabel(\"Minutes\")\n",
    "plt.ylabel(\"Growth\")\n",
    "plt.plot(bai_bai_list) \n",
    "\n",
    "plt.show()"
   ]
  }
 ],
 "metadata": {
  "kernelspec": {
   "display_name": "Python 3",
   "language": "python",
   "name": "python3"
  },
  "language_info": {
   "codemirror_mode": {
    "name": "ipython",
    "version": 3
   },
   "file_extension": ".py",
   "mimetype": "text/x-python",
   "name": "python",
   "nbconvert_exporter": "python",
   "pygments_lexer": "ipython3",
   "version": "3.7.6"
  }
 },
 "nbformat": 4,
 "nbformat_minor": 4
}
