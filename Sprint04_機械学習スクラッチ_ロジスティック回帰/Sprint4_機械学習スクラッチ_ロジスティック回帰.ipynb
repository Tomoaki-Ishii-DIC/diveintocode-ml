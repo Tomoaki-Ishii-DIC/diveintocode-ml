{
 "cells": [
  {
   "cell_type": "markdown",
   "metadata": {},
   "source": [
    "## ロジスティック回帰スクラッチ\n",
    ">ロジスティック回帰のクラスをスクラッチで作成していきます。NumPyなど最低限のライブラリのみを使いアルゴリズムを実装していきます。\n",
    ">以下に雛形を用意してあります。このScratchLogisticRegressionクラスにコードを書き加えていってください。推定関係のメソッドは線形回帰と異なり、ラベルを出力するpredictメソッドと、確率を出力するpredict_probaメソッドの2種類を作成します。"
   ]
  },
  {
   "cell_type": "markdown",
   "metadata": {},
   "source": [
    "### 完成品"
   ]
  },
  {
   "cell_type": "code",
   "execution_count": 1,
   "metadata": {},
   "outputs": [],
   "source": [
    "import numpy as np"
   ]
  },
  {
   "cell_type": "code",
   "execution_count": 2,
   "metadata": {},
   "outputs": [],
   "source": [
    "class ScratchLogisticRegression():\n",
    "    \"\"\"\n",
    "    ロジスティック回帰のスクラッチ実装\n",
    "\n",
    "    Parameters\n",
    "    ----------\n",
    "    num_iter : int\n",
    "      イテレーション数\n",
    "    lr : float\n",
    "      学習率\n",
    "    no_bias : bool\n",
    "      バイアス項を入れない場合はTrue\n",
    "    verbose : bool\n",
    "      学習過程を出力する場合はTrue\n",
    "\n",
    "    Attributes\n",
    "    ----------\n",
    "    self.coef_ : 次の形のndarray, shape (n_features,)\n",
    "      パラメータ\n",
    "    self.loss : 次の形のndarray, shape (self.iter,)\n",
    "      訓練データに対する損失の記録\n",
    "    self.val_loss : 次の形のndarray, shape (self.iter,)\n",
    "      検証データに対する損失の記録\n",
    "\n",
    "    \"\"\"\n",
    "    def __init__(self, num_iter, lr, bias, verbose):\n",
    "        # ハイパーパラメータを属性として記録\n",
    "        self.iter = num_iter\n",
    "        self.lr = lr\n",
    "        self.bias = bias\n",
    "        self.verbose = verbose\n",
    "        # 損失を記録する配列を用意\n",
    "        self.loss = np.zeros(self.iter)\n",
    "        self.val_loss = np.zeros(self.iter)\n",
    "        # θとXを記録する配列を用意\n",
    "        self.theta_ = np.empty(0)\n",
    "        self.X_ = np.empty(0)\n",
    "        \n",
    "        \n",
    "    def fit(self, X, y, alpha=0.01,lam=1, X_val=None, y_val=None):\n",
    "        \"\"\"\n",
    "        ロジスティック回帰を学習する。検証データが入力された場合はそれに対する損失と精度もイテレーションごとに計算する。\n",
    "\n",
    "        Parameters\n",
    "        ----------\n",
    "        X : 次の形のndarray, shape (n_samples, n_features)\n",
    "            訓練データの特徴量\n",
    "        y : 次の形のndarray, shape (n_samples, )\n",
    "            訓練データの正解値\n",
    "        X_val : 次の形のndarray, shape (n_samples, n_features)\n",
    "            検証データの特徴量\n",
    "        y_val : 次の形のndarray, shape (n_samples, )\n",
    "            検証データの正解値\n",
    "        \"\"\"\n",
    "        loss_count = False\n",
    "        \n",
    "        if self.verbose:\n",
    "            #verboseをTrueにした際は学習過程を出力\n",
    "            if X_val is not None and y_val is not None:\n",
    "                loss_count = True\n",
    "            else:\n",
    "                print(\"Warning　：　テストデータの入力がないため、学習過程が記録できません。\")\n",
    "            \n",
    "        if loss_count:\n",
    "            # 定数用のx＝１を作成。\n",
    "            ones_for_constant_val = np.ones(X_val.shape[0]).reshape(-1,1)\n",
    "            X_val = np.concatenate([ones_for_constant_val.reshape(-1,1), X_val], axis=1)\n",
    "\n",
    "            m_val = X_val.shape[0]\n",
    "            \n",
    "            y = y.reshape(-1,1)\n",
    "            y_val = y_val.reshape(-1,1)\n",
    "\n",
    "            # 誤差保管用リスト\n",
    "            train_loss = []\n",
    "            test_loss = []\n",
    "    \n",
    "        # 定数用のx＝１を作成。\n",
    "        if self.X_.size == 0:\n",
    "            ones_for_constant = np.ones(X.shape[0]).reshape(-1,1)\n",
    "            self.X_ = np.concatenate([ones_for_constant.reshape(-1,1), X], axis=1)\n",
    "\n",
    "        #  θ の用意\n",
    "        if self.theta_.size == 0:\n",
    "            # 特徴量の数\n",
    "            n = self.X_.shape[1]\n",
    "            self.theta_ = np.random.rand(n)\n",
    "            \n",
    "            \n",
    "        # サンプル数\n",
    "        m = self.X_.shape[0]\n",
    "        \n",
    "        for _ in range(self.iter):\n",
    "            error = self._error_calculation(self.X_, y)\n",
    "            self._gradient_descent(self.X_, y, X_val, y_val, error, alpha=alpha, lam=lam)\n",
    "            \n",
    "            if loss_count:\n",
    "    \n",
    "                h = self._linear_hypothesis(self.X_)\n",
    "                # クロスエントロピー損失関数のサンプル数分の総和とλ/2mのθ^2の特徴量分の総和\n",
    "                train_j = (np.sum(-y*np.log(h) - (1-y)*np.log(1-h),axis=0)/m)+((lam/(2*m))*np.sum(np.square(self.theta_)))#self.theta_[1:]\n",
    "                train_loss.append(train_j)\n",
    "                \n",
    "                h_val = self._linear_hypothesis(X_val)\n",
    "                # クロスエントロピー損失関数のサンプル数分の総和とλ/2mのθ^2の特徴量分の総和\n",
    "                test_j = (np.sum(-y_val*np.log(h_val) - (1-y_val)*np.log(1-h_val),axis=0)/m_val )+((lam/(2*m_val))*np.sum(np.square(self.theta_)))#self.theta_[1:]\n",
    "                test_loss.append(test_j)\n",
    "                \n",
    "        if loss_count:\n",
    "            self.loss = np.array(train_loss)\n",
    "            self.val_loss = np.array(test_loss)\n",
    "            \n",
    "        # 【問題８】　重みを保存\n",
    "        np.save('./weight/theta_save', self.theta_)\n",
    "    \n",
    "    \n",
    "    def _linear_hypothesis(self, X, comment=False):\n",
    "        \"\"\"\n",
    "        線形の仮定関数を計算する\n",
    "\n",
    "        Parameters\n",
    "        ----------\n",
    "        X : 次の形のndarray, shape (n_samples, n_features)\n",
    "          訓練データ\n",
    "\n",
    "        Returns\n",
    "        -------\n",
    "          次の形のndarray, shape (n_samples, 1)\n",
    "          線形の仮定関数による推定結果\n",
    "\n",
    "        \"\"\"\n",
    "        # 定数用のx＝１を作成。\n",
    "        if self.X_.size == 0:\n",
    "            ones_for_constant = np.ones(X.shape[0]).reshape(-1,1)\n",
    "            X = np.concatenate([ones_for_constant.reshape(-1,1), X], axis=1)\n",
    "            self.X_ = X\n",
    "            \n",
    "        #  θ の用意\n",
    "        if self.theta_.size == 0:\n",
    "            # 特徴量の数\n",
    "            n = self.X_.shape[1]\n",
    "            # θ の用意\n",
    "            self.theta_ = np.random.rand(n)\n",
    "        \n",
    "        if comment:\n",
    "            print(\"Xの値:\\n{}\".format(self.X_))\n",
    "            print(\"Xの形:　{}\".format(self.X_.shape))\n",
    "            print(\"θの値: {}\".format(self.theta_))\n",
    "            print(\"θの形: {}\".format(self.theta_.shape))\n",
    "        \n",
    "        linear_h = np.sum(self.theta_.T*X, axis=1).reshape(-1,1)\n",
    "        sigmoid = 1/(1+np.exp(-linear_h))\n",
    "        \n",
    "        return sigmoid\n",
    "    \n",
    "    \n",
    "    def _gradient_descent(self, X, y, X_val, y_val, error, alpha = 0.01, lam=1):\n",
    "        \"\"\"\n",
    "        線形の仮定関数を計算する\n",
    "\n",
    "        Parameters\n",
    "        ----------\n",
    "        X : 次の形のndarray, shape (n_samples, n_features)\n",
    "          訓練データ\n",
    "\n",
    "        Returns\n",
    "        -------\n",
    "          次の形のndarray, shape (n_samples, 1)\n",
    "          線形の仮定関数による推定結果\n",
    "\n",
    "        \"\"\"\n",
    "        # サンプル数\n",
    "        m = X.shape[0]\n",
    "        \n",
    "        # バイアス項用のθをゼロにする\n",
    "        t_n = self.theta_.shape[0]\n",
    "        zero_one_for_theta = np.concatenate([np.array([0]).reshape(-1,1), np.ones(t_n-1).reshape(-1,1)], axis=0).reshape(-1,)\n",
    "        \n",
    "        reg_theta = self.theta_*zero_one_for_theta\n",
    "        \n",
    "        self.theta_ = self.theta_ - alpha * (np.sum(error*X, axis=0)/m + (lam/m)*reg_theta)\n",
    "        \n",
    "        return\n",
    "    \n",
    "    \n",
    "    def _error_calculation(self, X, y):\n",
    "        \"\"\"\n",
    "        線形の仮定関数を計算する\n",
    "\n",
    "        Parameters\n",
    "        ----------\n",
    "        X : 次の形のndarray, shape (n_samples, n_features)\n",
    "          訓練データ\n",
    "\n",
    "        Returns\n",
    "        -------\n",
    "          次の形のndarray, shape (n_samples, 1)\n",
    "          線形の仮定関数による推定結果\n",
    "\n",
    "        \"\"\"        \n",
    "        #　仮定関数作成\n",
    "        linear_h = np.sum(self.theta_.T*X, axis=1).reshape(-1,1)\n",
    "        sigmoid = 1/(1+np.exp(-linear_h))\n",
    "        #h = self._linear_hypothesis(X)\n",
    "        \n",
    "        # 仮定関数マイナス正解（すでに微分している形）\n",
    "        error = sigmoid - y.reshape(-1,1)\n",
    "        \n",
    "        return error\n",
    "    \n",
    "    \n",
    "    def predict(self, X, threshold=0.5):\n",
    "        \"\"\"\n",
    "        ロジスティック回帰を使いラベルを推定する。\n",
    "\n",
    "        Parameters\n",
    "        ----------\n",
    "        X : 次の形のndarray, shape (n_samples, n_features)\n",
    "            サンプル\n",
    "\n",
    "        Returns\n",
    "        -------\n",
    "            次の形のndarray, shape (n_samples, 1)\n",
    "            ロジスティック回帰による推定結果\n",
    "        \"\"\"\n",
    "        pred = np.where(self.predict_proba(X) <  threshold, 0, 1).reshape(-1,)\n",
    "\n",
    "        return pred\n",
    "    \n",
    "    \n",
    "    def predict_proba(self, X):\n",
    "        \"\"\"\n",
    "        ロジスティック回帰を使い確率を推定する。\n",
    "\n",
    "        Parameters\n",
    "        ----------\n",
    "        X : 次の形のndarray, shape (n_samples, n_features)\n",
    "            サンプル\n",
    "\n",
    "        Returns\n",
    "        -------\n",
    "            次の形のndarray, shape (n_samples, 1)\n",
    "            ロジスティック回帰による推定結果\n",
    "        \"\"\"\n",
    "        # 定数用のx＝１を作成。\n",
    "        ones_for_constant = np.ones(X.shape[0]).reshape(-1,1)\n",
    "        X = np.concatenate([ones_for_constant.reshape(-1,1), X], axis=1)\n",
    "\n",
    "        # 仮定関数の出力が推定結果\n",
    "        linear_h = np.sum(self.theta_.T*X, axis=1).reshape(-1,1)\n",
    "        pred_proba = 1/(1+np.exp(-linear_h))\n",
    "        \n",
    "        return pred_proba\n",
    "    \n",
    "    \n",
    "    def weight_restoration(self):\n",
    "        \"\"\"\n",
    "        すでに保存された重みを復元する。\n",
    "\n",
    "        Parameters\n",
    "        ----------\n",
    "        \n",
    "        Returns\n",
    "        -------\n",
    "        \"\"\"\n",
    "        # 【問題８】　重みを復元\n",
    "        self.theta_ = np.load('./weight/theta_save.npy')\n"
   ]
  },
  {
   "cell_type": "code",
   "execution_count": 3,
   "metadata": {},
   "outputs": [],
   "source": [
    "# 検証用データ\n",
    "\n",
    "# サンプル 4個　　特徴量　2\n",
    "X_q1 = np.array([[1,2], [3,4], [5,6], [7,8]])\n",
    "\n",
    "# サンプル ５個　　特徴量　１   \n",
    "# X_train = np.array([[1],[2],[3],[4],[5]])\n",
    "\n",
    "# サンプル３個　特徴量　１ \n",
    "#X_train = np.array([[1], [2], [3]])\n",
    "\n",
    "# サンプル３個　特徴量　２ \n",
    "X_train = np.array([[1,2], [3,4], [5,6]])\n",
    "\n",
    "# サンプル４個　特徴量３\n",
    "#X_train = np.array([[1,2,7], [3,4,8], [5,6,9], [10,11,12]])\n",
    "\n",
    "\n",
    "# サンプル　１    \n",
    "# y_train = np.array([1])\n",
    "\n",
    "# サンプル　２ \n",
    "#y_train = np.array([0, 1])\n",
    "\n",
    "# サンプル　３\n",
    "y_train = np.array([0, 1, 0])\n",
    "\n",
    "# サンプル　4\n",
    "#y_train = np.array([[0], [1], [0], [0]])\n",
    "\n",
    "\n",
    "# サンプル５個　特徴量　１    \n",
    "# X_test = np.array([[1],[2],[3],[4],[5]])\n",
    "\n",
    "# サンプル３個　特徴量　１ \n",
    "#X_test  = np.array([[1], [2], [3]])\n",
    "\n",
    "# サンプル３個　特徴量２ \n",
    "X_test  = np.array([[2,1], [4,3], [6,5]])\n",
    "\n",
    "# サンプル４個　特徴量３\n",
    "#X_test  = np.array([[1,2,7], [3,4,8], [5,6,9], [10,11,12]])\n",
    "\n",
    "\n",
    "# サンプル　１    \n",
    "#y_test  = np.array([1])\n",
    "\n",
    "# サンプル　２ \n",
    "#y_test  = np.array([0, 1])\n",
    "\n",
    "# サンプル　３\n",
    "y_test = np.array([1,0,1])\n",
    "\n",
    "\n",
    "alpha = 0.03"
   ]
  },
  {
   "cell_type": "markdown",
   "metadata": {},
   "source": [
    "## 【問題1】仮定関数  \n",
    "\n",
    ">ロジスティック回帰の仮定関数のメソッドをScratchLogisticRegressionクラスに実装してください。\n",
    ">ロジスティック回帰の仮定関数は、線形回帰の仮定関数を シグモイド関数 に通したものです。シグモイド関数は以下の式で表されます。\n",
    ">\n",
    ">$\n",
    "g(z) = \\frac{1}{1+e^{−z}}.\n",
    "$\n",
    ">\n",
    ">線形回帰の仮定関数は次の式でした。\n",
    ">\n",
    ">$\n",
    "h_\\theta(x) = \\theta^T \\cdot x.\n",
    "$\n",
    ">\n",
    ">まとめて書くと、ロジスティック回帰の仮定関数は次のようになります。\n",
    ">\n",
    ">$\n",
    "h_\\theta(x) = \\frac{1}{1+e^{−\\theta^T \\cdot x}}.\n",
    ">\n",
    ">x : 特徴量ベクトル\n",
    ">\n",
    ">θ : パラメータ（重み）ベクトル"
   ]
  },
  {
   "cell_type": "code",
   "execution_count": 4,
   "metadata": {},
   "outputs": [
    {
     "name": "stdout",
     "output_type": "stream",
     "text": [
      "Xの値:\n",
      "[[1. 1. 2.]\n",
      " [1. 3. 4.]\n",
      " [1. 5. 6.]\n",
      " [1. 7. 8.]]\n",
      "Xの形:　(4, 3)\n",
      "θの値: [0.43219739 0.67326245 0.29056658]\n",
      "θの形: (3,)\n",
      "hの値:\n",
      "[[0.84377558]\n",
      " [0.97376948]\n",
      " [0.99609626]\n",
      " [0.99943015]]\n",
      "hの形: (4, 1)\n"
     ]
    }
   ],
   "source": [
    "# 【問題１】\n",
    "# __init__ に self.theta_ = np.empty(0)、self.X_ = np.empty(0) を追加して初期化\n",
    "# _linear_hypothesis 内にて self.X_ が空白の場合に 先頭行に １ を追加するように作成\n",
    "\n",
    "# 適当にインスタンス化\n",
    "logistic_1 = ScratchLogisticRegression(10,2,True,True)\n",
    "\n",
    "h_return = logistic_1._linear_hypothesis(X_q1, comment=True)\n",
    "\n",
    "# h の要素数はサンプル数と等しい。０〜１までの確率で表される。\n",
    "print(\"hの値:\\n{}\".format(h_return))\n",
    "print(\"hの形: {}\".format(h_return.shape))\n"
   ]
  },
  {
   "cell_type": "markdown",
   "metadata": {},
   "source": [
    "## 【問題2】最急降下法  \n",
    ">最急降下法により学習させる実装を行なってください。以下の式で表されるパラメータの更新式のメソッド_gradient_descentを追加し、fit\n",
    "メソッドから呼び出すようにしてください。 \n",
    ">\n",
    ">$\n",
    "\\theta_j := \\theta_j - \\alpha \\frac{\\partial J(\\theta)}{\\partial \\theta_j}\n",
    "$  \n",
    ">\n",
    ">$\n",
    "\\frac{\\partial J(\\theta)}{\\partial \\theta_0} = \\frac{1}{m}  \\sum_{i=1}^{m}(h_θ(x^{(i)}) − y^{(i)})x_j^{(i)}  ,j = 0\n",
    "$  \n",
    ">\n",
    ">$\n",
    "\\frac{\\partial J(\\theta)}{\\partial \\theta_j} = \\biggl(\\frac{1}{m}  \\sum_{i=1}^{m}(h_θ(x^{(i)}) − y^{(i)})x_j^{(i)} \\biggr) + \\frac{λ}{m}\\theta_j　 ,j\\geq 1\n",
    "$\n",
    ">\n",
    ">α : 学習率  \n",
    ">i : サンプルのインデックス  \n",
    ">j : 特徴量のインデックス  \n",
    ">m : 入力されるデータの数  \n",
    ">hθ() : 仮定関数  \n",
    ">x : 特徴量ベクトル  \n",
    ">θ : パラメータ（重み）ベクトル  \n",
    ">x(i) : i番目のサンプルの特徴量ベクトル  \n",
    ">y(i) : i番目のサンプルの正解ラベル  \n",
    ">θj : j番目のパラメータ（重み）  \n",
    ">λ : 正則化パラメータ  "
   ]
  },
  {
   "cell_type": "code",
   "execution_count": 5,
   "metadata": {},
   "outputs": [],
   "source": [
    "# 誤差の計算を行う_error_calculation()メソッドを作成し、fitメソッドから呼び出した上で\n",
    "# _gradient_descent メソッドの引数として使用。\n",
    "\n",
    "# インスタンス化\n",
    "logistic = ScratchLogisticRegression(10,2,True,False)\n",
    "logistic.fit(X_train, y_train, alpha=alpha)"
   ]
  },
  {
   "cell_type": "markdown",
   "metadata": {},
   "source": [
    "## 【問題3】推定  \n",
    ">推定する仕組みを実装してください。ScratchLogisticRegressionクラスの雛形に含まれるpredictメソッドとpredict_probaメソッドに書き加えてください。\n",
    ">仮定関数 hθ(x) の出力がpredict_probaの返り値、さらにその値に閾値を設けて1と0のラベルとしたものがpredictの返り値となります。\n",
    "\n"
   ]
  },
  {
   "cell_type": "code",
   "execution_count": 6,
   "metadata": {},
   "outputs": [
    {
     "name": "stdout",
     "output_type": "stream",
     "text": [
      "[[0.61045662]\n",
      " [0.51590994]\n",
      " [0.42021046]]\n"
     ]
    }
   ],
   "source": [
    "print(logistic.predict_proba(X_test))"
   ]
  },
  {
   "cell_type": "code",
   "execution_count": 7,
   "metadata": {},
   "outputs": [
    {
     "name": "stdout",
     "output_type": "stream",
     "text": [
      "[1 1 0]\n"
     ]
    }
   ],
   "source": [
    "print(logistic.predict(X_test, threshold=0.5))"
   ]
  },
  {
   "cell_type": "markdown",
   "metadata": {},
   "source": [
    "## 【問題4】目的関数  \n",
    ">以下の数式で表されるロジスティック回帰の 目的関数（損失関数） を実装してください。そして、これをself.loss, self.val_lossに記録するようにしてください。\n",
    ">\n",
    ">なお、この数式には正則化項が含まれています。\n",
    ">\n",
    ">$\n",
    "J(\\theta)=  \\frac{1}{m}  \\sum_{i=1}^{m}[−y^{(i)} log(h_θ(x^{(i)})) − (1−y^{(i)}) log(1−h_θ(x^{(i)}))] +\n",
    "\\frac{λ}{2m}\\sum_{j=1}^n\n",
    "θ^2_j.\\\\\n",
    "$\n",
    ">\n",
    ">＊数式が見切れる場合、DIVERを全画面にして御覧ください。\n",
    ">\n",
    ">m : 入力されるデータの数\n",
    ">hθ() : 仮定関数\n",
    ">x : 特徴量ベクトル\n",
    ">θ : パラメータ（重み）ベクトル\n",
    ">x(i) : i番目のサンプルの特徴量ベクトル\n",
    ">y(i) : i番目のサンプルの正解ラベル\n",
    ">θj : j番目のパラメータ（重み）\n",
    ">n : 特徴量の数\n",
    ">λ : 正則化パラメータ"
   ]
  },
  {
   "cell_type": "code",
   "execution_count": 33,
   "metadata": {},
   "outputs": [
    {
     "name": "stdout",
     "output_type": "stream",
     "text": [
      "目的関数（損失関数）　トレーニングデータ:\n",
      "[[1.9762881 ]\n",
      " [1.67499907]\n",
      " [1.41221456]\n",
      " [1.19811895]\n",
      " [1.03887015]\n",
      " [0.93153653]\n",
      " [0.86476175]\n",
      " [0.82501838]\n",
      " [0.80160718]\n",
      " [0.78764791]]\n",
      "目的関数（損失関数）　テストデータ:\n",
      "[[1.22328318]\n",
      " [1.07531718]\n",
      " [0.95047265]\n",
      " [0.85439155]\n",
      " [0.79024782]\n",
      " [0.75560116]\n",
      " [0.74275482]\n",
      " [0.74283191]\n",
      " [0.7491055 ]\n",
      " [0.75758257]]\n"
     ]
    }
   ],
   "source": [
    "# インスタンス化\n",
    "logistic_4 = ScratchLogisticRegression(10,2,True,True)\n",
    "logistic_4.fit(X_train, y_train, alpha=alpha, X_val=X_test, y_val=y_test)\n",
    "\n",
    "print(\"目的関数（損失関数）　トレーニングデータ:\\n{}\".format(logistic_4.loss))\n",
    "print(\"目的関数（損失関数）　テストデータ:\\n{}\".format(logistic_4.val_loss))"
   ]
  },
  {
   "cell_type": "markdown",
   "metadata": {},
   "source": [
    "## 【問題5】学習と推定  \n",
    ">機械学習スクラッチ入門のSprintで用意したirisデータセットのvirgicolorとvirginicaの2値分類に対してスクラッチ実装の学習と推定を行なってください。\n",
    ">scikit-learnによる実装と比べ、正しく動いているかを確認してください。\n",
    ">AccuracyやPrecision、Recallなどの指標値はscikit-learnを使用してください。\n",
    "\n"
   ]
  },
  {
   "cell_type": "code",
   "execution_count": 64,
   "metadata": {},
   "outputs": [],
   "source": [
    "import pandas as pd"
   ]
  },
  {
   "cell_type": "code",
   "execution_count": 65,
   "metadata": {},
   "outputs": [],
   "source": [
    "from decimal import Decimal, ROUND_HALF_UP\n",
    "\n",
    "# Sprint 1 で作成した関数\n",
    "def scratch_train_test_split(X, y, train_size=0.8,):\n",
    "    \"\"\"\n",
    "    検証データを分割する。\n",
    "\n",
    "    Parameters\n",
    "    ----------\n",
    "    X : 次の形のndarray, shape (n_samples, n_features)\n",
    "      訓練データ\n",
    "    y : 次の形のndarray, shape (n_samples, )\n",
    "      正解値\n",
    "    train_size : float (0<train_size<1)\n",
    "      何割をtrainとするか指定\n",
    "\n",
    "    Returns\n",
    "    ----------\n",
    "    X_train : 次の形のndarray, shape (n_samples, n_features)\n",
    "      訓練データ\n",
    "    X_test : 次の形のndarray, shape (n_samples, n_features)\n",
    "      検証データ\n",
    "    y_train : 次の形のndarray, shape (n_samples, )\n",
    "      訓練データの正解値\n",
    "    y_test : 次の形のndarray, shape (n_samples, )\n",
    "      検証データの正解値\n",
    "    \"\"\"\n",
    "    # return none では戻り値をアンパック代入できないため予め引数用配列を用意\n",
    "    X_train = np.empty(0)\n",
    "    X_test = np.empty(0)\n",
    "    y_train = np.empty(0)\n",
    "    y_test = np.empty(0)\n",
    "    \n",
    "    if (type(X) is not np.ndarray)or(type(y) is not np.ndarray):\n",
    "        print(\"ERROR: Xまたはyがndarrayではありません。\")\n",
    "    elif (X.ndim !=2)or(y.ndim !=1):\n",
    "        print(\"ERROR: Xまたはyの次元が異なります。\")\n",
    "    else:\n",
    "        # 入力データの行数\n",
    "        X_row = X.shape[0]\n",
    "        y_row = len(y)\n",
    "        \n",
    "        if not X_row == y_row:\n",
    "            print(\"ERROR: Xとyの行数が違います。行数を合わせてください。\")\n",
    "        else:\n",
    "            # trainの行数を計算。四捨五入するためにDecimal型に変換。\n",
    "            train_row = Decimal(X_row*train_size)\n",
    "            # 四捨五入した後、int型に戻す\n",
    "            train_row = int(train_row.quantize(Decimal('0'), rounding=ROUND_HALF_UP))\n",
    "\n",
    "            X_columns = X.shape[1]\n",
    "            \n",
    "            # concatenateを用いて２つのリストを列方向に結合する\n",
    "            Xy_array = np.concatenate((X, y.reshape(-1,1)), axis=1)\n",
    "            Xy_rand = np.random.permutation(Xy_array)\n",
    "            \n",
    "            X_train = Xy_rand[:train_row,:X_columns]\n",
    "            X_test = Xy_rand[train_row:,:X_columns]\n",
    "            y_train = Xy_rand[:train_row,X_columns]\n",
    "            y_test = Xy_rand[train_row:,X_columns]\n",
    "        \n",
    "    return X_train, X_test, y_train, y_test"
   ]
  },
  {
   "cell_type": "code",
   "execution_count": 66,
   "metadata": {},
   "outputs": [],
   "source": [
    "# scikit-learn から　iris データセットを読み込む\n",
    "from sklearn.datasets import load_iris\n",
    "\n",
    "# iris データセットを変数に格納する\n",
    "data = load_iris()\n",
    "\n",
    "# 行と列のインデックス用のリストを用意\n",
    "iris_data_columns=['sepal_length', 'sepal_width','petal_length','petal_width']\n",
    "iris_target_columns=['Species',]\n",
    "\n",
    "# pandas のデータフレームにする\n",
    "X_data = pd.DataFrame(data=data['data'], columns=iris_data_columns)\n",
    "y_data = pd.DataFrame(data=data['target'], columns=iris_target_columns)\n",
    "\n",
    "# Xとyを列方向に結合\n",
    "df = pd.concat([X_data, y_data], axis=1)\n",
    "\n",
    "# 条件に従って抜き出し\n",
    "df_ex = df[df['Species'] >=1]\n",
    "\n",
    "# 処理用\n",
    "X_iris = np.array(df_ex[['sepal_length', 'sepal_width', 'petal_length', 'petal_width']])\n",
    "y_iris = np.array(df_ex['Species']) - 1#　0,1にしたいので\n"
   ]
  },
  {
   "cell_type": "code",
   "execution_count": 67,
   "metadata": {},
   "outputs": [
    {
     "name": "stdout",
     "output_type": "stream",
     "text": [
      "X_trainの形は：(80, 4)\n",
      "y_trainの形は：(80,)\n",
      "X_testの形は：(20, 4)\n",
      "y_testの形は：(20,)\n"
     ]
    }
   ],
   "source": [
    "X_train_i, X_test_i, y_train_i, y_test_i = scratch_train_test_split(X_iris, y_iris, train_size=0.8)\n",
    "\n",
    "print(\"X_trainの形は：{}\".format(X_train_i.shape))\n",
    "print(\"y_trainの形は：{}\".format(y_train_i.shape))\n",
    "print(\"X_testの形は：{}\".format(X_test_i.shape))\n",
    "print(\"y_testの形は：{}\".format(y_test_i.shape))\n"
   ]
  },
  {
   "cell_type": "code",
   "execution_count": 68,
   "metadata": {},
   "outputs": [],
   "source": [
    "from sklearn.preprocessing import StandardScaler\n",
    "\n",
    "# 標準化クラスをインスタンス化\n",
    "scaler = StandardScaler()\n",
    "\n",
    "# 配列Xの平均と分散を計算して記憶する\n",
    "scaler.fit(X_train_i)\n",
    "\n",
    "# 標準化\n",
    "X_train_i_scaled = scaler.transform(X_train_i)\n",
    "X_test_i_scaled = scaler.transform(X_test_i)"
   ]
  },
  {
   "cell_type": "code",
   "execution_count": 69,
   "metadata": {},
   "outputs": [],
   "source": [
    "# インスタンス化\n",
    "logistic_5 = ScratchLogisticRegression(10000,2,True,True)\n",
    "logistic_5.fit(X_train_i_scaled, y_train_i, alpha=0.01, lam=0.1, X_val=X_test_i_scaled, y_val=y_test_i)#lam=100\n",
    "#logistic_5.fit(X_train_i_scaled, y_train_i, alpha=0.1, lam=0.1, X_val=X_test_i_scaled, y_val=y_test_i)#lam=100\n"
   ]
  },
  {
   "cell_type": "code",
   "execution_count": 70,
   "metadata": {},
   "outputs": [
    {
     "name": "stdout",
     "output_type": "stream",
     "text": [
      "推定値（確率）:\n",
      "[[9.18779875e-01]\n",
      " [4.22094255e-01]\n",
      " [9.99724145e-01]\n",
      " [6.41888042e-03]\n",
      " [2.90096766e-03]\n",
      " [9.99993652e-01]\n",
      " [9.34899940e-01]\n",
      " [9.69604654e-01]\n",
      " [7.80337248e-01]\n",
      " [3.27308107e-02]\n",
      " [7.57726697e-01]\n",
      " [5.92642925e-03]\n",
      " [9.99811652e-01]\n",
      " [1.09701171e-03]\n",
      " [2.42795160e-03]\n",
      " [9.97253002e-01]\n",
      " [9.63458009e-01]\n",
      " [7.02092364e-04]\n",
      " [6.84484157e-03]\n",
      " [1.57184419e-02]]\n",
      "推定値（閾値あり）:\n",
      "[1 0 1 0 0 1 1 1 1 0 1 0 1 0 0 1 1 0 0 0]\n"
     ]
    }
   ],
   "source": [
    "print(\"推定値（確率）:\\n{}\".format(logistic_5.predict_proba(X_test_i_scaled)))\n",
    "\n",
    "y_pred_i = logistic_5.predict(X_test_i_scaled, threshold=0.5)\n",
    "print(\"推定値（閾値あり）:\\n{}\".format(y_pred_i))"
   ]
  },
  {
   "cell_type": "code",
   "execution_count": 71,
   "metadata": {},
   "outputs": [
    {
     "name": "stdout",
     "output_type": "stream",
     "text": [
      "目的関数（損失関数）　トレーニングデータ:\n",
      "[[0.56599032]\n",
      " [0.56455919]\n",
      " [0.56313748]\n",
      " ...\n",
      " [0.10972419]\n",
      " [0.10972286]\n",
      " [0.10972152]]\n",
      "目的関数（損失関数）　テストデータ:\n",
      "[[0.50926203]\n",
      " [0.50788691]\n",
      " [0.50652262]\n",
      " ...\n",
      " [0.12949455]\n",
      " [0.1294935 ]\n",
      " [0.12949245]]\n"
     ]
    }
   ],
   "source": [
    "print(\"目的関数（損失関数）　トレーニングデータ:\\n{}\".format(logistic_5.loss))\n",
    "print(\"目的関数（損失関数）　テストデータ:\\n{}\".format(logistic_5.val_loss))"
   ]
  },
  {
   "cell_type": "code",
   "execution_count": 72,
   "metadata": {},
   "outputs": [],
   "source": [
    "#from sklearn import metrics\n",
    "from sklearn.metrics import accuracy_score\n",
    "from sklearn.metrics import precision_score\n",
    "from sklearn.metrics import recall_score\n",
    "from sklearn.metrics import f1_score"
   ]
  },
  {
   "cell_type": "code",
   "execution_count": 73,
   "metadata": {},
   "outputs": [
    {
     "name": "stdout",
     "output_type": "stream",
     "text": [
      "['MyLogisticRegression', 0.95, 1.0, 0.9090909090909091, 0.9523809523809523]\n"
     ]
    }
   ],
   "source": [
    "# 精度をまとめるための空のリストを用意\n",
    "verification_logistic =[ 'MyLogisticRegression']\n",
    "\n",
    "\n",
    "#Accuracy（正解率）\n",
    "verification_logistic.append(accuracy_score(y_test_i, y_pred_i))\n",
    "\n",
    "#Precision（適合率）\n",
    "verification_logistic.append(precision_score(y_test_i, y_pred_i))\n",
    "\n",
    "#Recall（再現率）\n",
    "verification_logistic.append(recall_score(y_test_i, y_pred_i))\n",
    "\n",
    "#F値\n",
    "verification_logistic.append(f1_score(y_test_i, y_pred_i))\n",
    "\n",
    "\n",
    "print(verification_logistic)"
   ]
  },
  {
   "cell_type": "markdown",
   "metadata": {},
   "source": [
    "### Scikit-learnによる推定"
   ]
  },
  {
   "cell_type": "code",
   "execution_count": 74,
   "metadata": {},
   "outputs": [
    {
     "name": "stdout",
     "output_type": "stream",
     "text": [
      "ロジスティック回帰による予測値\n",
      "[1. 0. 1. 0. 0. 1. 1. 1. 1. 0. 1. 0. 1. 0. 0. 1. 1. 0. 0. 0.]\n",
      "['sklearn_LogisticRegression', 0.95, 1.0, 0.9090909090909091, 0.9523809523809523]\n"
     ]
    }
   ],
   "source": [
    "#ロジスティック回帰\n",
    "\n",
    "from sklearn.linear_model import LogisticRegression\n",
    "\n",
    "\n",
    "# 精度をまとめるための空のリストを用意\n",
    "verification_logistic_sk =[ 'sklearn_LogisticRegression']\n",
    "\n",
    "\n",
    "logistic_sk = LogisticRegression()\n",
    "logistic_sk.fit(X_train_i_scaled, y_train_i)\n",
    "y_pred_i_sk = logistic_sk.predict(X_test_i_scaled)\n",
    "print(\"ロジスティック回帰による予測値\\n{}\".format(y_pred_i_sk))\n",
    "\n",
    "#Accuracy（正解率）\n",
    "verification_logistic_sk.append(accuracy_score(y_test_i, y_pred_i_sk))\n",
    "\n",
    "#Precision（適合率）\n",
    "verification_logistic_sk.append(precision_score(y_test_i, y_pred_i_sk))\n",
    "\n",
    "#Recall（再現率）\n",
    "verification_logistic_sk.append(recall_score(y_test_i, y_pred_i_sk))\n",
    "\n",
    "#F値\n",
    "verification_logistic_sk.append(f1_score(y_test_i, y_pred_i_sk))\n",
    "\n",
    "\n",
    "print(verification_logistic_sk)"
   ]
  },
  {
   "cell_type": "code",
   "execution_count": 75,
   "metadata": {},
   "outputs": [
    {
     "data": {
      "text/html": [
       "<div>\n",
       "<style scoped>\n",
       "    .dataframe tbody tr th:only-of-type {\n",
       "        vertical-align: middle;\n",
       "    }\n",
       "\n",
       "    .dataframe tbody tr th {\n",
       "        vertical-align: top;\n",
       "    }\n",
       "\n",
       "    .dataframe thead th {\n",
       "        text-align: right;\n",
       "    }\n",
       "</style>\n",
       "<table border=\"1\" class=\"dataframe\">\n",
       "  <thead>\n",
       "    <tr style=\"text-align: right;\">\n",
       "      <th></th>\n",
       "      <th>Model</th>\n",
       "      <th>Accuracy（正解率）</th>\n",
       "      <th>Precision（適合率）</th>\n",
       "      <th>Recall（再現率）</th>\n",
       "      <th>F値</th>\n",
       "    </tr>\n",
       "  </thead>\n",
       "  <tbody>\n",
       "    <tr>\n",
       "      <th>0</th>\n",
       "      <td>MyLogisticRegression</td>\n",
       "      <td>0.95</td>\n",
       "      <td>1.0</td>\n",
       "      <td>0.909091</td>\n",
       "      <td>0.952381</td>\n",
       "    </tr>\n",
       "    <tr>\n",
       "      <th>1</th>\n",
       "      <td>sklearn_LogisticRegression</td>\n",
       "      <td>0.95</td>\n",
       "      <td>1.0</td>\n",
       "      <td>0.909091</td>\n",
       "      <td>0.952381</td>\n",
       "    </tr>\n",
       "  </tbody>\n",
       "</table>\n",
       "</div>"
      ],
      "text/plain": [
       "                        Model  Accuracy（正解率）  Precision（適合率）  Recall（再現率）  \\\n",
       "0        MyLogisticRegression           0.95             1.0     0.909091   \n",
       "1  sklearn_LogisticRegression           0.95             1.0     0.909091   \n",
       "\n",
       "         F値  \n",
       "0  0.952381  \n",
       "1  0.952381  "
      ]
     },
     "metadata": {},
     "output_type": "display_data"
    }
   ],
   "source": [
    "# 表を作成するために計算結果を２次元配列にする\n",
    "verification_result = [\n",
    "            verification_logistic, \n",
    "            verification_logistic_sk, \n",
    "        ]\n",
    "\n",
    "# 行と列のインデックスようのリストを用意\n",
    "data_columns=['Model', 'Accuracy（正解率）', 'Precision（適合率）', 'Recall（再現率）', 'F値' ]\n",
    "\n",
    "# pandas のデータフレームにする\n",
    "df_verification = pd.DataFrame(data=verification_result, columns=data_columns)\n",
    "\n",
    "display(df_verification)"
   ]
  },
  {
   "cell_type": "code",
   "execution_count": 76,
   "metadata": {},
   "outputs": [
    {
     "name": "stdout",
     "output_type": "stream",
     "text": [
      "自作関数の推定値（閾値あり）:\n",
      "[1 0 1 0 0 1 1 1 1 0 1 0 1 0 0 1 1 0 0 0]\n",
      "ロジスティック回帰による予測値\n",
      "[1. 0. 1. 0. 0. 1. 1. 1. 1. 0. 1. 0. 1. 0. 0. 1. 1. 0. 0. 0.]\n"
     ]
    }
   ],
   "source": [
    "print(\"自作関数の推定値（閾値あり）:\\n{}\".format(y_pred_i))\n",
    "print(\"ロジスティック回帰による予測値\\n{}\".format(y_pred_i_sk))"
   ]
  },
  {
   "cell_type": "markdown",
   "metadata": {},
   "source": [
    "## 【問題6】学習曲線のプロット  \n",
    ">学習曲線を見て損失が適切に下がっているかどうか確認してください。\n",
    "\n"
   ]
  },
  {
   "cell_type": "code",
   "execution_count": 77,
   "metadata": {},
   "outputs": [],
   "source": [
    "import matplotlib.pyplot as plt"
   ]
  },
  {
   "cell_type": "code",
   "execution_count": 78,
   "metadata": {},
   "outputs": [
    {
     "data": {
      "text/plain": [
       "<matplotlib.legend.Legend at 0x7fade94a9b90>"
      ]
     },
     "execution_count": 78,
     "metadata": {},
     "output_type": "execute_result"
    },
    {
     "data": {
      "image/png": "[encoded data removed]",
      "text/plain": [
       "<Figure size 432x288 with 1 Axes>"
      ]
     },
     "metadata": {
      "needs_background": "light"
     },
     "output_type": "display_data"
    }
   ],
   "source": [
    "fig = plt.figure()\n",
    "ax = fig.add_subplot(1, 1, 1)\n",
    "\n",
    "ax.set_title('Loss function')\n",
    "ax.set_xlabel('iteration')\n",
    "ax.set_ylabel('loss')\n",
    " \n",
    "ax.plot(logistic_5.loss, 'k--', color='b', label='train_loss')\n",
    "ax.plot(logistic_5.val_loss, 'k', color='darkorange', label='val_loss')\n",
    " \n",
    "ax.legend(loc='best')"
   ]
  },
  {
   "cell_type": "markdown",
   "metadata": {},
   "source": [
    "## 【問題7】決定領域の可視化  \n",
    ">決定領域を可視化してください。"
   ]
  },
  {
   "cell_type": "markdown",
   "metadata": {},
   "source": [
    "特徴量４つで学習を行っってきたが、グラフ化が難しいため、改めて特徴量２つで学習。"
   ]
  },
  {
   "cell_type": "code",
   "execution_count": 24,
   "metadata": {},
   "outputs": [],
   "source": [
    "# 処理用\n",
    "X_2dris_2d = np.array(df_ex[['petal_length','petal_width']])#'sepal_length', 'sepal_width', 'petal_length','petal_width'\n",
    "y_2dris_2d = np.array(df_ex['Species']) - 1#　0,1にしたいので −１\n",
    "\n",
    "X_train_2d, X_test_2d, y_train_2d, y_test_2d = scratch_train_test_split(X_2dris_2d, y_2dris_2d, train_size=0.8)\n",
    "\n",
    "# 標準化クラスをインスタンス化\n",
    "scaler_2d = StandardScaler()\n",
    "\n",
    "# 配列Xの平均と分散を計算して記憶する\n",
    "scaler_2d.fit(X_train_2d)\n",
    "\n",
    "# 標準化\n",
    "X_train_2d_scaled = scaler_2d.transform(X_train_2d)\n",
    "X_test_2d_scaled = scaler_2d.transform(X_test_2d)\n"
   ]
  },
  {
   "cell_type": "code",
   "execution_count": 25,
   "metadata": {},
   "outputs": [],
   "source": [
    "# インスタンス化\n",
    "logistic_7 = ScratchLogisticRegression(10000,2,True,True)\n",
    "logistic_7.fit(X_train_2d_scaled, y_train_2d, alpha=0.01, lam=0.1, X_val=X_test_2d_scaled, y_val=y_test_2d)#lam=100\n"
   ]
  },
  {
   "cell_type": "code",
   "execution_count": 26,
   "metadata": {},
   "outputs": [
    {
     "name": "stdout",
     "output_type": "stream",
     "text": [
      "自作関数の推定値（閾値あり）:\n",
      "[1 0 1 0 1 1 0 0 1 1 1 0 0 0 0 0 0 1 1 0]\n",
      "1.0\n",
      "1.0\n",
      "1.0\n",
      "1.0\n"
     ]
    }
   ],
   "source": [
    "y_pred_2d = logistic_7.predict(X_test_2d_scaled, threshold=0.5)\n",
    "print(\"自作関数の推定値（閾値あり）:\\n{}\".format(y_pred_2d))\n",
    "\n",
    "#Accuracy（正解率）\n",
    "print(accuracy_score(y_test_2d, y_pred_2d))\n",
    "\n",
    "#Precision（適合率）\n",
    "print(precision_score(y_test_2d, y_pred_2d))\n",
    "\n",
    "#Recall（再現率）\n",
    "print(recall_score(y_test_2d, y_pred_2d))\n",
    "\n",
    "#F値\n",
    "print(f1_score(y_test_2d, y_pred_2d))"
   ]
  },
  {
   "cell_type": "code",
   "execution_count": 27,
   "metadata": {},
   "outputs": [
    {
     "data": {
      "image/png": "[encoded data removed]",
      "text/plain": [
       "<Figure size 432x288 with 1 Axes>"
      ]
     },
     "metadata": {
      "needs_background": "light"
     },
     "output_type": "display_data"
    },
    {
     "data": {
      "image/png": "[encoded data removed]",
      "text/plain": [
       "<Figure size 432x288 with 1 Axes>"
      ]
     },
     "metadata": {
      "needs_background": "light"
     },
     "output_type": "display_data"
    }
   ],
   "source": [
    "plt.title('TRAINING')\n",
    "plt.xlabel('petal_length')\n",
    "plt.ylabel('petal_width')\n",
    "\n",
    "x0 = np.linspace(-2, 2, 100)\n",
    "plt.scatter(X_train_2d_scaled[:,0],X_train_2d_scaled[:,1], c=y_train_2d)\n",
    "\n",
    "Y = (0.5 - logistic_7.theta_[1]*x0  - logistic_7.theta_[0]) / logistic_7.theta_[2]\n",
    "plt.plot(x0, Y, linestyle= 'dashed')\n",
    "\n",
    "plt.show()\n",
    "\n",
    "plt.title('TEST')\n",
    "plt.xlabel('petal_length')\n",
    "plt.ylabel('petal_width')\n",
    "\n",
    "x0 = np.linspace(-2, 2, 100)\n",
    "plt.scatter(X_test_2d_scaled[:,0],X_test_2d_scaled[:,1], c=y_test_2d)\n",
    "\n",
    "Y = (0.5 - logistic_7.theta_[1]*x0  - logistic_7.theta_[0]) / logistic_7.theta_[2]\n",
    "plt.plot(x0, Y, linestyle= 'dashed')\n",
    "\n",
    "plt.show()"
   ]
  },
  {
   "cell_type": "markdown",
   "metadata": {},
   "source": [
    "## 【問題8】（アドバンス課題）重みの保存  \n",
    ">検証が容易になるように、学習した重みを保存および読み込みができるようにしましょう。  \n",
    ">pickleモジュールやNumPyのnp.savezを利用します。"
   ]
  },
  {
   "cell_type": "markdown",
   "metadata": {},
   "source": [
    "fit関数の最後に　np.save()　にて、重みを保存。  \n",
    "weight_restoration()メソッドを作成し、重みを復元できるよう実装。"
   ]
  },
  {
   "cell_type": "code",
   "execution_count": 28,
   "metadata": {},
   "outputs": [
    {
     "name": "stdout",
     "output_type": "stream",
     "text": [
      "<class 'numpy.ndarray'>\n",
      "[0.31076517 2.71631909 2.83157798]\n"
     ]
    }
   ],
   "source": [
    "print(type(np.load('./weight/theta_save.npy')))\n",
    "print(np.load('./weight/theta_save.npy'))"
   ]
  },
  {
   "cell_type": "code",
   "execution_count": 29,
   "metadata": {},
   "outputs": [],
   "source": [
    "# 新規インスタンス化\n",
    "logistic_8 = ScratchLogisticRegression(10000,2,True,True)"
   ]
  },
  {
   "cell_type": "code",
   "execution_count": 30,
   "metadata": {},
   "outputs": [],
   "source": [
    "# 重みを復元\n",
    "logistic_8.weight_restoration()"
   ]
  },
  {
   "cell_type": "code",
   "execution_count": 31,
   "metadata": {},
   "outputs": [
    {
     "data": {
      "text/plain": [
       "array([0.31076517, 2.71631909, 2.83157798])"
      ]
     },
     "execution_count": 31,
     "metadata": {},
     "output_type": "execute_result"
    }
   ],
   "source": [
    "logistic_8.theta_"
   ]
  },
  {
   "cell_type": "markdown",
   "metadata": {},
   "source": [
    "以上"
   ]
  }
 ],
 "metadata": {
  "kernelspec": {
   "display_name": "Python 3",
   "language": "python",
   "name": "python3"
  },
  "language_info": {
   "codemirror_mode": {
    "name": "ipython",
    "version": 3
   },
   "file_extension": ".py",
   "mimetype": "text/x-python",
   "name": "python",
   "nbconvert_exporter": "python",
   "pygments_lexer": "ipython3",
   "version": "3.7.6"
  }
 },
 "nbformat": 4,
 "nbformat_minor": 4
}
