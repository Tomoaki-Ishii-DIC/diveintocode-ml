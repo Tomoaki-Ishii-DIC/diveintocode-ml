{
 "cells": [
  {
   "cell_type": "markdown",
   "metadata": {},
   "source": [
    "## Sprintの目的\n",
    ">コンピュータビジョンの代表的タスクであるセグメンテーションを学ぶ"
   ]
  },
  {
   "cell_type": "markdown",
   "metadata": {},
   "source": [
    "## セグメンテーション"
   ]
  },
  {
   "cell_type": "markdown",
   "metadata": {},
   "source": [
    ">KaggleのTGS Salt Identification Challengeのデータセットを使用し、セグメンテーションを行います。\n",
    ">\n",
    ">TGS Salt Identification Challenge | Kaggle\n",
    ">\n",
    ">セグメンテーション手法としてU-Net[1]を使います。\n",
    ">\n",
    ">[1]O.Ronneberger, P.Fischer, T.Brox. U-Net: Convolutional Networks for Biomedical Image Segmentation. Medical Image Computing and Computer-Assisted Intervention (MICCAI), Springer, LNCS, Vol.9351: 234–241, 2015\n",
    ">\n",
    ">https://arxiv.org/pdf/1505.04597.pdf"
   ]
  },
  {
   "cell_type": "markdown",
   "metadata": {},
   "source": [
    "## 【問題1】学習・推定\n",
    ">以下のKeras実装を使用して学習・推定を行ってください。\n",
    ">\n",
    ">zhixuhao/unet: unet for image segmentation\n",
    ">\n",
    ">《GPU環境での学習》\n",
    ">\n",
    ">大規模なデータセット、大きなモデルになるため、GPUを使用する必要があります。\n",
    ">\n",
    ">《新たなデータセットの適用》\n",
    ">\n",
    ">公開されている実装で用意されたものとは異なるデータセットを入力するための準備が必要です。"
   ]
  },
  {
   "cell_type": "code",
   "execution_count": 24,
   "metadata": {},
   "outputs": [
    {
     "name": "stdout",
     "output_type": "stream",
     "text": [
      "\u001b[31mERROR: Could not find a version that satisfies the requirement tensorflow==1.5.0#1.5.0\u001b[0m\r\n",
      "\u001b[31mERROR: No matching distribution found for tensorflow==1.5.0#1.5.0\u001b[0m\r\n"
     ]
    }
   ],
   "source": [
    "!pip install tensorflow==1.5.0#1.5.0"
   ]
  },
  {
   "cell_type": "code",
   "execution_count": 2,
   "metadata": {},
   "outputs": [
    {
     "name": "stdout",
     "output_type": "stream",
     "text": [
      "Requirement already satisfied: keras==2.2 in /Users/ishiitomoaki/.pyenv/versions/anaconda3-5.1.0/lib/python3.6/site-packages (2.2.0)\n",
      "Requirement already satisfied: scipy>=0.14 in /Users/ishiitomoaki/.pyenv/versions/anaconda3-5.1.0/lib/python3.6/site-packages (from keras==2.2) (1.5.4)\n",
      "Requirement already satisfied: pyyaml in /Users/ishiitomoaki/.pyenv/versions/anaconda3-5.1.0/lib/python3.6/site-packages (from keras==2.2) (5.3.1)\n",
      "Requirement already satisfied: six>=1.9.0 in /Users/ishiitomoaki/.pyenv/versions/anaconda3-5.1.0/lib/python3.6/site-packages (from keras==2.2) (1.15.0)\n",
      "Requirement already satisfied: h5py in /Users/ishiitomoaki/.pyenv/versions/anaconda3-5.1.0/lib/python3.6/site-packages (from keras==2.2) (2.6.0)\n",
      "Requirement already satisfied: keras-applications==1.0.2 in /Users/ishiitomoaki/.pyenv/versions/anaconda3-5.1.0/lib/python3.6/site-packages (from keras==2.2) (1.0.2)\n",
      "Requirement already satisfied: numpy>=1.9.1 in /Users/ishiitomoaki/.pyenv/versions/anaconda3-5.1.0/lib/python3.6/site-packages (from keras==2.2) (1.19.4)\n",
      "Requirement already satisfied: keras-preprocessing==1.0.1 in /Users/ishiitomoaki/.pyenv/versions/anaconda3-5.1.0/lib/python3.6/site-packages (from keras==2.2) (1.0.1)\n"
     ]
    }
   ],
   "source": [
    "!pip install keras==2.2"
   ]
  },
  {
   "cell_type": "code",
   "execution_count": 3,
   "metadata": {},
   "outputs": [
    {
     "name": "stdout",
     "output_type": "stream",
     "text": [
      "Requirement already satisfied: pip in /Users/ishiitomoaki/.pyenv/versions/anaconda3-5.1.0/lib/python3.6/site-packages (20.3.3)\r\n"
     ]
    }
   ],
   "source": [
    "!pip install --upgrade pip"
   ]
  },
  {
   "cell_type": "code",
   "execution_count": 4,
   "metadata": {},
   "outputs": [
    {
     "name": "stdout",
     "output_type": "stream",
     "text": [
      "Requirement already satisfied: scikit-image in /Users/ishiitomoaki/.pyenv/versions/anaconda3-5.1.0/lib/python3.6/site-packages (0.17.2)\n",
      "Requirement already satisfied: numpy>=1.15.1 in /Users/ishiitomoaki/.pyenv/versions/anaconda3-5.1.0/lib/python3.6/site-packages (from scikit-image) (1.19.4)\n",
      "Requirement already satisfied: scipy>=1.0.1 in /Users/ishiitomoaki/.pyenv/versions/anaconda3-5.1.0/lib/python3.6/site-packages (from scikit-image) (1.5.4)\n",
      "Requirement already satisfied: PyWavelets>=1.1.1 in /Users/ishiitomoaki/.pyenv/versions/anaconda3-5.1.0/lib/python3.6/site-packages (from scikit-image) (1.1.1)\n",
      "Requirement already satisfied: tifffile>=2019.7.26 in /Users/ishiitomoaki/.pyenv/versions/anaconda3-5.1.0/lib/python3.6/site-packages (from scikit-image) (2020.9.3)\n",
      "Requirement already satisfied: networkx>=2.0 in /Users/ishiitomoaki/.pyenv/versions/anaconda3-5.1.0/lib/python3.6/site-packages (from scikit-image) (2.5)\n",
      "Requirement already satisfied: matplotlib!=3.0.0,>=2.0.0 in /Users/ishiitomoaki/.pyenv/versions/anaconda3-5.1.0/lib/python3.6/site-packages (from scikit-image) (3.3.3)\n",
      "Requirement already satisfied: imageio>=2.3.0 in /Users/ishiitomoaki/.pyenv/versions/anaconda3-5.1.0/lib/python3.6/site-packages (from scikit-image) (2.9.0)\n",
      "Requirement already satisfied: pillow!=7.1.0,!=7.1.1,>=4.3.0 in /Users/ishiitomoaki/.pyenv/versions/anaconda3-5.1.0/lib/python3.6/site-packages (from scikit-image) (8.0.1)\n",
      "Requirement already satisfied: kiwisolver>=1.0.1 in /Users/ishiitomoaki/.pyenv/versions/anaconda3-5.1.0/lib/python3.6/site-packages (from matplotlib!=3.0.0,>=2.0.0->scikit-image) (1.3.1)\n",
      "Requirement already satisfied: cycler>=0.10 in /Users/ishiitomoaki/.pyenv/versions/anaconda3-5.1.0/lib/python3.6/site-packages (from matplotlib!=3.0.0,>=2.0.0->scikit-image) (0.10.0)\n",
      "Requirement already satisfied: python-dateutil>=2.1 in /Users/ishiitomoaki/.pyenv/versions/anaconda3-5.1.0/lib/python3.6/site-packages (from matplotlib!=3.0.0,>=2.0.0->scikit-image) (2.8.1)\n",
      "Requirement already satisfied: pyparsing!=2.0.4,!=2.1.2,!=2.1.6,>=2.0.3 in /Users/ishiitomoaki/.pyenv/versions/anaconda3-5.1.0/lib/python3.6/site-packages (from matplotlib!=3.0.0,>=2.0.0->scikit-image) (2.4.7)\n",
      "Requirement already satisfied: six in /Users/ishiitomoaki/.pyenv/versions/anaconda3-5.1.0/lib/python3.6/site-packages (from cycler>=0.10->matplotlib!=3.0.0,>=2.0.0->scikit-image) (1.15.0)\n",
      "Requirement already satisfied: decorator>=4.3.0 in /Users/ishiitomoaki/.pyenv/versions/anaconda3-5.1.0/lib/python3.6/site-packages (from networkx>=2.0->scikit-image) (4.4.2)\n"
     ]
    }
   ],
   "source": [
    "!pip install scikit-image"
   ]
  },
  {
   "cell_type": "code",
   "execution_count": 5,
   "metadata": {},
   "outputs": [
    {
     "name": "stdout",
     "output_type": "stream",
     "text": [
      "Requirement already satisfied: scikit-image in /Users/ishiitomoaki/.pyenv/versions/anaconda3-5.1.0/lib/python3.6/site-packages (0.17.2)\n",
      "Requirement already satisfied: scipy>=1.0.1 in /Users/ishiitomoaki/.pyenv/versions/anaconda3-5.1.0/lib/python3.6/site-packages (from scikit-image) (1.5.4)\n",
      "Requirement already satisfied: tifffile>=2019.7.26 in /Users/ishiitomoaki/.pyenv/versions/anaconda3-5.1.0/lib/python3.6/site-packages (from scikit-image) (2020.9.3)\n",
      "Requirement already satisfied: networkx>=2.0 in /Users/ishiitomoaki/.pyenv/versions/anaconda3-5.1.0/lib/python3.6/site-packages (from scikit-image) (2.5)\n",
      "Requirement already satisfied: pillow!=7.1.0,!=7.1.1,>=4.3.0 in /Users/ishiitomoaki/.pyenv/versions/anaconda3-5.1.0/lib/python3.6/site-packages (from scikit-image) (8.0.1)\n",
      "Requirement already satisfied: numpy>=1.15.1 in /Users/ishiitomoaki/.pyenv/versions/anaconda3-5.1.0/lib/python3.6/site-packages (from scikit-image) (1.19.4)\n",
      "Requirement already satisfied: PyWavelets>=1.1.1 in /Users/ishiitomoaki/.pyenv/versions/anaconda3-5.1.0/lib/python3.6/site-packages (from scikit-image) (1.1.1)\n",
      "Requirement already satisfied: imageio>=2.3.0 in /Users/ishiitomoaki/.pyenv/versions/anaconda3-5.1.0/lib/python3.6/site-packages (from scikit-image) (2.9.0)\n",
      "Requirement already satisfied: matplotlib!=3.0.0,>=2.0.0 in /Users/ishiitomoaki/.pyenv/versions/anaconda3-5.1.0/lib/python3.6/site-packages (from scikit-image) (3.3.3)\n",
      "Requirement already satisfied: python-dateutil>=2.1 in /Users/ishiitomoaki/.pyenv/versions/anaconda3-5.1.0/lib/python3.6/site-packages (from matplotlib!=3.0.0,>=2.0.0->scikit-image) (2.8.1)\n",
      "Requirement already satisfied: pyparsing!=2.0.4,!=2.1.2,!=2.1.6,>=2.0.3 in /Users/ishiitomoaki/.pyenv/versions/anaconda3-5.1.0/lib/python3.6/site-packages (from matplotlib!=3.0.0,>=2.0.0->scikit-image) (2.4.7)\n",
      "Requirement already satisfied: kiwisolver>=1.0.1 in /Users/ishiitomoaki/.pyenv/versions/anaconda3-5.1.0/lib/python3.6/site-packages (from matplotlib!=3.0.0,>=2.0.0->scikit-image) (1.3.1)\n",
      "Requirement already satisfied: cycler>=0.10 in /Users/ishiitomoaki/.pyenv/versions/anaconda3-5.1.0/lib/python3.6/site-packages (from matplotlib!=3.0.0,>=2.0.0->scikit-image) (0.10.0)\n",
      "Requirement already satisfied: six in /Users/ishiitomoaki/.pyenv/versions/anaconda3-5.1.0/lib/python3.6/site-packages (from cycler>=0.10->matplotlib!=3.0.0,>=2.0.0->scikit-image) (1.15.0)\n",
      "Requirement already satisfied: decorator>=4.3.0 in /Users/ishiitomoaki/.pyenv/versions/anaconda3-5.1.0/lib/python3.6/site-packages (from networkx>=2.0->scikit-image) (4.4.2)\n"
     ]
    }
   ],
   "source": [
    "!pip install --upgrade scikit-image"
   ]
  },
  {
   "cell_type": "code",
   "execution_count": 6,
   "metadata": {},
   "outputs": [
    {
     "name": "stdout",
     "output_type": "stream",
     "text": [
      "Requirement already satisfied: h5py==2.6.0 in /Users/ishiitomoaki/.pyenv/versions/anaconda3-5.1.0/lib/python3.6/site-packages (2.6.0)\r\n",
      "Requirement already satisfied: six in /Users/ishiitomoaki/.pyenv/versions/anaconda3-5.1.0/lib/python3.6/site-packages (from h5py==2.6.0) (1.15.0)\r\n",
      "Requirement already satisfied: numpy>=1.6.1 in /Users/ishiitomoaki/.pyenv/versions/anaconda3-5.1.0/lib/python3.6/site-packages (from h5py==2.6.0) (1.19.4)\r\n"
     ]
    }
   ],
   "source": [
    "!pip install h5py==2.6.0"
   ]
  },
  {
   "cell_type": "code",
   "execution_count": 7,
   "metadata": {},
   "outputs": [
    {
     "name": "stderr",
     "output_type": "stream",
     "text": [
      "Using TensorFlow backend.\n",
      "/Users/ishiitomoaki/.pyenv/versions/anaconda3-5.1.0/lib/python3.6/site-packages/tensorflow/python/framework/dtypes.py:493: FutureWarning: Passing (type, 1) or '1type' as a synonym of type is deprecated; in a future version of numpy, it will be understood as (type, (1,)) / '(1,)type'.\n",
      "  _np_qint8 = np.dtype([(\"qint8\", np.int8, 1)])\n",
      "/Users/ishiitomoaki/.pyenv/versions/anaconda3-5.1.0/lib/python3.6/site-packages/tensorflow/python/framework/dtypes.py:494: FutureWarning: Passing (type, 1) or '1type' as a synonym of type is deprecated; in a future version of numpy, it will be understood as (type, (1,)) / '(1,)type'.\n",
      "  _np_quint8 = np.dtype([(\"quint8\", np.uint8, 1)])\n",
      "/Users/ishiitomoaki/.pyenv/versions/anaconda3-5.1.0/lib/python3.6/site-packages/tensorflow/python/framework/dtypes.py:495: FutureWarning: Passing (type, 1) or '1type' as a synonym of type is deprecated; in a future version of numpy, it will be understood as (type, (1,)) / '(1,)type'.\n",
      "  _np_qint16 = np.dtype([(\"qint16\", np.int16, 1)])\n",
      "/Users/ishiitomoaki/.pyenv/versions/anaconda3-5.1.0/lib/python3.6/site-packages/tensorflow/python/framework/dtypes.py:496: FutureWarning: Passing (type, 1) or '1type' as a synonym of type is deprecated; in a future version of numpy, it will be understood as (type, (1,)) / '(1,)type'.\n",
      "  _np_quint16 = np.dtype([(\"quint16\", np.uint16, 1)])\n",
      "/Users/ishiitomoaki/.pyenv/versions/anaconda3-5.1.0/lib/python3.6/site-packages/tensorflow/python/framework/dtypes.py:497: FutureWarning: Passing (type, 1) or '1type' as a synonym of type is deprecated; in a future version of numpy, it will be understood as (type, (1,)) / '(1,)type'.\n",
      "  _np_qint32 = np.dtype([(\"qint32\", np.int32, 1)])\n",
      "/Users/ishiitomoaki/.pyenv/versions/anaconda3-5.1.0/lib/python3.6/site-packages/tensorflow/python/framework/dtypes.py:502: FutureWarning: Passing (type, 1) or '1type' as a synonym of type is deprecated; in a future version of numpy, it will be understood as (type, (1,)) / '(1,)type'.\n",
      "  np_resource = np.dtype([(\"resource\", np.ubyte, 1)])\n"
     ]
    }
   ],
   "source": [
    "from data import *"
   ]
  },
  {
   "cell_type": "markdown",
   "metadata": {},
   "source": [
    "# data augmentation \n",
    "\n",
    "In deep learning tasks, a lot of data is need to train DNN model, when the dataset is not big enough, data augmentation should be applied.\n",
    "\n",
    "keras.preprocessing.image.ImageDataGenerator is a data generator, which can feed the DNN with data like : (data,label), it can also do data augmentation at the same time.\n",
    "\n",
    "It is very convenient for us to use keras.preprocessing.image.ImageDataGenerator to do data augmentation by implement image rotation, shift, rescale and so on... see [keras documentation](https://keras.io/preprocessing/image/) for detail.\n",
    "\n",
    "For image segmentation tasks, the image and mask must be transformed **together!!**"
   ]
  },
  {
   "cell_type": "markdown",
   "metadata": {},
   "source": [
    "## define your data generator\n",
    "\n",
    "If you want to visualize your data augmentation result, set save_to_dir = your path"
   ]
  },
  {
   "cell_type": "code",
   "execution_count": 8,
   "metadata": {},
   "outputs": [],
   "source": [
    "#if you don't want to do data augmentation, set data_gen_args as an empty dict.\n",
    "#data_gen_args = dict()\n",
    "\n",
    "data_gen_args = dict(rotation_range=0.2,\n",
    "                    width_shift_range=0.05,\n",
    "                    height_shift_range=0.05,\n",
    "                    shear_range=0.05,\n",
    "                    zoom_range=0.05,\n",
    "                    horizontal_flip=True,\n",
    "                    fill_mode='nearest')\n",
    "myGenerator = trainGenerator(20,'data/membrane/train','image','label',data_gen_args,save_to_dir = \"data/membrane/train/aug\")"
   ]
  },
  {
   "cell_type": "markdown",
   "metadata": {},
   "source": [
    "## visualize your data augmentation result"
   ]
  },
  {
   "cell_type": "code",
   "execution_count": 9,
   "metadata": {},
   "outputs": [
    {
     "name": "stdout",
     "output_type": "stream",
     "text": [
      "Found 24 images belonging to 1 classes.\n",
      "Found 24 images belonging to 1 classes.\n"
     ]
    }
   ],
   "source": [
    "#you will see 60 transformed images and their masks in data/membrane/train/aug\n",
    "num_batch = 3\n",
    "for i,batch in enumerate(myGenerator):\n",
    "    if(i >= num_batch):\n",
    "        break"
   ]
  },
  {
   "cell_type": "markdown",
   "metadata": {},
   "source": [
    "## create .npy data\n",
    "\n",
    "If your computer has enough memory, you can create npy files containing all your images and masks, and feed your DNN with them."
   ]
  },
  {
   "cell_type": "code",
   "execution_count": 10,
   "metadata": {},
   "outputs": [],
   "source": [
    "image_arr,mask_arr = geneTrainNpy(\"data/membrane/train/aug/\",\"data/membrane/train/aug/\")\n",
    "#np.save(\"data/image_arr.npy\",image_arr)\n",
    "#np.save(\"data/mask_arr.npy\",mask_arr)"
   ]
  },
  {
   "cell_type": "markdown",
   "metadata": {},
   "source": [
    "## Train your Unet with membrane data\n",
    "membrane data is in folder membrane/, it is a binary classification task.\n",
    "\n",
    "The input shape of image and mask are the same :(batch_size,rows,cols,channel = 1)\n"
   ]
  },
  {
   "cell_type": "markdown",
   "metadata": {},
   "source": [
    "### Train with data generator"
   ]
  },
  {
   "cell_type": "code",
   "execution_count": 11,
   "metadata": {},
   "outputs": [],
   "source": [
    "from model import *"
   ]
  },
  {
   "cell_type": "code",
   "execution_count": 12,
   "metadata": {},
   "outputs": [
    {
     "name": "stdout",
     "output_type": "stream",
     "text": [
      "Epoch 1/5\n",
      "Found 24 images belonging to 1 classes.\n",
      "Found 24 images belonging to 1 classes.\n",
      "5/5 [==============================] - 145s 29s/step - loss: 0.7901 - acc: 0.6910\n",
      "\n",
      "Epoch 00001: loss improved from inf to 0.79014, saving model to unet_membrane.hdf5\n",
      "Epoch 2/5\n",
      "5/5 [==============================] - 143s 29s/step - loss: 0.6610 - acc: 0.8739\n",
      "\n",
      "Epoch 00002: loss improved from 0.79014 to 0.66101, saving model to unet_membrane.hdf5\n",
      "Epoch 3/5\n",
      "5/5 [==============================] - 124s 25s/step - loss: 0.4320 - acc: 0.8880\n",
      "\n",
      "Epoch 00003: loss improved from 0.66101 to 0.43199, saving model to unet_membrane.hdf5\n",
      "Epoch 4/5\n",
      "5/5 [==============================] - 120s 24s/step - loss: 0.5009 - acc: 0.8151\n",
      "\n",
      "Epoch 00004: loss did not improve from 0.43199\n",
      "Epoch 5/5\n",
      "5/5 [==============================] - 132s 26s/step - loss: 0.5493 - acc: 0.7602\n",
      "\n",
      "Epoch 00005: loss did not improve from 0.43199\n"
     ]
    },
    {
     "data": {
      "text/plain": [
       "<keras.callbacks.History at 0x7fd1cf09e828>"
      ]
     },
     "execution_count": 12,
     "metadata": {},
     "output_type": "execute_result"
    }
   ],
   "source": [
    "data_gen_args = dict(rotation_range=0.2,\n",
    "                    width_shift_range=0.05,\n",
    "                    height_shift_range=0.05,\n",
    "                    shear_range=0.05,\n",
    "                    zoom_range=0.05,\n",
    "                    horizontal_flip=True,\n",
    "                    fill_mode='nearest')\n",
    "myGene = trainGenerator(2,'data/membrane/train','image','label',data_gen_args,save_to_dir = None)\n",
    "model = unet()\n",
    "model_checkpoint = ModelCheckpoint('unet_membrane.hdf5', monitor='loss',verbose=1, save_best_only=True)\n",
    "model.fit_generator(myGene,steps_per_epoch=5,epochs=5,callbacks=[model_checkpoint])"
   ]
  },
  {
   "cell_type": "markdown",
   "metadata": {},
   "source": [
    "### Train with npy file"
   ]
  },
  {
   "cell_type": "code",
   "execution_count": 13,
   "metadata": {},
   "outputs": [],
   "source": [
    "#imgs_train,imgs_mask_train = geneTrainNpy(\"data/membrane/train/aug/\",\"data/membrane/train/aug/\")\n",
    "#model.fit(imgs_train, imgs_mask_train, batch_size=2, nb_epoch=10, verbose=1,validation_split=0.2, shuffle=True, callbacks=[model_checkpoint])"
   ]
  },
  {
   "cell_type": "markdown",
   "metadata": {},
   "source": [
    "### test your model and save predicted results\n"
   ]
  },
  {
   "cell_type": "code",
   "execution_count": 14,
   "metadata": {
    "scrolled": true
   },
   "outputs": [
    {
     "name": "stdout",
     "output_type": "stream",
     "text": [
      "30/30 [==============================] - 114s 4s/step\n"
     ]
    },
    {
     "name": "stderr",
     "output_type": "stream",
     "text": [
      "/Users/ishiitomoaki/JupyterNotebook/DiveIntoCode_課題/Sprint19_セグメンテーション 1/unet-master/data.py:124: UserWarning: data/membrane/test/0_predict.png is a low contrast image\n",
      "  io.imsave(os.path.join(save_path,\"%d_predict.png\"%i),img)\n",
      "Lossy conversion from float32 to uint8. Range [0, 1]. Convert image to uint8 prior to saving to suppress this warning.\n",
      "/Users/ishiitomoaki/JupyterNotebook/DiveIntoCode_課題/Sprint19_セグメンテーション 1/unet-master/data.py:124: UserWarning: data/membrane/test/1_predict.png is a low contrast image\n",
      "  io.imsave(os.path.join(save_path,\"%d_predict.png\"%i),img)\n",
      "Lossy conversion from float32 to uint8. Range [0, 1]. Convert image to uint8 prior to saving to suppress this warning.\n",
      "/Users/ishiitomoaki/JupyterNotebook/DiveIntoCode_課題/Sprint19_セグメンテーション 1/unet-master/data.py:124: UserWarning: data/membrane/test/2_predict.png is a low contrast image\n",
      "  io.imsave(os.path.join(save_path,\"%d_predict.png\"%i),img)\n",
      "Lossy conversion from float32 to uint8. Range [0, 1]. Convert image to uint8 prior to saving to suppress this warning.\n",
      "/Users/ishiitomoaki/JupyterNotebook/DiveIntoCode_課題/Sprint19_セグメンテーション 1/unet-master/data.py:124: UserWarning: data/membrane/test/3_predict.png is a low contrast image\n",
      "  io.imsave(os.path.join(save_path,\"%d_predict.png\"%i),img)\n",
      "Lossy conversion from float32 to uint8. Range [0, 1]. Convert image to uint8 prior to saving to suppress this warning.\n",
      "/Users/ishiitomoaki/JupyterNotebook/DiveIntoCode_課題/Sprint19_セグメンテーション 1/unet-master/data.py:124: UserWarning: data/membrane/test/4_predict.png is a low contrast image\n",
      "  io.imsave(os.path.join(save_path,\"%d_predict.png\"%i),img)\n",
      "Lossy conversion from float32 to uint8. Range [0, 1]. Convert image to uint8 prior to saving to suppress this warning.\n",
      "/Users/ishiitomoaki/JupyterNotebook/DiveIntoCode_課題/Sprint19_セグメンテーション 1/unet-master/data.py:124: UserWarning: data/membrane/test/5_predict.png is a low contrast image\n",
      "  io.imsave(os.path.join(save_path,\"%d_predict.png\"%i),img)\n",
      "Lossy conversion from float32 to uint8. Range [0, 1]. Convert image to uint8 prior to saving to suppress this warning.\n",
      "/Users/ishiitomoaki/JupyterNotebook/DiveIntoCode_課題/Sprint19_セグメンテーション 1/unet-master/data.py:124: UserWarning: data/membrane/test/6_predict.png is a low contrast image\n",
      "  io.imsave(os.path.join(save_path,\"%d_predict.png\"%i),img)\n",
      "Lossy conversion from float32 to uint8. Range [0, 1]. Convert image to uint8 prior to saving to suppress this warning.\n",
      "/Users/ishiitomoaki/JupyterNotebook/DiveIntoCode_課題/Sprint19_セグメンテーション 1/unet-master/data.py:124: UserWarning: data/membrane/test/7_predict.png is a low contrast image\n",
      "  io.imsave(os.path.join(save_path,\"%d_predict.png\"%i),img)\n",
      "Lossy conversion from float32 to uint8. Range [0, 1]. Convert image to uint8 prior to saving to suppress this warning.\n",
      "/Users/ishiitomoaki/JupyterNotebook/DiveIntoCode_課題/Sprint19_セグメンテーション 1/unet-master/data.py:124: UserWarning: data/membrane/test/8_predict.png is a low contrast image\n",
      "  io.imsave(os.path.join(save_path,\"%d_predict.png\"%i),img)\n",
      "Lossy conversion from float32 to uint8. Range [0, 1]. Convert image to uint8 prior to saving to suppress this warning.\n",
      "/Users/ishiitomoaki/JupyterNotebook/DiveIntoCode_課題/Sprint19_セグメンテーション 1/unet-master/data.py:124: UserWarning: data/membrane/test/9_predict.png is a low contrast image\n",
      "  io.imsave(os.path.join(save_path,\"%d_predict.png\"%i),img)\n",
      "Lossy conversion from float32 to uint8. Range [0, 1]. Convert image to uint8 prior to saving to suppress this warning.\n",
      "/Users/ishiitomoaki/JupyterNotebook/DiveIntoCode_課題/Sprint19_セグメンテーション 1/unet-master/data.py:124: UserWarning: data/membrane/test/10_predict.png is a low contrast image\n",
      "  io.imsave(os.path.join(save_path,\"%d_predict.png\"%i),img)\n",
      "Lossy conversion from float32 to uint8. Range [0, 1]. Convert image to uint8 prior to saving to suppress this warning.\n",
      "/Users/ishiitomoaki/JupyterNotebook/DiveIntoCode_課題/Sprint19_セグメンテーション 1/unet-master/data.py:124: UserWarning: data/membrane/test/11_predict.png is a low contrast image\n",
      "  io.imsave(os.path.join(save_path,\"%d_predict.png\"%i),img)\n",
      "Lossy conversion from float32 to uint8. Range [0, 1]. Convert image to uint8 prior to saving to suppress this warning.\n",
      "/Users/ishiitomoaki/JupyterNotebook/DiveIntoCode_課題/Sprint19_セグメンテーション 1/unet-master/data.py:124: UserWarning: data/membrane/test/12_predict.png is a low contrast image\n",
      "  io.imsave(os.path.join(save_path,\"%d_predict.png\"%i),img)\n",
      "Lossy conversion from float32 to uint8. Range [0, 1]. Convert image to uint8 prior to saving to suppress this warning.\n",
      "/Users/ishiitomoaki/JupyterNotebook/DiveIntoCode_課題/Sprint19_セグメンテーション 1/unet-master/data.py:124: UserWarning: data/membrane/test/13_predict.png is a low contrast image\n",
      "  io.imsave(os.path.join(save_path,\"%d_predict.png\"%i),img)\n",
      "Lossy conversion from float32 to uint8. Range [0, 1]. Convert image to uint8 prior to saving to suppress this warning.\n",
      "/Users/ishiitomoaki/JupyterNotebook/DiveIntoCode_課題/Sprint19_セグメンテーション 1/unet-master/data.py:124: UserWarning: data/membrane/test/14_predict.png is a low contrast image\n",
      "  io.imsave(os.path.join(save_path,\"%d_predict.png\"%i),img)\n",
      "Lossy conversion from float32 to uint8. Range [0, 1]. Convert image to uint8 prior to saving to suppress this warning.\n",
      "/Users/ishiitomoaki/JupyterNotebook/DiveIntoCode_課題/Sprint19_セグメンテーション 1/unet-master/data.py:124: UserWarning: data/membrane/test/15_predict.png is a low contrast image\n",
      "  io.imsave(os.path.join(save_path,\"%d_predict.png\"%i),img)\n",
      "Lossy conversion from float32 to uint8. Range [0, 1]. Convert image to uint8 prior to saving to suppress this warning.\n",
      "/Users/ishiitomoaki/JupyterNotebook/DiveIntoCode_課題/Sprint19_セグメンテーション 1/unet-master/data.py:124: UserWarning: data/membrane/test/16_predict.png is a low contrast image\n",
      "  io.imsave(os.path.join(save_path,\"%d_predict.png\"%i),img)\n",
      "Lossy conversion from float32 to uint8. Range [0, 1]. Convert image to uint8 prior to saving to suppress this warning.\n",
      "/Users/ishiitomoaki/JupyterNotebook/DiveIntoCode_課題/Sprint19_セグメンテーション 1/unet-master/data.py:124: UserWarning: data/membrane/test/17_predict.png is a low contrast image\n",
      "  io.imsave(os.path.join(save_path,\"%d_predict.png\"%i),img)\n",
      "Lossy conversion from float32 to uint8. Range [0, 1]. Convert image to uint8 prior to saving to suppress this warning.\n",
      "/Users/ishiitomoaki/JupyterNotebook/DiveIntoCode_課題/Sprint19_セグメンテーション 1/unet-master/data.py:124: UserWarning: data/membrane/test/18_predict.png is a low contrast image\n",
      "  io.imsave(os.path.join(save_path,\"%d_predict.png\"%i),img)\n",
      "Lossy conversion from float32 to uint8. Range [0, 1]. Convert image to uint8 prior to saving to suppress this warning.\n",
      "/Users/ishiitomoaki/JupyterNotebook/DiveIntoCode_課題/Sprint19_セグメンテーション 1/unet-master/data.py:124: UserWarning: data/membrane/test/19_predict.png is a low contrast image\n",
      "  io.imsave(os.path.join(save_path,\"%d_predict.png\"%i),img)\n",
      "Lossy conversion from float32 to uint8. Range [0, 1]. Convert image to uint8 prior to saving to suppress this warning.\n",
      "/Users/ishiitomoaki/JupyterNotebook/DiveIntoCode_課題/Sprint19_セグメンテーション 1/unet-master/data.py:124: UserWarning: data/membrane/test/20_predict.png is a low contrast image\n",
      "  io.imsave(os.path.join(save_path,\"%d_predict.png\"%i),img)\n",
      "Lossy conversion from float32 to uint8. Range [0, 1]. Convert image to uint8 prior to saving to suppress this warning.\n",
      "/Users/ishiitomoaki/JupyterNotebook/DiveIntoCode_課題/Sprint19_セグメンテーション 1/unet-master/data.py:124: UserWarning: data/membrane/test/21_predict.png is a low contrast image\n",
      "  io.imsave(os.path.join(save_path,\"%d_predict.png\"%i),img)\n",
      "Lossy conversion from float32 to uint8. Range [0, 1]. Convert image to uint8 prior to saving to suppress this warning.\n",
      "/Users/ishiitomoaki/JupyterNotebook/DiveIntoCode_課題/Sprint19_セグメンテーション 1/unet-master/data.py:124: UserWarning: data/membrane/test/22_predict.png is a low contrast image\n",
      "  io.imsave(os.path.join(save_path,\"%d_predict.png\"%i),img)\n",
      "Lossy conversion from float32 to uint8. Range [0, 1]. Convert image to uint8 prior to saving to suppress this warning.\n",
      "/Users/ishiitomoaki/JupyterNotebook/DiveIntoCode_課題/Sprint19_セグメンテーション 1/unet-master/data.py:124: UserWarning: data/membrane/test/23_predict.png is a low contrast image\n",
      "  io.imsave(os.path.join(save_path,\"%d_predict.png\"%i),img)\n",
      "Lossy conversion from float32 to uint8. Range [0, 1]. Convert image to uint8 prior to saving to suppress this warning.\n"
     ]
    },
    {
     "name": "stderr",
     "output_type": "stream",
     "text": [
      "/Users/ishiitomoaki/JupyterNotebook/DiveIntoCode_課題/Sprint19_セグメンテーション 1/unet-master/data.py:124: UserWarning: data/membrane/test/24_predict.png is a low contrast image\n",
      "  io.imsave(os.path.join(save_path,\"%d_predict.png\"%i),img)\n",
      "Lossy conversion from float32 to uint8. Range [0, 1]. Convert image to uint8 prior to saving to suppress this warning.\n",
      "/Users/ishiitomoaki/JupyterNotebook/DiveIntoCode_課題/Sprint19_セグメンテーション 1/unet-master/data.py:124: UserWarning: data/membrane/test/25_predict.png is a low contrast image\n",
      "  io.imsave(os.path.join(save_path,\"%d_predict.png\"%i),img)\n",
      "Lossy conversion from float32 to uint8. Range [0, 1]. Convert image to uint8 prior to saving to suppress this warning.\n",
      "/Users/ishiitomoaki/JupyterNotebook/DiveIntoCode_課題/Sprint19_セグメンテーション 1/unet-master/data.py:124: UserWarning: data/membrane/test/26_predict.png is a low contrast image\n",
      "  io.imsave(os.path.join(save_path,\"%d_predict.png\"%i),img)\n",
      "Lossy conversion from float32 to uint8. Range [0, 1]. Convert image to uint8 prior to saving to suppress this warning.\n",
      "/Users/ishiitomoaki/JupyterNotebook/DiveIntoCode_課題/Sprint19_セグメンテーション 1/unet-master/data.py:124: UserWarning: data/membrane/test/27_predict.png is a low contrast image\n",
      "  io.imsave(os.path.join(save_path,\"%d_predict.png\"%i),img)\n",
      "Lossy conversion from float32 to uint8. Range [0, 1]. Convert image to uint8 prior to saving to suppress this warning.\n",
      "/Users/ishiitomoaki/JupyterNotebook/DiveIntoCode_課題/Sprint19_セグメンテーション 1/unet-master/data.py:124: UserWarning: data/membrane/test/28_predict.png is a low contrast image\n",
      "  io.imsave(os.path.join(save_path,\"%d_predict.png\"%i),img)\n",
      "Lossy conversion from float32 to uint8. Range [0, 1]. Convert image to uint8 prior to saving to suppress this warning.\n",
      "/Users/ishiitomoaki/JupyterNotebook/DiveIntoCode_課題/Sprint19_セグメンテーション 1/unet-master/data.py:124: UserWarning: data/membrane/test/29_predict.png is a low contrast image\n",
      "  io.imsave(os.path.join(save_path,\"%d_predict.png\"%i),img)\n",
      "Lossy conversion from float32 to uint8. Range [0, 1]. Convert image to uint8 prior to saving to suppress this warning.\n"
     ]
    }
   ],
   "source": [
    "testGene = testGenerator(\"data/membrane/test\")\n",
    "model = unet()\n",
    "model.load_weights(\"unet_membrane.hdf5\")#, by_name=False\n",
    "results = model.predict_generator(testGene,30,verbose=1)\n",
    "saveResult(\"data/membrane/test\",results)"
   ]
  },
  {
   "cell_type": "markdown",
   "metadata": {},
   "source": [
    "## 推測画像"
   ]
  },
  {
   "cell_type": "code",
   "execution_count": 21,
   "metadata": {},
   "outputs": [
    {
     "data": {
      "image/png": "[encoded data removed]",
      "text/plain": [
       "<Figure size 720x576 with 10 Axes>"
      ]
     },
     "metadata": {},
     "output_type": "display_data"
    }
   ],
   "source": [
    "import matplotlib.pyplot as plt\n",
    "import matplotlib.image as mpimg\n",
    "\n",
    "path = \"./data/membrane/test/\"\n",
    "image_path_list=[path+'0.png', path+'0_predict.png',\n",
    "                 path+'1.png', path+'1_predict.png',\n",
    "                 path+'2.png', path+'2_predict.png',\n",
    "                 path+'3.png', path+'3_predict.png',\n",
    "                 path+'4.png', path+'5_predict.png',\n",
    "                ]\n",
    "\n",
    "plt.figure(figsize=(10,8))\n",
    "for i,d in enumerate(image_path_list):\n",
    "    plt.subplot(5,2,i+1)\n",
    "    plt.imshow(mpimg.imread(d),cmap=\"gray\")"
   ]
  },
  {
   "cell_type": "markdown",
   "metadata": {},
   "source": [
    "## 【問題2】コードリーディング  \n",
    ">論文[1]に目を通した上で、上記実装のコードリーディングを行ってください。"
   ]
  },
  {
   "cell_type": "markdown",
   "metadata": {},
   "source": [
    "【論文の要点】  \n",
    "\n",
    "- 利用可能な注釈付きサンプルをより効率的に使用するために、強力なデータ拡張を使用するネットワークとトレーニング戦略\n",
    "\n",
    "- コンテキストをキャプチャするための縮小パスと、正確なローカリゼーションを可能にする対称的な拡張パスで構成\n",
    "\n",
    "- 非常に少ない画像からエンドツーエンドでトレーニングできる高速なネットワーク\n",
    "\n",
    "- 弾性変形によるデータ拡張のおかげで、必要な注釈付き画像はごくわずかNVidia Titan GPU（6 GB）でのトレーニング時間はわずか10時間と非常に合理的"
   ]
  },
  {
   "cell_type": "markdown",
   "metadata": {},
   "source": [
    "【コードリーディング】  \n",
    "- main.py  \n",
    "    - データ拡張を行っている箇所  \n",
    "      data_gen_args = dict(rotation_range=0.2,  \n",
    "                width_shift_range=0.05,  \n",
    "                height_shift_range=0.05,  \n",
    "                shear_range=0.05,  \n",
    "                zoom_range=0.05,  \n",
    "                horizontal_flip=True,  \n",
    "                fill_mode='nearest')  \n",
    "                \n",
    "    - u-net を用いている箇所　　\n",
    "            model = unet()\n",
    "            \n",
    "- model.py\n",
    "    - u-netの箇所（conv1〜５までのinputとup6〜conv10のoutputに分かれている）  \n",
    "    \n",
    "    def unet(pretrained_weights = None,input_size = (256,256,1)):\n",
    "        inputs = Input(input_size)\n",
    "        conv1 = Conv2D(64, 3, activation = 'relu', padding = 'same', kernel_initializer = 'he_normal')(inputs)  \n",
    "        conv1 = Conv2D(64, 3, activation = 'relu', padding = 'same', kernel_initializer = 'he_normal')(conv1)  \n",
    "        pool1 = MaxPooling2D(pool_size=(2, 2))(conv1)  \n",
    "        conv2 = Conv2D(128, 3, activation = 'relu', padding = 'same', kernel_initializer = 'he_normal')(pool1)  \n",
    "        conv2 = Conv2D(128, 3, activation = 'relu', padding = 'same', kernel_initializer = 'he_normal')(conv2)  \n",
    "        pool2 = MaxPooling2D(pool_size=(2, 2))(conv2)  \n",
    "        conv3 = Conv2D(256, 3, activation = 'relu', padding = 'same', kernel_initializer = 'he_normal')(pool2)  \n",
    "        conv3 = Conv2D(256, 3, activation = 'relu', padding = 'same', kernel_initializer = 'he_normal')(conv3)  \n",
    "        pool3 = MaxPooling2D(pool_size=(2, 2))(conv3)  \n",
    "        conv4 = Conv2D(512, 3, activation = 'relu', padding = 'same', kernel_initializer = 'he_normal')(pool3)  \n",
    "        conv4 = Conv2D(512, 3, activation = 'relu', padding = 'same', kernel_initializer = 'he_normal')(conv4)  \n",
    "        drop4 = Dropout(0.5)(conv4)  \n",
    "        pool4 = MaxPooling2D(pool_size=(2, 2))(drop4)  \n",
    "\n",
    "        conv5 = Conv2D(1024, 3, activation = 'relu', padding = 'same', kernel_initializer = 'he_normal')(pool4)  \n",
    "        conv5 = Conv2D(1024, 3, activation = 'relu', padding = 'same', kernel_initializer = 'he_normal')(conv5)  \n",
    "        drop5 = Dropout(0.5)(conv5)  \n",
    "\n",
    "        up6 = Conv2D(512, 2, activation = 'relu', padding = 'same', kernel_initializer = 'he_normal')(UpSampling2D(size = (2,2))(drop5))  \n",
    "        merge6 = concatenate([drop4,up6], axis = 3)  \n",
    "        conv6 = Conv2D(512, 3, activation = 'relu', padding = 'same', kernel_initializer = 'he_normal')(merge6)  \n",
    "        conv6 = Conv2D(512, 3, activation = 'relu', padding = 'same', kernel_initializer = 'he_normal')(conv6)  \n",
    "\n",
    "        up7 = Conv2D(256, 2, activation = 'relu', padding = 'same', kernel_initializer = 'he_normal')(UpSampling2D(size = (2,2))(conv6))  \n",
    "        merge7 = concatenate([conv3,up7], axis = 3)  \n",
    "        conv7 = Conv2D(256, 3, activation = 'relu', padding = 'same', kernel_initializer = 'he_normal')(merge7)  \n",
    "        conv7 = Conv2D(256, 3, activation = 'relu', padding = 'same', kernel_initializer = 'he_normal')(conv7)  \n",
    "\n",
    "        up8 = Conv2D(128, 2, activation = 'relu', padding = 'same', kernel_initializer = 'he_normal')(UpSampling2D(size = (2,2))(conv7))  \n",
    "        merge8 = concatenate([conv2,up8], axis = 3)  \n",
    "        conv8 = Conv2D(128, 3, activation = 'relu', padding = 'same', kernel_initializer = 'he_normal')(merge8)  \n",
    "        conv8 = Conv2D(128, 3, activation = 'relu', padding = 'same', kernel_initializer = 'he_normal')(conv8)  \n",
    "\n",
    "        up9 = Conv2D(64, 2, activation = 'relu', padding = 'same', kernel_initializer = 'he_normal')(UpSampling2D(size = (2,2))(conv8))  \n",
    "        merge9 = concatenate([conv1,up9], axis = 3)  \n",
    "        conv9 = Conv2D(64, 3, activation = 'relu', padding = 'same', kernel_initializer = 'he_normal')(merge9)  \n",
    "        conv9 = Conv2D(64, 3, activation = 'relu', padding = 'same', kernel_initializer = 'he_normal')(conv9)  \n",
    "        conv9 = Conv2D(2, 3, activation = 'relu', padding = 'same', kernel_initializer = 'he_normal')(conv9)  \n",
    "        conv10 = Conv2D(1, 1, activation = 'sigmoid')(conv9)  \n",
    "\n"
   ]
  },
  {
   "cell_type": "markdown",
   "metadata": {},
   "source": [
    "以上"
   ]
  }
 ],
 "metadata": {
  "kernelspec": {
   "display_name": "Python 3",
   "language": "python",
   "name": "python3"
  },
  "language_info": {
   "codemirror_mode": {
    "name": "ipython",
    "version": 3
   },
   "file_extension": ".py",
   "mimetype": "text/x-python",
   "name": "python",
   "nbconvert_exporter": "python",
   "pygments_lexer": "ipython3",
   "version": "3.6.4"
  }
 },
 "nbformat": 4,
 "nbformat_minor": 2
}
