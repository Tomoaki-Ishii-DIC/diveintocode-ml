{
 "cells": [
  {
   "cell_type": "markdown",
   "metadata": {},
   "source": [
    "## 1次元の畳み込みニューラルネットワークスクラッチ"
   ]
  },
  {
   "cell_type": "markdown",
   "metadata": {},
   "source": [
    ">このSprintでは1次元の 畳み込み層 を作成し、畳み込みの基礎を理解することを目指します。  \n",
    ">次のSprintでは2次元畳み込み層とプーリング層を作成することで、一般的に画像に対して利用されるCNNを完成させます。"
   ]
  },
  {
   "cell_type": "markdown",
   "metadata": {},
   "source": [
    "### 1次元畳み込み層とは  \n",
    ">CNNでは画像に対しての2次元畳み込み層が定番ですが、ここでは理解しやすくするためにまずは1次元畳み込み層を実装します。  \n",
    ">1次元畳み込みは実用上は自然言語や波形データなどの 系列データ で使われることが多いです。\n",
    ">\n",
    ">畳み込みは任意の次元に対して考えることができ、立体データに対しての3次元畳み込みまではフレームワークで一般的に用意されています。\n",
    "\n"
   ]
  },
  {
   "cell_type": "markdown",
   "metadata": {},
   "source": [
    "### データセットの用意  \n",
    ">検証には引き続きMNISTデータセットを使用します。1次元畳み込みでは全結合のニューラルネットワークと同様に平滑化されたものを入力します。"
   ]
  },
  {
   "cell_type": "markdown",
   "metadata": {},
   "source": [
    "## MNISTデータセット  "
   ]
  },
  {
   "cell_type": "code",
   "execution_count": 1,
   "metadata": {},
   "outputs": [],
   "source": [
    "import tensorflow as tf\n",
    "import keras\n",
    "\n",
    "import matplotlib.pyplot as plt\n",
    "import pandas as pd\n",
    "import numpy as np"
   ]
  },
  {
   "cell_type": "code",
   "execution_count": 2,
   "metadata": {},
   "outputs": [],
   "source": [
    "from keras.datasets import mnist\n",
    "(X_train, y_train), (X_test, y_test) = mnist.load_data()"
   ]
  },
  {
   "cell_type": "code",
   "execution_count": 3,
   "metadata": {},
   "outputs": [],
   "source": [
    "# 平準化\n",
    "X_train = X_train.reshape(-1, 784)\n",
    "X_test = X_test.reshape(-1, 784)"
   ]
  },
  {
   "cell_type": "code",
   "execution_count": 4,
   "metadata": {},
   "outputs": [],
   "source": [
    "# 前処理\n",
    "X_train = X_train.astype(np.float)\n",
    "X_test = X_test.astype(np.float)\n",
    "X_train /= 255\n",
    "X_test /= 255"
   ]
  },
  {
   "cell_type": "code",
   "execution_count": 5,
   "metadata": {},
   "outputs": [],
   "source": [
    "#from sklearn.preprocessing import OneHotEncoder\n",
    "#enc = OneHotEncoder(handle_unknown='ignore', sparse=False)\n",
    "#y_train_one_hot = enc.fit_transform(y_train[:, np.newaxis])\n",
    "#y_test_one_hot = enc.transform(y_test[:, np.newaxis])\n",
    "#print(y_train.shape) # (60000,)\n",
    "#print(y_train_one_hot.shape) # (60000, 10)\n",
    "#print(y_train_one_hot.dtype) # float64"
   ]
  },
  {
   "cell_type": "code",
   "execution_count": 6,
   "metadata": {},
   "outputs": [],
   "source": [
    "#from sklearn.model_selection import train_test_split"
   ]
  },
  {
   "cell_type": "code",
   "execution_count": 7,
   "metadata": {},
   "outputs": [],
   "source": [
    "#X_train, X_val, y_train, y_val = train_test_split(X_train, y_train_one_hot, test_size=0.2)\n",
    "#X_train, X_val, y_train, y_val = train_test_split(X_train, y_train, test_size=0.2)\n",
    "#print(X_train.shape) # (48000, 784)\n",
    "#print(X_val.shape) # (12000, 784)\n",
    "#print(y_train.shape)\n",
    "#print(y_val.shape)"
   ]
  },
  {
   "cell_type": "markdown",
   "metadata": {},
   "source": [
    "## 【問題1】チャンネル数を1に限定した1次元畳み込み層クラスの作成  \n",
    ">チャンネル数を1に限定した1次元畳み込み層のクラスSimpleConv1dを作成してください。  \n",
    ">基本構造は前のSprintで作成した全結合層のFCクラスと同じになります。  \n",
    ">なお、重みの初期化に関するクラスは必要に応じて作り変えてください。  \n",
    ">Xavierの初期値などを使う点は全結合層と同様です。\n",
    ">\n",
    ">ここでは **パディング** は考えず、**ストライド** も1に固定します。  \n",
    ">また、複数のデータを同時に処理することも考えなくて良く、バッチサイズは1のみに対応してください。  >\n",
    ">この部分の拡張はアドバンス課題とします。\n",
    ">\n",
    ">フォワードプロパゲーションの数式は以下のようになります。\n",
    ">\n",
    ">$\n",
    "a_i = \\sum_{s=0}^{F-1}x_{(i+s)}w_s+b\n",
    "$\n",
    ">\n",
    ">\n",
    ">ai : 出力される配列のi番目の値\n",
    ">\n",
    ">F : フィルタのサイズ\n",
    ">\n",
    ">$x_{(i+s)}$ : 入力の配列の(i+s)番目の値\n",
    ">\n",
    ">ws : 重みの配列のs番目の値\n",
    ">\n",
    ">b : バイアス項\n",
    ">\n",
    ">全てスカラーです。"
   ]
  },
  {
   "cell_type": "markdown",
   "metadata": {},
   "source": [
    ">次に更新式です。ここがAdaGradなどに置き換えられる点は全結合層と同様です。  \n",
    ">\n",
    ">$\n",
    "w_s^{\\prime} = w_s - \\alpha \\frac{\\partial L}{\\partial w_s} \\\\\n",
    "b^{\\prime} = b - \\alpha \\frac{\\partial L}{\\partial b}\n",
    "$\n",
    ">\n",
    ">α  : 学習率\n",
    ">\n",
    ">$\\frac{\\partial L}{\\partial w_s}$ : ws に関する損失 L の勾配\n",
    ">\n",
    ">$\\frac{\\partial L}{\\partial b}$ : b に関する損失 L の勾配\n",
    ">\n",
    ">勾配 $\\frac{\\partial L}{\\partial b}$ や $\\frac{\\partial L}{\\partial b}$ を求めるためのバックプロパゲーションの数式が以下です。\n",
    ">\n",
    ">$\n",
    "\\frac{\\partial L}{\\partial w_s} = \\sum_{i=0}^{N_{out}-1} \\frac{\\partial L}{\\partial a_i}x_{(i+s)}\\\\\n",
    "\\frac{\\partial L}{\\partial b} = \\sum_{i=0}^{N_{out}-1} \\frac{\\partial L}{\\partial a_i}\n",
    "$\n",
    ">\n",
    ">$\\frac{\\partial L}{\\partial a_i}$ : 勾配の配列のi番目の値\n",
    ">\n",
    ">$N_{out}$ : 出力のサイズ\n",
    ">\n",
    ">前の層に流す誤差の数式は以下です。\n",
    ">\n",
    ">$\n",
    "\\frac{\\partial L}{\\partial x_j} = \\sum_{s=0}^{F-1} \\frac{\\partial L}{\\partial a_{(j-s)}}w_s\n",
    "$\n",
    ">\n",
    ">$\\frac{\\partial L}{\\partial x_j}$  : 前の層に流す誤差の配列のj番目の値\n",
    ">\n",
    ">ただし、 $j-s<0$ または $j-s>N_{out}-1$ のとき $\\frac{\\partial L}{\\partial a_{(j-s)}} =0$ です。\n",
    ">\n",
    ">全結合層との大きな違いは、重みが複数の特徴量に対して共有されていることです。この場合は共有されている分の誤差を全て足すことで勾配を求めます。計算グラフ上での分岐はバックプロパゲーションの際に誤差の足し算をすれば良いことになります。"
   ]
  },
  {
   "cell_type": "code",
   "execution_count": 8,
   "metadata": {},
   "outputs": [],
   "source": [
    "class SimpleConv1d():\n",
    "    \"\"\"\n",
    "    ノード数n_nodes1からn_nodes2への全結合層\n",
    "    Parameters\n",
    "    ----------\n",
    "    n_nodes1 : int\n",
    "      前の層のノード数\n",
    "    n_nodes2 : int\n",
    "      後の層のノード数\n",
    "    initializer : 初期化方法のインスタンス\n",
    "    optimizer : 最適化手法のインスタンス\n",
    "    \"\"\"\n",
    "    def __init__(self, n_nodes1, n_nodes2, F, initializer, optimizer):\n",
    "        self.optimizer = optimizer\n",
    "        # 初期化\n",
    "        # initializerのメソッドを使い、self.Wとself.Bを初期化する\n",
    "        self.F = F\n",
    "        self.W = initializer.W(self.F,)\n",
    "        self.B = initializer.B()\n",
    "    \n",
    "    \n",
    "    def forward(self, X):\n",
    "        \"\"\"\n",
    "        フォワード\n",
    "        Parameters\n",
    "        ----------\n",
    "        X : 次の形のndarray, shape (batch_size, n_nodes1)\n",
    "            入力\n",
    "        Returns\n",
    "        ----------\n",
    "        A : 次の形のndarray, shape (batch_size, n_nodes2)\n",
    "            出力\n",
    "        \"\"\"\n",
    "        self.X = X\n",
    "        \n",
    "        self.n_input=len(self.X)#.shape[1]\n",
    "        #F=3\n",
    "        stride=1\n",
    "        padding=0\n",
    "        self.n_output = self.output_size(self.n_input, self.F, P=padding, S=stride)\n",
    "        \n",
    "        print(\"X.shape: {}\".format(X.shape))\n",
    "        \n",
    "        A = np.zeros(len(X)-(F-1))#self.n_input\n",
    "        for i in range(len(X)-(F-1)):#self.n_input\n",
    "            A[i] = X[i:i+self.F].T@self.W+self.B\n",
    "            \n",
    "        self.A = A\n",
    "            \n",
    "        print(\"self.A.shape: {}\".format(self.A.shape))\n",
    "        \n",
    "        return self.A\n",
    "    \n",
    "    \n",
    "    def backward(self,):\n",
    "        \"\"\"\n",
    "        バックワード\n",
    "        Parameters\n",
    "        ----------\n",
    "        dA : 次の形のndarray, shape (batch_size, n_nodes2)\n",
    "            後ろから流れてきた勾配\n",
    "        Returns\n",
    "        ----------\n",
    "        dZ : 次の形のndarray, shape (batch_size, n_nodes1)\n",
    "            前に流す勾配\n",
    "        \"\"\"\n",
    "        # 想定されるラベル\n",
    "        y_conv1d = np.array([45, 70])\n",
    "        \n",
    "        dA = y_conv1d - self.A\n",
    "        \n",
    "        # 更新\n",
    "        self, dZ = self.optimizer.update(self, dA, self.X)\n",
    "        \n",
    "        return dZ\n",
    "    \n",
    "    def output_size(self, n_input, F, P=0, S=1):\n",
    "        \"\"\"\n",
    "        出力数数える\n",
    "        \"\"\"\n",
    "        n_output = int((n_input + 2*P - F)/S + 1)\n",
    "\n",
    "        return n_output\n",
    "                 "
   ]
  },
  {
   "cell_type": "markdown",
   "metadata": {},
   "source": [
    "#### 初期化方法のクラス化"
   ]
  },
  {
   "cell_type": "code",
   "execution_count": 9,
   "metadata": {},
   "outputs": [],
   "source": [
    "class SimpleInitializer():\n",
    "    \"\"\"\n",
    "    ガウス分布によるシンプルな初期化\n",
    "    Parameters\n",
    "    ----------\n",
    "    sigma : float\n",
    "      ガウス分布の標準偏差\n",
    "    \"\"\"\n",
    "    def __init__(self, sigma):\n",
    "        self.sigma = sigma\n",
    "        \n",
    "    def W(self, n_filter):\n",
    "        \"\"\"\n",
    "        重みの初期化\n",
    "        Parameters\n",
    "        ----------\n",
    "        n_filter : int\n",
    "          フィルタのサイズ\n",
    "\n",
    "        Returns\n",
    "        ----------\n",
    "        W :\n",
    "        \"\"\"\n",
    "        W = self.sigma * np.random.randn(n_filter, )\n",
    "        \n",
    "        return W\n",
    "    \n",
    "    \n",
    "    def B(self, ):\n",
    "        \"\"\"\n",
    "        バイアスの初期化\n",
    "        Parameters\n",
    "        ----------\n",
    "        n_nodes2 : int\n",
    "          後の層のノード数\n",
    "\n",
    "        Returns\n",
    "        ----------\n",
    "        B :\n",
    "        \"\"\"\n",
    "        size=1\n",
    "        B = self.sigma * np.random.randn(size,)\n",
    "        \n",
    "        return B"
   ]
  },
  {
   "cell_type": "code",
   "execution_count": 10,
   "metadata": {},
   "outputs": [],
   "source": [
    "class XavierInitializer():\n",
    "    \"\"\"\n",
    "    ザビエル\n",
    "    Parameters\n",
    "    ----------\n",
    "    X : 次の形のndarray, shape (n_samples, n_features)\n",
    "        訓練データ\n",
    "    \"\"\"\n",
    "    def __init__(self, n_filter):#シグマではなくノード数を入れる　n_filter？\n",
    "        sigma = 1/np.sqrt(n_filter)\n",
    "        self.sigma = sigma\n",
    "        \n",
    "    def W(self, n_filter):\n",
    "        W = self.sigma * np.random.randn(n_filter,)\n",
    "        \n",
    "        return W\n",
    "    \n",
    "    def B(self, ):\n",
    "        \n",
    "        size=1\n",
    "        B = self.sigma * np.random.randn(size,)\n",
    "        \n",
    "        return B"
   ]
  },
  {
   "cell_type": "code",
   "execution_count": 11,
   "metadata": {},
   "outputs": [],
   "source": [
    "class HeInitializer():\n",
    "    \"\"\"\n",
    "    フー\n",
    "    Parameters\n",
    "    ----------\n",
    "    X : 次の形のndarray, shape (n_samples, n_features)\n",
    "        訓練データ\n",
    "    \"\"\"\n",
    "    def __init__(self, n_filter):#シグマではなくノード数を入れる　n_filter？\n",
    "        sigma = np.sqrt(2/n_filter)\n",
    "        self.sigma = sigma\n",
    "\n",
    "    def W(self, n_filter):\n",
    "        W = self.sigma * np.random.randn(n_filter, )\n",
    "        \n",
    "        return W\n",
    "    \n",
    "    def B(self, ):\n",
    "        size=1\n",
    "        B = self.sigma * np.random.randn(size, )\n",
    "        \n",
    "        return B"
   ]
  },
  {
   "cell_type": "markdown",
   "metadata": {},
   "source": [
    "#### 更新式"
   ]
  },
  {
   "cell_type": "code",
   "execution_count": 12,
   "metadata": {},
   "outputs": [],
   "source": [
    "class RenewalFormula():\n",
    "    \"\"\"\n",
    "    確率的勾配降下法\n",
    "    Parameters\n",
    "    ----------\n",
    "    lr : 学習率\n",
    "    \"\"\"\n",
    "    def __init__(self, lr):\n",
    "        self.lr = lr\n",
    "        \n",
    "    def update(self, layer, dA, X):#Z3, Y, \n",
    "        \"\"\"\n",
    "        ある層の重みやバイアスの更新\n",
    "        Parameters\n",
    "        ----------\n",
    "        layer : 更新前の層のインスタンス\n",
    "        \"\"\"\n",
    "        # フィルタのサイズ\n",
    "        F = len(layer.W)\n",
    "        \n",
    "        dW = np.zeros(F)\n",
    "        for i in range(layer.n_output):\n",
    "            dW += dA[i]*X[i:i+F]\n",
    "            \n",
    "        print()\n",
    "        print(\"dW: {}\".format(dW))\n",
    "            \n",
    "        dB = np.sum(dA)#, axis=0\n",
    "        print(\"dB: {}\".format(dB))\n",
    "        print()\n",
    "        \n",
    "        dX = np.zeros(len(X))\n",
    "        for j in range(len(dA)):\n",
    "            #for s in range(len(layer.W)):#len(layer.W)-1\n",
    "            #if not(j-s < 0) and not(j-s > len(dA)-1):\n",
    "            dL_dA = dA[j]*layer.W\n",
    "            dX[j:j+F] += dL_dA\n",
    "            \n",
    "        print(\"dX: \\n{}\".format(dX))\n",
    "        print()\n",
    "        \n",
    "        layer.W = layer.W - self.lr*(dW)\n",
    "        layer.B = layer.B - self.lr*(dB)\n",
    "        \n",
    "        return (layer, dX)\n",
    "        "
   ]
  },
  {
   "cell_type": "code",
   "execution_count": 13,
   "metadata": {},
   "outputs": [],
   "source": [
    "#class AdaGrad():\n",
    "#    \"\"\"\n",
    "#    最適化手法AdaGrad\n",
    "#    Parameters\n",
    "#    ----------\n",
    "#    X : 次の形のndarray, shape (n_samples, n_features)\n",
    "#        訓練データ\n",
    "#    \"\"\"\n",
    "#    def __init__(self, lr, n_nodes):\n",
    "#        self.lr = lr\n",
    "#        # RuntimeWarning: divide by zero encountered を避ける\n",
    "#        self.H = np.zeros(n_nodes)+1e-10\n",
    "#        \n",
    "#    def update(self, layer, dA, Z):\n",
    "#        #dL_dA3 = Z3 - Y\n",
    "#        dB = np.sum(dA, axis=0)#バッチサイズ分の合計\n",
    "#        dW = Z.T@dA\n",
    "#        \n",
    "#        dZ = dA@layer.W.T\n",
    "#        \n",
    "#        self.H = self.H + np.mean(dW, axis = 0)*np.mean(dW, axis = 0)\n",
    "#        \n",
    "#        layer.W = layer.W - self.lr*(1/np.sqrt(self.H))*np.mean(dW, axis = 0)\n",
    "#        layer.B = layer.B - self.lr*(1/np.sqrt(self.H))*np.mean(dW, axis = 0)\n",
    "#        \n",
    "#        return (layer, dZ)"
   ]
  },
  {
   "cell_type": "markdown",
   "metadata": {},
   "source": [
    "## 【問題2】1次元畳み込み後の出力サイズの計算  \n",
    ">畳み込みを行うと特徴量の数が変化します。どのように変化するかは以下の数式から求められます。\n",
    ">パディングやストライドも含めています。この計算を行う関数を作成してください。\n",
    ">\n",
    ">$\n",
    "N_{out} =  \\frac{N_{in}+2P-F}{S} + 1\\\\\n",
    "$\n",
    ">\n",
    ">$N_{out}$  : 出力のサイズ（特徴量の数）\n",
    ">\n",
    ">$N_{in}$ : 入力のサイズ（特徴量の数）\n",
    ">\n",
    ">P : ある方向へのパディングの数\n",
    ">\n",
    ">F : フィルタのサイズ\n",
    ">\n",
    ">S : ストライドのサイズ"
   ]
  },
  {
   "cell_type": "markdown",
   "metadata": {},
   "source": [
    "クラス内にoutput_sizeメソッドを作成。  "
   ]
  },
  {
   "cell_type": "code",
   "execution_count": 14,
   "metadata": {},
   "outputs": [
    {
     "name": "stdout",
     "output_type": "stream",
     "text": [
      "W.shape: (3,)\n",
      "B.shape: (1,)\n"
     ]
    }
   ],
   "source": [
    "n_nodes1=4\n",
    "n_nodes2=2\n",
    "initializer=SimpleInitializer(0.01)\n",
    "optimizer=RenewalFormula(1)\n",
    "F=3\n",
    "# インスタンス化\n",
    "CNN_size = SimpleConv1d(n_nodes1, n_nodes2, F, initializer, optimizer)\n",
    "\n",
    "print(\"W.shape: {}\".format(CNN_size.W.shape))\n",
    "print(\"B.shape: {}\".format(CNN_size.B.shape))"
   ]
  },
  {
   "cell_type": "code",
   "execution_count": 15,
   "metadata": {},
   "outputs": [
    {
     "data": {
      "text/plain": [
       "2"
      ]
     },
     "execution_count": 15,
     "metadata": {},
     "output_type": "execute_result"
    }
   ],
   "source": [
    "CNN_size.output_size(n_input=4, F=3, P=0, S=1)"
   ]
  },
  {
   "cell_type": "markdown",
   "metadata": {},
   "source": [
    "forward関数内にて呼び出してself.n_outputとして値を保管できるように設計。"
   ]
  },
  {
   "cell_type": "code",
   "execution_count": 16,
   "metadata": {},
   "outputs": [
    {
     "name": "stdout",
     "output_type": "stream",
     "text": [
      "X.shape: (4,)\n",
      "self.A.shape: (2,)\n"
     ]
    },
    {
     "data": {
      "text/plain": [
       "array([0.01844467, 0.01447395])"
      ]
     },
     "execution_count": 16,
     "metadata": {},
     "output_type": "execute_result"
    }
   ],
   "source": [
    "X = np.array([1, 2, 3, 4])\n",
    "CNN_size.forward(X)"
   ]
  },
  {
   "cell_type": "code",
   "execution_count": 17,
   "metadata": {
    "scrolled": true
   },
   "outputs": [
    {
     "data": {
      "text/plain": [
       "2"
      ]
     },
     "execution_count": 17,
     "metadata": {},
     "output_type": "execute_result"
    }
   ],
   "source": [
    "CNN_size.n_output"
   ]
  },
  {
   "cell_type": "markdown",
   "metadata": {},
   "source": [
    "## 【問題3】小さな配列での1次元畳み込み層の実験  \n",
    ">次に示す小さな配列でフォワードプロパゲーションとバックプロパゲーションが正しく行えているか確認してください。"
   ]
  },
  {
   "cell_type": "markdown",
   "metadata": {},
   "source": [
    "#### 動作検証用のデータセット"
   ]
  },
  {
   "cell_type": "markdown",
   "metadata": {},
   "source": [
    ">入力x、重みw、バイアスbを次のようにします。"
   ]
  },
  {
   "cell_type": "code",
   "execution_count": 18,
   "metadata": {},
   "outputs": [],
   "source": [
    "x = np.array([1,2,3,4])\n",
    "w = np.array([3, 5, 7])\n",
    "b = np.array([1])"
   ]
  },
  {
   "cell_type": "markdown",
   "metadata": {},
   "source": [
    ">フォワードプロパゲーションをすると出力は次のようになります。  \n",
    ">a = np.array([35, 50])"
   ]
  },
  {
   "cell_type": "markdown",
   "metadata": {},
   "source": [
    ">次にバックプロパゲーションを考えます。誤差は次のようであったとします。  \n",
    ">delta_a = np.array([10, 20])"
   ]
  },
  {
   "cell_type": "markdown",
   "metadata": {},
   "source": [
    ">バックプロパゲーションをすると次のような値になります。\n",
    ">\n",
    ">delta_b = np.array([30])  \n",
    ">delta_w = np.array([50, 80, 110])  \n",
    ">delta_x = np.array([30, 110, 170, 140])  "
   ]
  },
  {
   "cell_type": "code",
   "execution_count": 19,
   "metadata": {},
   "outputs": [],
   "source": [
    "# テスト用のコピー\n",
    "class SimpleConv1dTest():\n",
    "    \"\"\"\n",
    "    ノード数n_nodes1からn_nodes2への全結合層\n",
    "    Parameters\n",
    "    ----------\n",
    "    n_nodes1 : int\n",
    "      前の層のノード数\n",
    "    n_nodes2 : int\n",
    "      後の層のノード数\n",
    "    initializer : 初期化方法のインスタンス\n",
    "    optimizer : 最適化手法のインスタンス\n",
    "    \"\"\"\n",
    "    def __init__(self, n_nodes1, n_nodes2, F, initializer, optimizer):\n",
    "        self.optimizer = optimizer\n",
    "        # 初期化\n",
    "        # initializerのメソッドを使い、self.Wとself.Bを初期化する\n",
    "        self.F = F\n",
    "        #self.W = initializer.W(F,)\n",
    "        #self.B = initializer.B()\n",
    "        \n",
    "        # テスト用\n",
    "        self.W = np.array([3, 5, 7])\n",
    "        self.B = np.array([1])\n",
    "    \n",
    "    \n",
    "    def forward(self, X):\n",
    "        \"\"\"\n",
    "        フォワード\n",
    "        Parameters\n",
    "        ----------\n",
    "        X : 次の形のndarray, shape (batch_size, n_nodes1)\n",
    "            入力\n",
    "        Returns\n",
    "        ----------\n",
    "        A : 次の形のndarray, shape (batch_size, n_nodes2)\n",
    "            出力\n",
    "        \"\"\"\n",
    "        self.X = X\n",
    "        \n",
    "        self.n_input=len(self.X)#.shape[1]\n",
    "        #F=3\n",
    "        stride=1\n",
    "        padding=0\n",
    "        self.n_output = self.output_size(self.n_input, self.F, P=padding, S=stride)\n",
    "        \n",
    "        print(\"X.shape: {}\".format(X.shape))\n",
    "        \n",
    "        A = np.zeros(len(X)-(F-1))#self.n_input\n",
    "        for i in range(len(X)-(F-1)):#self.n_input\n",
    "            A[i] = X[i:i+self.F].T@self.W+self.B\n",
    "            \n",
    "        self.A = A\n",
    "            \n",
    "        print(\"self.A.shape: {}\".format(self.A.shape))\n",
    "        \n",
    "        return self.A\n",
    "    \n",
    "    \n",
    "    def backward(self,):\n",
    "        \"\"\"\n",
    "        バックワード\n",
    "        Parameters\n",
    "        ----------\n",
    "        dA : 次の形のndarray, shape (batch_size, n_nodes2)\n",
    "            後ろから流れてきた勾配\n",
    "        Returns\n",
    "        ----------\n",
    "        dZ : 次の形のndarray, shape (batch_size, n_nodes1)\n",
    "            前に流す勾配\n",
    "        \"\"\"\n",
    "        # 想定されるラベル\n",
    "        y_conv1d = np.array([45, 70])\n",
    "        \n",
    "        dA = y_conv1d - self.A\n",
    "        \n",
    "        # 更新\n",
    "        self, dZ = self.optimizer.update(self, dA, self.X)\n",
    "        \n",
    "        return dZ\n",
    "    \n",
    "    def output_size(self, n_input, F, P=0, S=1):\n",
    "        \"\"\"\n",
    "        出力数数える\n",
    "        \"\"\"\n",
    "        n_output = int((n_input + 2*P - F)/S + 1)\n",
    "\n",
    "        return n_output\n",
    "                 "
   ]
  },
  {
   "cell_type": "code",
   "execution_count": 20,
   "metadata": {},
   "outputs": [
    {
     "name": "stdout",
     "output_type": "stream",
     "text": [
      "W.shape: (3,)\n",
      "B.shape: (1,)\n"
     ]
    }
   ],
   "source": [
    "n_nodes1=4\n",
    "n_nodes2=2\n",
    "initializer=SimpleInitializer(0.01)\n",
    "optimizer=RenewalFormula(1)\n",
    "F=3\n",
    "# インスタンス化\n",
    "CNN_check = SimpleConv1dTest(n_nodes1, n_nodes2, F, initializer, optimizer)\n",
    "\n",
    "print(\"W.shape: {}\".format(CNN_check.W.shape))\n",
    "print(\"B.shape: {}\".format(CNN_check.B.shape))"
   ]
  },
  {
   "cell_type": "code",
   "execution_count": 21,
   "metadata": {},
   "outputs": [
    {
     "name": "stdout",
     "output_type": "stream",
     "text": [
      "X.shape: (4,)\n",
      "self.A.shape: (2,)\n"
     ]
    },
    {
     "data": {
      "text/plain": [
       "array([35., 50.])"
      ]
     },
     "execution_count": 21,
     "metadata": {},
     "output_type": "execute_result"
    }
   ],
   "source": [
    "CNN_check.forward(x)"
   ]
  },
  {
   "cell_type": "code",
   "execution_count": 22,
   "metadata": {
    "scrolled": true
   },
   "outputs": [
    {
     "name": "stdout",
     "output_type": "stream",
     "text": [
      "\n",
      "dW: [ 50.  80. 110.]\n",
      "dB: 30.0\n",
      "\n",
      "dX: \n",
      "[ 30. 110. 170. 140.]\n",
      "\n"
     ]
    },
    {
     "data": {
      "text/plain": [
       "array([ 30., 110., 170., 140.])"
      ]
     },
     "execution_count": 22,
     "metadata": {},
     "output_type": "execute_result"
    }
   ],
   "source": [
    "CNN_check.backward()"
   ]
  },
  {
   "cell_type": "markdown",
   "metadata": {},
   "source": [
    "## 実装上の工夫  \n",
    ">畳み込みを実装する場合は、まずはfor文を重ねていく形で構いません。  \n",
    ">しかし、できるだけ計算は効率化させたいため、以下の式を一度に計算する方法を考えることにします。\n",
    ">\n",
    ">$\n",
    "a_i = \\sum_{s=0}^{F-1}x_{(i+s)}w_s+b\n",
    "$\n",
    ">\n",
    ">バイアス項は単純な足し算のため、重みの部分を見ます。\n",
    ">\n",
    ">$\n",
    "\\sum_{s=0}^{F-1}x_{(i+s)}w_s\n",
    "$\n",
    ">\n",
    ">これは、xの一部を取り出した配列とwの配列の内積です。  \n",
    ">具体的な状況を考えると、以下のようなコードで計算できます。  \n",
    ">この例では流れを分かりやすくするために、各要素同士でアダマール積を計算してから合計を計算しています。  \n",
    ">これは結果的に内積と同様です。\n",
    "\n"
   ]
  },
  {
   "cell_type": "code",
   "execution_count": 23,
   "metadata": {},
   "outputs": [],
   "source": [
    "#x = np.array([1, 2, 3, 4])\n",
    "#w = np.array([3, 5, 7])\n",
    "#a = np.empty((2, 3))\n",
    "#indexes0 = np.array([0, 1, 2]).astype(np.int)\n",
    "#indexes1 = np.array([1, 2, 3]).astype(np.int)\n",
    "#a[0] = x[indexes0]*w # x[indexes0]は([1, 2, 3])である\n",
    "#a[1] = x[indexes1]*w # x[indexes1]は([2, 3, 4])である\n",
    "#a = a.sum(axis=1)"
   ]
  },
  {
   "cell_type": "markdown",
   "metadata": {},
   "source": [
    ">ndarrayは配列を使ったインデックス指定ができることを利用した方法です。\n",
    ">\n",
    ">また、二次元配列を使えば一次元配列から二次元配列が取り出せます。"
   ]
  },
  {
   "cell_type": "code",
   "execution_count": 24,
   "metadata": {},
   "outputs": [],
   "source": [
    "#x = np.array([1, 2, 3, 4])\n",
    "#indexes = np.array([[0, 1, 2], [1, 2, 3]]).astype(np.int)\n",
    "#print(x[indexes]) # ([[1, 2, 3], [2, 3, 4]])"
   ]
  },
  {
   "cell_type": "markdown",
   "metadata": {},
   "source": [
    ">このこととブロードキャストなどをうまく組み合わせることで、一度にまとめて計算することも可能です。\n",
    ">\n",
    ">畳み込みの計算方法に正解はないので、自分なりに効率化していってください。\n",
    ">\n",
    ">《参考》\n",
    ">\n",
    ">以下のページのInteger array indexingの部分がこの方法についての記述です。\n",
    ">\n",
    ">Indexing — NumPy v1.17 Manual\n",
    "\n",
    "\n"
   ]
  },
  {
   "cell_type": "markdown",
   "metadata": {},
   "source": [
    "#### 実施内容\n",
    "更新用クラスRenewalFormula内のupdateメソッド内にて、Xをスライスで取り出すことで対応。"
   ]
  },
  {
   "cell_type": "markdown",
   "metadata": {},
   "source": [
    "## 【問題4】チャンネル数を限定しない1次元畳み込み層クラスの作成  \n",
    ">チャンネル数を1に限定しない1次元畳み込み層のクラスConv1dを作成してください。\n",
    ">\n",
    ">例えば以下のようなx, w, bがあった場合は、"
   ]
  },
  {
   "cell_type": "code",
   "execution_count": 25,
   "metadata": {},
   "outputs": [],
   "source": [
    "x_conv1d = np.array([[1, 2, 3, 4], [2, 3, 4, 5]]) # shape(2, 4)で、（入力チャンネル数、特徴量数）である。\n",
    "w = np.ones((3, 2, 3)) # 例の簡略化のため全て1とする。(出力チャンネル数、入力チャンネル数、フィルタサイズ)である。\n",
    "b = np.array([1, 2, 3]) # （出力チャンネル数）"
   ]
  },
  {
   "cell_type": "markdown",
   "metadata": {},
   "source": [
    ">出力は次のようになります。"
   ]
  },
  {
   "cell_type": "code",
   "execution_count": 26,
   "metadata": {},
   "outputs": [],
   "source": [
    "a = np.array([[16, 22], [17, 23], [18, 24]]) \n",
    "# shape(3, 2)で、（出力チャンネル数、特徴量数）である。"
   ]
  },
  {
   "cell_type": "markdown",
   "metadata": {},
   "source": [
    ">入力が2チャンネル、出力が3チャンネルの例です。  \n",
    ">計算グラフを書いた上で、バックプロパゲーションも手計算で考えてみましょう。  \n",
    ">計算グラフの中には和と積しか登場しないので、微分を新たに考える必要はありません。"
   ]
  },
  {
   "cell_type": "markdown",
   "metadata": {},
   "source": [
    "#### 《補足》  \n",
    ">\n",
    ">チャンネル数を加える場合、配列をどういう順番にするかという問題があります。  \n",
    "(バッチサイズ、チャンネル数、特徴量数)または(バッチサイズ、特徴量数、チャンネル数)が一般的で、ライブラリによって順番は異なっています。（切り替えて使用できるものもあります）\n",
    ">\n",
    ">今回のスクラッチでは自身の実装上どちらが効率的かを考えて選んでください。\n",
    ">上記の例ではバッチサイズは考えておらず、(チャンネル数、特徴量数)です。"
   ]
  },
  {
   "cell_type": "code",
   "execution_count": 27,
   "metadata": {},
   "outputs": [],
   "source": [
    "class Conv1d():\n",
    "    \"\"\"\n",
    "    ノード数n_nodes1からn_nodes2への全結合層\n",
    "    Parameters\n",
    "    ----------\n",
    "    n_nodes1 : int\n",
    "      前の層のノード数\n",
    "    n_nodes2 : int\n",
    "      後の層のノード数\n",
    "    initializer : 初期化方法のインスタンス\n",
    "    optimizer : 最適化手法のインスタンス\n",
    "    \"\"\"\n",
    "    def __init__(self, n_nodes1, n_nodes2, n_filter, n_channel, F, initializer, optimizer):\n",
    "        self.optimizer = optimizer\n",
    "        # 初期化\n",
    "        # initializerのメソッドを使い、self.Wとself.Bを初期化する\n",
    "        self.F = F\n",
    "        # テスト用\n",
    "        self.W = np.array([[[1, 1, 2], [2, 1, 1]], [[2, 1, 1], [1, 1, 1]], [[1, 1, 1], [1, 1, 1]]])\n",
    "        #self.W = np.ones((3, 2, 3)) # 例の簡略化のため全て1とする。(出力チャンネル数、入力チャンネル数、フィルタサイズ)である。\n",
    "        self.B = np.array([1, 2, 3]) # （出力チャンネル数）\n",
    "        \n",
    "        #w(出力チャンネル数、入力チャンネル数、フィルタサイズ)\n",
    "        #b（出力チャンネル数）\n",
    "        #self.W = initializer.W(n_filter, n_channel, self.F)\n",
    "        #self.B = initializer.B(n_filter)\n",
    "        \n",
    "        self.n_filter = n_filter\n",
    "        self.n_channel = n_channel\n",
    "    \n",
    "    def forward(self, X):\n",
    "        \"\"\"\n",
    "        フォワード\n",
    "        Parameters\n",
    "        ----------\n",
    "        X : 次の形のndarray, shape (batch_size, n_nodes1)\n",
    "            入力\n",
    "        Returns\n",
    "        ----------\n",
    "        A : 次の形のndarray, shape (batch_size, n_nodes2)\n",
    "            出力\n",
    "        \"\"\"\n",
    "        #x(入力チャンネル数、特徴量数)\n",
    "        self.X = X\n",
    "        \n",
    "        self.n_input=self.X.shape[1]#.shape[1]\n",
    "        \n",
    "        #F=3\n",
    "        stride=1\n",
    "        padding=0\n",
    "        self.n_output = self.output_size(self.n_input, self.F, P=padding, S=stride)\n",
    "        \n",
    "        A = np.empty((self.n_filter,self.n_output))\n",
    "        for f in range(self.n_filter):\n",
    "            for a_o in range(self.n_output):\n",
    "                A[f, a_o] = np.sum(X[:, a_o:a_o+self.F]*self.W[f])+self.B[f]\n",
    "   \n",
    "        self.A = A\n",
    "        \n",
    "        return self.A\n",
    "    \n",
    "    \n",
    "    def backward(self,):\n",
    "        \"\"\"\n",
    "        バックワード\n",
    "        Parameters\n",
    "        ----------\n",
    "        dA : 次の形のndarray, shape (batch_size, n_nodes2)\n",
    "            後ろから流れてきた勾配\n",
    "        Returns\n",
    "        ----------\n",
    "        dZ : 次の形のndarray, shape (batch_size, n_nodes1)\n",
    "            前に流す勾配\n",
    "        \"\"\"\n",
    "        # 想定されるラベル\n",
    "        y_conv1d = np.array([[30, 40], [50, 60], [70, 80]]) \n",
    "        #y_conv1d = np.array([45, 70])\n",
    "        \n",
    "        dA = y_conv1d - self.A\n",
    "        \n",
    "        # 更新\n",
    "        self, dZ = self.optimizer.update(self, dA, self.X)\n",
    "        \n",
    "        return dZ\n",
    "    \n",
    "    def output_size(self, n_input, F, P=0, S=1):\n",
    "        \"\"\"\n",
    "        出力数数える\n",
    "        \"\"\"\n",
    "        n_output = int((n_input + 2*P - F)/S + 1)\n",
    "\n",
    "        return n_output\n",
    "                 "
   ]
  },
  {
   "cell_type": "markdown",
   "metadata": {},
   "source": [
    "#### 初期化方法のクラス化"
   ]
  },
  {
   "cell_type": "code",
   "execution_count": 28,
   "metadata": {},
   "outputs": [],
   "source": [
    "class SimpleInitializer_q4():\n",
    "    \"\"\"\n",
    "    ガウス分布によるシンプルな初期化\n",
    "    Parameters\n",
    "    ----------\n",
    "    sigma : float\n",
    "      ガウス分布の標準偏差\n",
    "    \"\"\"\n",
    "    def __init__(self, sigma):\n",
    "        self.sigma = sigma\n",
    "        \n",
    "    def W(self, n_filter, n_channel, F):\n",
    "        \"\"\"\n",
    "        重みの初期化\n",
    "        Parameters\n",
    "        ----------\n",
    "        n_filter : int\n",
    "          フィルタのサイズ\n",
    "\n",
    "        Returns\n",
    "        ----------\n",
    "        W :\n",
    "        \"\"\"\n",
    "        #【問題2】\n",
    "        W = self.sigma * np.random.randn(n_filter, n_channel, F)\n",
    "        \n",
    "        return W\n",
    "    \n",
    "    \n",
    "    def B(self, n_filter):\n",
    "        \"\"\"\n",
    "        バイアスの初期化\n",
    "        Parameters\n",
    "        ----------\n",
    "        n_nodes2 : int\n",
    "          後の層のノード数\n",
    "\n",
    "        Returns\n",
    "        ----------\n",
    "        B :\n",
    "        \"\"\"\n",
    "        B = self.sigma * np.random.randn(n_filter, )\n",
    "        \n",
    "        return B"
   ]
  },
  {
   "cell_type": "code",
   "execution_count": 29,
   "metadata": {},
   "outputs": [],
   "source": [
    "class XavierInitializer_q4():\n",
    "    \"\"\"\n",
    "    ザビエル\n",
    "    Parameters\n",
    "    ----------\n",
    "    X : 次の形のndarray, shape (n_samples, n_features)\n",
    "        訓練データ\n",
    "    \"\"\"\n",
    "    def __init__(self, n_filter):#シグマではなくノード数を入れる　n_filter？\n",
    "        sigma = 1/np.sqrt(n_filter)\n",
    "        self.sigma = sigma\n",
    "        \n",
    "    def W(self, n_filter, n_channel, F):\n",
    "        W = self.sigma * np.random.randn(n_filter, n_channel, F)\n",
    "        \n",
    "        return W\n",
    "    \n",
    "    def B(self, ):\n",
    "        B = self.sigma * np.random.randn(n_filter,)\n",
    "        \n",
    "        return B"
   ]
  },
  {
   "cell_type": "code",
   "execution_count": 30,
   "metadata": {},
   "outputs": [],
   "source": [
    "class HeInitializer_q4():\n",
    "    \"\"\"\n",
    "    フー\n",
    "    Parameters\n",
    "    ----------\n",
    "    X : 次の形のndarray, shape (n_samples, n_features)\n",
    "        訓練データ\n",
    "    \"\"\"\n",
    "    def __init__(self, n_filter):#シグマではなくノード数を入れる　n_filter？\n",
    "        sigma = np.sqrt(2/n_filter)\n",
    "        self.sigma = sigma\n",
    "\n",
    "    def W(self, n_filter, n_channel, F):\n",
    "        W = self.sigma * np.random.randn(n_filter, n_channel, F)\n",
    "        \n",
    "        return W\n",
    "    \n",
    "    def B(self, ):\n",
    "        B = self.sigma * np.random.randn(n_filter, )\n",
    "        \n",
    "        return B"
   ]
  },
  {
   "cell_type": "markdown",
   "metadata": {},
   "source": [
    "#### 更新式"
   ]
  },
  {
   "cell_type": "code",
   "execution_count": 31,
   "metadata": {},
   "outputs": [],
   "source": [
    "class RenewalFormula_q4():\n",
    "    \"\"\"\n",
    "    確率的勾配降下法\n",
    "    Parameters\n",
    "    ----------\n",
    "    lr : 学習率\n",
    "    \"\"\"\n",
    "    def __init__(self, lr):\n",
    "        self.lr = lr\n",
    "        \n",
    "    def update(self, layer, dA, X):#Z3, Y, \n",
    "        \"\"\"\n",
    "        ある層の重みやバイアスの更新\n",
    "        Parameters\n",
    "        ----------\n",
    "        layer : 更新前の層のインスタンス\n",
    "        \"\"\"\n",
    "        dW_temp = []\n",
    "        for f in range(layer.n_filter):\n",
    "            dA_X = []\n",
    "            for i in range(layer.n_output):\n",
    "                dA_X.append(dA[f, i]*X[:, i:i+layer.F])    \n",
    "            dW_temp.append(dA_X)\n",
    "        \n",
    "        dW_temp = np.array(dW_temp)\n",
    "        \n",
    "        dW = []\n",
    "        for f in range(layer.n_filter):\n",
    "            dW_c = []\n",
    "            for c in range(layer.n_channel):\n",
    "                dW_dW = np.zeros(layer.F)\n",
    "                for i in range(layer.n_output):\n",
    "                    dW_dW += dW_temp[f, i, c, :]\n",
    "                dW_c.append(dW_dW)\n",
    "            dW.append(dW_c)\n",
    "        dW = np.array(dW)\n",
    "        \n",
    "        print(\"dW: \\n{}\".format(dW))\n",
    "        print()\n",
    "        \n",
    "        dB = np.sum(dA, axis=1)#, axis=0\n",
    "        print(\"dB: {}\".format(dB))\n",
    "        print()\n",
    "        \n",
    "        \n",
    "        # X\n",
    "        dX=np.zeros(X.shape)#layer.n_channel, layer.n_input\n",
    "        for f in range(layer.n_filter):#チャネル\n",
    "            for i in range(layer.n_output):#９、１１\n",
    "                for c in range(layer.n_channel):#フィルタの選択\n",
    "                    dX[c, i:i+layer.F] += dA[f, i]*layer.W[f, c]\n",
    "                \n",
    "        print(\"dX: \\n{}\".format(dX))\n",
    "        print()\n",
    "        \n",
    "        layer.W = layer.W - self.lr*(dW)\n",
    "        layer.B = layer.B - self.lr*(dB)\n",
    "        \n",
    "        return (layer, dX)\n",
    "        "
   ]
  },
  {
   "cell_type": "code",
   "execution_count": 32,
   "metadata": {},
   "outputs": [],
   "source": [
    "#class AdaGrad_q4():\n",
    "#    \"\"\"\n",
    "#    最適化手法AdaGrad\n",
    "#    Parameters\n",
    "#    ----------\n",
    "#    X : 次の形のndarray, shape (n_samples, n_features)\n",
    "#    訓練データ\n",
    "#    \"\"\"\n",
    "#    def __init__(self, lr, n_nodes):\n",
    "#        self.lr = lr\n",
    "#        # RuntimeWarning: divide by zero encountered を避ける\n",
    "#        self.H = np.zeros(n_nodes)+1e-10\n",
    "#        \n",
    "#    def update(self, layer, dA, Z):\n",
    "#        #dL_dA3 = Z3 - Y\n",
    "#        dB = np.sum(dA, axis=0)#バッチサイズ分の合計\n",
    "#        dW = Z.T@dA\n",
    "#        \n",
    "#        dZ = dA@layer.W.T\n",
    "#        \n",
    "#        self.H = self.H + np.mean(dW, axis = 0)*np.mean(dW, axis = 0)\n",
    "#        \n",
    "#        layer.W = layer.W - self.lr*(1/np.sqrt(self.H))*np.mean(dW, axis = 0)\n",
    "#        layer.B = layer.B - self.lr*(1/np.sqrt(self.H))*np.mean(dW, axis = 0)\n",
    "#        \n",
    "#        return (layer, dZ)"
   ]
  },
  {
   "cell_type": "markdown",
   "metadata": {},
   "source": [
    "インスタンス化"
   ]
  },
  {
   "cell_type": "code",
   "execution_count": 33,
   "metadata": {},
   "outputs": [
    {
     "name": "stdout",
     "output_type": "stream",
     "text": [
      "W.shape: (3, 2, 3)\n",
      "B.shape: (3,)\n"
     ]
    }
   ],
   "source": [
    "#x(入力チャンネル数、特徴量数)\n",
    "#w(出力チャンネル数、入力チャンネル数、フィルタサイズ)\n",
    "#b（出力チャンネル数）\n",
    "\n",
    "n_nodes1=4\n",
    "n_nodes2=2\n",
    "initializer=SimpleInitializer_q4(0.01)\n",
    "optimizer=RenewalFormula_q4(1)\n",
    "n_filter=3\n",
    "n_channel=2\n",
    "F=3\n",
    "# インスタンス化\n",
    "CNN_conv1d = Conv1d(n_nodes1, n_nodes2, n_filter, n_channel, F, initializer, optimizer)\n",
    "\n",
    "print(\"W.shape: {}\".format(CNN_conv1d.W.shape))\n",
    "print(\"B.shape: {}\".format(CNN_conv1d.B.shape))"
   ]
  },
  {
   "cell_type": "code",
   "execution_count": 34,
   "metadata": {},
   "outputs": [
    {
     "data": {
      "text/plain": [
       "array([[21., 29.],\n",
       "       [18., 25.],\n",
       "       [18., 24.]])"
      ]
     },
     "execution_count": 34,
     "metadata": {},
     "output_type": "execute_result"
    }
   ],
   "source": [
    "CNN_conv1d.forward(x_conv1d)\n",
    "#CNN_conv1d.forward(X_train[0])#バッチサイズ１"
   ]
  },
  {
   "cell_type": "code",
   "execution_count": 35,
   "metadata": {},
   "outputs": [
    {
     "name": "stdout",
     "output_type": "stream",
     "text": [
      "dW: \n",
      "[[[ 31.  51.  71.]\n",
      "  [ 51.  71.  91.]]\n",
      "\n",
      " [[102. 169. 236.]\n",
      "  [169. 236. 303.]]\n",
      "\n",
      " [[164. 272. 380.]\n",
      "  [272. 380. 488.]]]\n",
      "\n",
      "dB: [ 20.  67. 108.]\n",
      "\n",
      "dX: \n",
      "[[125. 230. 204. 113.]\n",
      " [102. 206. 195. 102.]]\n",
      "\n"
     ]
    },
    {
     "data": {
      "text/plain": [
       "array([[125., 230., 204., 113.],\n",
       "       [102., 206., 195., 102.]])"
      ]
     },
     "execution_count": 35,
     "metadata": {},
     "output_type": "execute_result"
    }
   ],
   "source": [
    "CNN_conv1d.backward()\n",
    "#CNN_conv1d.backward(y_train[0])#バッチサイズ１"
   ]
  },
  {
   "cell_type": "markdown",
   "metadata": {},
   "source": [
    "## 【問題8】学習と推定  \n",
    ">これまで使ってきたニューラルネットワークの全結合層の一部をConv1dに置き換えてMNISTを学習・推定し、Accuracyを計算してください。\n",
    ">\n",
    ">出力層だけは全結合層をそのまま使ってください。  \n",
    ">ただし、チャンネルが複数ある状態では全結合層への入力は行えません。\n",
    ">その段階でのチャンネルは1になるようにするか、 平滑化 を行なってください。\n",
    ">\n",
    ">画像に対しての1次元畳み込みは実用上は行わないことのため、精度は問いません。"
   ]
  },
  {
   "cell_type": "code",
   "execution_count": 36,
   "metadata": {},
   "outputs": [
    {
     "name": "stdout",
     "output_type": "stream",
     "text": [
      "(60000,)\n",
      "(60000, 10)\n",
      "float64\n"
     ]
    }
   ],
   "source": [
    "from sklearn.preprocessing import OneHotEncoder\n",
    "enc = OneHotEncoder(handle_unknown='ignore', sparse=False)\n",
    "y_train_one_hot = enc.fit_transform(y_train[:, np.newaxis])\n",
    "y_test_one_hot = enc.transform(y_test[:, np.newaxis])\n",
    "print(y_train.shape) # (60000,)\n",
    "print(y_train_one_hot.shape) # (60000, 10)\n",
    "print(y_train_one_hot.dtype) # float64"
   ]
  },
  {
   "cell_type": "code",
   "execution_count": 37,
   "metadata": {},
   "outputs": [],
   "source": [
    "from sklearn.model_selection import train_test_split"
   ]
  },
  {
   "cell_type": "code",
   "execution_count": 38,
   "metadata": {},
   "outputs": [
    {
     "name": "stdout",
     "output_type": "stream",
     "text": [
      "(48000, 784)\n",
      "(12000, 784)\n",
      "(48000, 10)\n",
      "(12000, 10)\n"
     ]
    }
   ],
   "source": [
    "X_train, X_val, y_train, y_val = train_test_split(X_train, y_train_one_hot, test_size=0.2)\n",
    "print(X_train.shape) # (48000, 784)\n",
    "print(X_val.shape) # (12000, 784)\n",
    "print(y_train.shape)\n",
    "print(y_val.shape)"
   ]
  },
  {
   "cell_type": "code",
   "execution_count": 39,
   "metadata": {},
   "outputs": [
    {
     "name": "stdout",
     "output_type": "stream",
     "text": [
      "(12000,)\n",
      "[6 9 2 ... 2 9 6]\n"
     ]
    }
   ],
   "source": [
    "# テスト用にデコード\n",
    "y_test_decode = np.argmax(y_val, axis=1)\n",
    "print(y_test_decode.shape)\n",
    "print(y_test_decode)"
   ]
  },
  {
   "cell_type": "code",
   "execution_count": 40,
   "metadata": {},
   "outputs": [],
   "source": [
    "class GetMiniBatch:\n",
    "    \"\"\"\n",
    "    ミニバッチを取得するイテレータ\n",
    "\n",
    "    Parameters\n",
    "    ----------\n",
    "    X : 次の形のndarray, shape (n_samples, n_features)\n",
    "      訓練データ\n",
    "    y : 次の形のndarray, shape (n_samples, 1)\n",
    "      正解値\n",
    "    batch_size : int\n",
    "      バッチサイズ\n",
    "    seed : int\n",
    "      NumPyの乱数のシード\n",
    "    \"\"\"\n",
    "    def __init__(self, X, y, batch_size = 20, seed=0):\n",
    "        self.batch_size = batch_size\n",
    "        np.random.seed(seed)\n",
    "        shuffle_index = np.random.permutation(np.arange(X.shape[0]))\n",
    "        self._X = X[shuffle_index]\n",
    "        self._y = y[shuffle_index]\n",
    "        self._stop = np.ceil(X.shape[0]/self.batch_size).astype(np.int)\n",
    "    def __len__(self):\n",
    "        return self._stop\n",
    "    def __getitem__(self,item):\n",
    "        p0 = item*self.batch_size\n",
    "        p1 = item*self.batch_size + self.batch_size\n",
    "        return self._X[p0:p1], self._y[p0:p1]        \n",
    "    def __iter__(self):\n",
    "        self._counter = 0\n",
    "        return self\n",
    "    def __next__(self):\n",
    "        if self._counter >= self._stop:\n",
    "            raise StopIteration()\n",
    "        p0 = self._counter*self.batch_size\n",
    "        p1 = self._counter*self.batch_size + self.batch_size\n",
    "        self._counter += 1\n",
    "        return self._X[p0:p1], self._y[p0:p1]"
   ]
  },
  {
   "cell_type": "code",
   "execution_count": 41,
   "metadata": {},
   "outputs": [],
   "source": [
    "class ScratchDeepNeuralNetrowkClassifier():\n",
    "    \"\"\"\n",
    "    ディープニューラルネットワークのクラス\n",
    "    Parameters\n",
    "    ----------\n",
    "    self.n_features \n",
    "    \n",
    "    self.n_nodes1\n",
    "    \n",
    "    self.sigma\n",
    "    \n",
    "    \"\"\"\n",
    "    def __init__(self, lr, sigma = 0.01):\n",
    "        self.lr = lr\n",
    "        #self.n_features = n_features\n",
    "        #self.n_nodes1 = n_nodes1\n",
    "        #self.n_nodes2 = n_nodes2\n",
    "        #self.n_output = n_output\n",
    "        self.sigma = sigma\n",
    "    \n",
    "    def fit(self,X_train, y_train,layer_information, epoch=1, batch_size=20):\n",
    "\n",
    "        # 各層のインスタンス、関数のインスタンス\n",
    "        self.FC_list = []\n",
    "        self.activation_list = []\n",
    "        \n",
    "        # レイヤー数を取得\n",
    "        self.layer = len(layer_information)\n",
    "        \n",
    "        # 各層のインスタンス、関数のインスタンスを用意するためのループ\n",
    "        for i in range(self.layer):\n",
    "            n_nodes_a = layer_information[i][2]\n",
    "            n_nodes_b = layer_information[i][3]\n",
    "        \n",
    "            #最適化関数の選択\n",
    "            if layer_information[i][0] == 'SGD':\n",
    "                optimizer = SGD(self.lr)\n",
    "            else:\n",
    "                optimizer = RenewalFormula_q8(self.lr,)\n",
    "\n",
    "        \n",
    "            #使用するモデルの選択\n",
    "            if layer_information[i][5] == 'CNN':\n",
    "                #初期化の選択\n",
    "                if layer_information[i][4] == 'XavierInitializer':\n",
    "                    FC_temp = Conv1d_q8(n_nodes_a, n_nodes_b, 3, XavierInitializer(n_nodes_a), optimizer)\n",
    "                elif layer_information[i][4] == 'HeInitializer':\n",
    "                    FC_temp = Conv1d_q8(n_nodes_a, n_nodes_b, 3, HeInitializer(n_nodes_a), optimizer)\n",
    "                else:\n",
    "                    FC_temp = Conv1d_q8(n_nodes_a, n_nodes_b, 3, SimpleInitializer_q4(self.sigma), optimizer)\n",
    "            else:\n",
    "                #初期化の選択\n",
    "                if layer_information[i][4] == 'XavierInitializer':\n",
    "                    FC_temp = FC(n_nodes_a, n_nodes_b, XavierInitializer(n_nodes_a), optimizer)\n",
    "                elif layer_information[i][4] == 'HeInitializer':\n",
    "                    FC_temp = FC(n_nodes_a, n_nodes_b, HeInitializer(n_nodes_a), optimizer)\n",
    "                else:\n",
    "                    FC_temp = FC(n_nodes_a, n_nodes_b, SimpleInitializerFC(self.sigma), optimizer)\n",
    "\n",
    "            # 各層のインスタンスをリストで保管\n",
    "            self.FC_list.append(FC_temp)\n",
    "            \n",
    "            #活性化関数の選択\n",
    "            if layer_information[i][1]=='ReLU':\n",
    "                activation_temp = ReLU()\n",
    "            elif layer_information[i][1]=='Sigmoid':\n",
    "                activation_temp = Sigmoid()\n",
    "            elif layer_information[i][1]=='Softmax':\n",
    "                # 最終層の関数\n",
    "                activation_temp = Softmax()\n",
    "            else:\n",
    "                activation_temp = Tanh()\n",
    "\n",
    "            # 各層の関数をリストで保管\n",
    "            self.activation_list.append(activation_temp)\n",
    "            \n",
    "        # Loss Curv用のリスト\n",
    "        L_list = []\n",
    "        \n",
    "        for i in range(epoch):\n",
    "            get_mini_batch = GetMiniBatch(X_train, y_train, batch_size)# ミニバッチ\n",
    "            for mini_X_train, mini_y_train in get_mini_batch:\n",
    "                # フォワードのA、Zを保管するリスト\n",
    "                #A_list=[]\n",
    "                #Z_list=[]\n",
    "                \n",
    "                # 最初のZは　mini_X_train　なので代入\n",
    "                #Z = mini_X_train\n",
    "                \n",
    "                # フォワード処理\n",
    "                #for l in range(len(layer_information)):\n",
    "                #    A = self.FC_list[l].forward(Z)\n",
    "                #    Z = self.activation_list[l].forward(A)\n",
    "                #    A_list.append(A)\n",
    "                #    Z_list.append(Z)\n",
    "                    \n",
    "                A1 = self.FC_list[0].forward(mini_X_train)\n",
    "                Z1 = self.activation_list[0].forward(A1)\n",
    "                A2 = self.FC_list[1].forward(Z1)\n",
    "                Z2 = self.activation_list[1].forward(A2)\n",
    "                A3 = self.FC_list[2].forward(Z2)\n",
    "                Z3 = self.activation_list[2].forward(A3)\n",
    "\n",
    "                # バックワードの処理\n",
    "                #dA3, L = self.activation_list[-1].backward(Z_list[-1], mini_y_train) # 交差エントロピー誤差とソフトマックスを合わせている\n",
    "                #dZ2 = self.FC_list[-1].backward(dA3, Z_list[-2])#引数増やして渡す。Z2\n",
    "\n",
    "                #dZ = dZ2\n",
    "                #for l in reversed(range(1, len(layer_information)-1)):# 最初と最後をのぞいてループ\n",
    "                #    dA = self.activation_list[l].backward(A_list[l],dZ)#引数増やして渡す。A2\n",
    "                #    dZ = self.FC_list[l].backward(dA, Z_list[l-1])#引数増やして渡す。Z1\n",
    "                \n",
    "                # 値を引き渡すための変数\n",
    "                #dZ1 = dZ\n",
    "                #dA1 = self.activation_list[0].backward(A_list[0], dZ1)#引数増やして渡す。A1\n",
    "                #dZ0 = self.FC_list[0].backward(dA1, mini_X_train) # dZ0は使用しない #引数増やして渡す。X\n",
    "\n",
    "                \n",
    "                dA3, L = self.activation_list[2].backward(Z3, mini_y_train) # 交差エントロピー誤差とソフトマックスを合わせている\n",
    "                dZ2 = self.FC_list[2].backward(dA3, Z2)#引数増やして渡す。Z2\n",
    "                dA2 = self.activation_list[1].backward(A2,dZ2)#引数増やして渡す。A2\n",
    "                dZ1 = self.FC_list[1].backward(dA2, Z1)#引数増やして渡す。Z1\n",
    "                dA1 = self.activation_list[0].backward(A1, dZ1)#引数増やして渡す。A1\n",
    "                dZ0 = self.FC_list[0].backward(dA1, mini_X_train) # dZ0は使用しない #引数増やして渡す。X\n",
    "                \n",
    "            \"\"\"\n",
    "            Loss Curvを描くための処理\n",
    "            \"\"\"\n",
    "            L_list.append(L)\n",
    "            self.L_list = np.array(L_list) \n",
    "                \n",
    "        \n",
    "    def predict(self,X):\n",
    "\n",
    "        # 最初のZはXなので代入\n",
    "        #Z = X\n",
    "\n",
    "        # フォワード処理\n",
    "        #for l in range(self.layer):\n",
    "        #A = self.FC_list[l].forward(Z)\n",
    "        #    Z = self.activation_list[l].forward(A)\n",
    "            \n",
    "        #y = self.activation_list[-1].forward(A)\n",
    "        #pred = np.argmax(y, axis=1)\n",
    "        \n",
    "        A1 = self.FC_list[0].forward(X)\n",
    "        Z1 = self.activation_list[0].forward(A1)\n",
    "        A2 = self.FC_list[1].forward(Z1)\n",
    "        Z2 = self.activation_list[1].forward(A2)\n",
    "        A3 = self.FC_list[2].forward(Z2)\n",
    "        y = self.activation_list[2].forward(A3)\n",
    "        pred = np.argmax(y, axis=1)\n",
    "        \n",
    "        return pred"
   ]
  },
  {
   "cell_type": "code",
   "execution_count": 42,
   "metadata": {},
   "outputs": [],
   "source": [
    "class Conv1d_q8():\n",
    "    \"\"\"\n",
    "    ノード数n_nodes1からn_nodes2への全結合層\n",
    "    Parameters\n",
    "    ----------\n",
    "    n_nodes1 : int\n",
    "      前の層のノード数\n",
    "    n_nodes2 : int\n",
    "      後の層のノード数\n",
    "    initializer : 初期化方法のインスタンス\n",
    "    optimizer : 最適化手法のインスタンス\n",
    "    \"\"\"\n",
    "    def __init__(self, n_filter, n_channel, F, initializer, optimizer):\n",
    "        self.optimizer = optimizer\n",
    "        # 初期化\n",
    "        # initializerのメソッドを使い、self.Wとself.Bを初期化する\n",
    "        self.F = F\n",
    "        \n",
    "        #w(出力チャンネル数、入力チャンネル数、フィルタサイズ)\n",
    "        #b（出力チャンネル数）\n",
    "        \n",
    "        self.W = initializer.W(n_filter, n_channel, self.F)\n",
    "        self.B = initializer.B(n_filter)\n",
    "        \n",
    "        self.n_filter = n_filter\n",
    "        self.n_channel = n_channel\n",
    "    \n",
    "    def forward(self, X):\n",
    "        \"\"\"\n",
    "        フォワード\n",
    "        Parameters\n",
    "        ----------\n",
    "        X : 次の形のndarray, shape (batch_size, n_nodes1)\n",
    "            入力\n",
    "        Returns\n",
    "        ----------\n",
    "        A : 次の形のndarray, shape (batch_size, n_nodes2)\n",
    "            出力\n",
    "        \"\"\"\n",
    "        #x(入力チャンネル数、特徴量数)\n",
    "        self.X = X\n",
    "        \n",
    "        self.n_input=self.X.shape[1]#.shape[1]\n",
    "        \n",
    "        #F=3\n",
    "        stride=1\n",
    "        padding=0\n",
    "        self.n_output = self.output_size(self.n_input, self.F, P=padding, S=stride)\n",
    "        \n",
    "        A = np.empty((self.n_filter,self.n_output))\n",
    "        for f in range(self.n_filter):\n",
    "            for a_o in range(self.n_output):\n",
    "                A[f, a_o] = np.sum(X[:, a_o:a_o+self.F]*self.W[f])+self.B[f]\n",
    "   \n",
    "        self.A = A\n",
    "        \n",
    "        return self.A\n",
    "    \n",
    "    \n",
    "    def backward(self, dA, Z):#dA2, Z1\n",
    "        \"\"\"\n",
    "        バックワード\n",
    "        Parameters\n",
    "        ----------\n",
    "        dA : 次の形のndarray, shape (batch_size, n_nodes2)\n",
    "            後ろから流れてきた勾配\n",
    "        Returns\n",
    "        ----------\n",
    "        dZ : 次の形のndarray, shape (batch_size, n_nodes1)\n",
    "            前に流す勾配\n",
    "        \"\"\"\n",
    "        # 実際の処理においてはラベルは不要\n",
    "        \n",
    "        # 更新\n",
    "        self, dZ = self.optimizer.update(self, dA, self.X)\n",
    "        \n",
    "        return dZ\n",
    "    \n",
    "    def output_size(self, n_input, F, P=0, S=1):\n",
    "        \"\"\"\n",
    "        出力数数える\n",
    "        \"\"\"\n",
    "        n_output = int((n_input + 2*P - F)/S + 1)\n",
    "\n",
    "        return n_output\n",
    "                 "
   ]
  },
  {
   "cell_type": "code",
   "execution_count": 43,
   "metadata": {},
   "outputs": [],
   "source": [
    "class RenewalFormula_q8():\n",
    "    \"\"\"\n",
    "    確率的勾配降下法\n",
    "    Parameters\n",
    "    ----------\n",
    "    lr : 学習率\n",
    "    \"\"\"\n",
    "    def __init__(self, lr):\n",
    "        self.lr = lr\n",
    "        \n",
    "    def update(self, layer, dA, X):#Z3, Y, \n",
    "        \"\"\"\n",
    "        ある層の重みやバイアスの更新\n",
    "        Parameters\n",
    "        ----------\n",
    "        layer : 更新前の層のインスタンス\n",
    "        \"\"\"\n",
    "        dW_temp = []\n",
    "        for f in range(layer.n_filter):\n",
    "            dA_X = []\n",
    "            for i in range(layer.n_output):\n",
    "                dA_X.append(dA[f, i]*X[:, i:i+layer.F])    \n",
    "            dW_temp.append(dA_X)\n",
    "        \n",
    "        dW_temp = np.array(dW_temp)\n",
    "        \n",
    "        dW = []\n",
    "        for f in range(layer.n_filter):\n",
    "            dW_c = []\n",
    "            for c in range(layer.n_channel):\n",
    "                dW_dW = np.zeros(layer.F)\n",
    "                for i in range(layer.n_output):\n",
    "                    dW_dW += dW_temp[f, i, c, :]\n",
    "                dW_c.append(dW_dW)\n",
    "            dW.append(dW_c)\n",
    "        dW = np.array(dW)\n",
    "        \n",
    "        dB = np.sum(dA, axis=1)#, axis=0\n",
    "        \n",
    "        # X\n",
    "        dX=np.zeros(X.shape)#layer.n_channel, layer.n_input\n",
    "        for f in range(layer.n_filter):#チャネル\n",
    "            for i in range(layer.n_output):#９、１１\n",
    "                for c in range(layer.n_channel):#フィルタの選択\n",
    "                    dX[c, i:i+layer.F] += dA[f, i]*layer.W[f, c]\n",
    "        \n",
    "        layer.W = layer.W - self.lr*(dW)\n",
    "        layer.B = layer.B - self.lr*(dB)\n",
    "        \n",
    "        return (layer, dX)\n",
    "        "
   ]
  },
  {
   "cell_type": "code",
   "execution_count": 44,
   "metadata": {},
   "outputs": [],
   "source": [
    "class FC:\n",
    "    \"\"\"\n",
    "    ノード数n_nodes1からn_nodes2への全結合層\n",
    "    Parameters\n",
    "    ----------\n",
    "    n_nodes1 : int\n",
    "      前の層のノード数\n",
    "    n_nodes2 : int\n",
    "      後の層のノード数\n",
    "    initializer : 初期化方法のインスタンス\n",
    "    optimizer : 最適化手法のインスタンス\n",
    "    \"\"\"\n",
    "    def __init__(self, n_nodes1, n_nodes2, initializer, optimizer):\n",
    "        self.optimizer = optimizer\n",
    "        # 初期化\n",
    "        # initializerのメソッドを使い、self.Wとself.Bを初期化する\n",
    "        #【問題１】\n",
    "        self.W = initializer.W(n_nodes1, n_nodes2)\n",
    "        self.B = initializer.B(n_nodes2)\n",
    "    \n",
    "    \n",
    "    def forward(self, X):\n",
    "        \"\"\"\n",
    "        フォワード\n",
    "        Parameters\n",
    "        ----------\n",
    "        X : 次の形のndarray, shape (batch_size, n_nodes1)\n",
    "            入力\n",
    "        Returns\n",
    "        ----------\n",
    "        A : 次の形のndarray, shape (batch_size, n_nodes2)\n",
    "            出力\n",
    "        \"\"\"\n",
    "        #【問題１】\n",
    "        self.X = X\n",
    "        \n",
    "        #print(\"self.X: \\n{}\".format(self.X.shape))\n",
    "        #print(\"self.W: \\n{}\".format(self.W.shape))\n",
    "        #print(\"self.B.reshape(-1,1).T: \\n{}\".format(self.B.reshape(-1,1).T.shape))\n",
    "        A = self.X@self.W+self.B.reshape(-1,1).T\n",
    "        \n",
    "        return A\n",
    "    \n",
    "    \n",
    "    def backward(self, dA, Z):\n",
    "        \"\"\"\n",
    "        バックワード\n",
    "        Parameters\n",
    "        ----------\n",
    "        dA : 次の形のndarray, shape (batch_size, n_nodes2)\n",
    "            後ろから流れてきた勾配\n",
    "        Returns\n",
    "        ----------\n",
    "        dZ : 次の形のndarray, shape (batch_size, n_nodes1)\n",
    "            前に流す勾配\n",
    "        \"\"\"\n",
    "        # 更新\n",
    "        self, dZ = self.optimizer.update(self, dA, Z)\n",
    "        \n",
    "        return dZ"
   ]
  },
  {
   "cell_type": "code",
   "execution_count": 45,
   "metadata": {},
   "outputs": [],
   "source": [
    "class SimpleInitializerFC:\n",
    "    \"\"\"\n",
    "    ガウス分布によるシンプルな初期化\n",
    "    Parameters\n",
    "    ----------\n",
    "    sigma : float\n",
    "      ガウス分布の標準偏差\n",
    "    \"\"\"\n",
    "    def __init__(self, sigma):\n",
    "        self.sigma = sigma\n",
    "        \n",
    "    def W(self, n_nodes1, n_nodes2):\n",
    "        \"\"\"\n",
    "        重みの初期化\n",
    "        Parameters\n",
    "        ----------\n",
    "        n_nodes1 : int\n",
    "          前の層のノード数\n",
    "        n_nodes2 : int\n",
    "          後の層のノード数\n",
    "\n",
    "        Returns\n",
    "        ----------\n",
    "        W :\n",
    "        \"\"\"\n",
    "        #【問題2】\n",
    "        W = self.sigma * np.random.randn(n_nodes1, n_nodes2)\n",
    "        \n",
    "        return W\n",
    "    \n",
    "    \n",
    "    def B(self, n_nodes2):\n",
    "        \"\"\"\n",
    "        バイアスの初期化\n",
    "        Parameters\n",
    "        ----------\n",
    "        n_nodes2 : int\n",
    "          後の層のノード数\n",
    "\n",
    "        Returns\n",
    "        ----------\n",
    "        B :\n",
    "        \"\"\"\n",
    "        #【問題2】\n",
    "        B = self.sigma * np.random.randn(n_nodes2,)\n",
    "        \n",
    "        return B"
   ]
  },
  {
   "cell_type": "code",
   "execution_count": 46,
   "metadata": {},
   "outputs": [],
   "source": [
    "class SGD:\n",
    "    \"\"\"\n",
    "    確率的勾配降下法\n",
    "    Parameters\n",
    "    ----------\n",
    "    lr : 学習率\n",
    "    \"\"\"\n",
    "    def __init__(self, lr):\n",
    "        self.lr = lr\n",
    "        \n",
    "    def update(self, layer, dA, Z):#Z3, Y, \n",
    "        \"\"\"\n",
    "        ある層の重みやバイアスの更新\n",
    "        Parameters\n",
    "        ----------\n",
    "        layer : 更新前の層のインスタンス\n",
    "        \"\"\"\n",
    "        #dL_dA3 = Z3 - Y\n",
    "        dB = np.sum(dA, axis=0)#バッチサイズ分の合計\n",
    "        dW = Z.T@dA\n",
    "        \n",
    "        dZ = dA@layer.W.T\n",
    "        \n",
    "        #【問題3】\n",
    "        layer.W = layer.W - self.lr*(dW)\n",
    "        layer.B = layer.B - self.lr*(dB)\n",
    "        \n",
    "        return (layer, dZ)\n",
    "        "
   ]
  },
  {
   "cell_type": "code",
   "execution_count": 47,
   "metadata": {},
   "outputs": [],
   "source": [
    "class Softmax():\n",
    "    \"\"\"\n",
    "    活性化関数（シグモイド関数）のクラス\n",
    "\n",
    "    Attributes\n",
    "    ----------\n",
    "    \"\"\"\n",
    "    def forward(self, X):\n",
    "        \"\"\"\n",
    "        準伝播用\n",
    "\n",
    "        Parameters\n",
    "        ----------\n",
    "        X : 次の形のndarray, shape (n_samples, n_features)\n",
    "            訓練データ\n",
    "        \"\"\"\n",
    "        Z = np.exp(X)/(np.sum(np.exp(X), axis=1).reshape(-1,1))\n",
    "        \n",
    "        return Z\n",
    "    \n",
    "\n",
    "    def backward(self, X, y):\n",
    "        \"\"\"\n",
    "        逆伝播用\n",
    "        Parameters\n",
    "        ----------\n",
    "        X : 次の形のndarray, shape (n_samples, n_features)\n",
    "            訓練データ\n",
    "        \"\"\"\n",
    "        dA =X - y\n",
    "        \n",
    "        # 目的関数（損失関数）　交差エントロピー誤差\n",
    "        nb = y.shape[0]#バッチサイズ\n",
    "        L = -(1/nb)*(np.sum(y*np.log(X)))\n",
    "        \n",
    "        return (dA, L)"
   ]
  },
  {
   "cell_type": "code",
   "execution_count": 48,
   "metadata": {},
   "outputs": [],
   "source": [
    "class Tanh():\n",
    "    \"\"\"\n",
    "    活性化関数（シグモイド関数）のクラス\n",
    "\n",
    "    Attributes\n",
    "    ----------\n",
    "    \"\"\"\n",
    "    def forward(self, X):\n",
    "        \"\"\"\n",
    "        準伝播用\n",
    "\n",
    "        Parameters\n",
    "        ----------\n",
    "        X : 次の形のndarray, shape (n_samples, n_features)\n",
    "            訓練データ\n",
    "        \"\"\"\n",
    "        Z = np.tanh(X)\n",
    "        \n",
    "        return Z\n",
    "    \n",
    "\n",
    "    def backward(self, X, dZ):\n",
    "        \"\"\"\n",
    "        逆伝播用\n",
    "\n",
    "        Parameters\n",
    "        ----------\n",
    "        X : 次の形のndarray, shape (n_samples, n_features)\n",
    "            訓練データ\n",
    "        \"\"\"\n",
    "        dA = dZ*(1 - np.tanh(X)**2)\n",
    "        \n",
    "        return dA"
   ]
  },
  {
   "cell_type": "markdown",
   "metadata": {},
   "source": [
    "DNNの第１層、および第２層をCNNに変更。    \n",
    "- 第１層\n",
    "    - 出力チャンネル（フィルタ数） = ３\n",
    "    - 入力チャンネル = 1（白黒）\n",
    "- 第２層\n",
    "    - 出力チャンネル（フィルタ数） = 1\n",
    "    - 入力チャンネル = 3（第１層のフィルタ数）\n",
    "- バッチ数\n",
    "    - 1"
   ]
  },
  {
   "cell_type": "code",
   "execution_count": 49,
   "metadata": {},
   "outputs": [],
   "source": [
    "# Tanh, Sigmoid, ReLU\n",
    "# SGD, AdaGrad\n",
    "# SimpleInitializer, XavierInitializer、HeInitializer\n",
    "# CNN, FC\n",
    "# n_filter, n_channel, \n",
    "\n",
    "layer_information = [['RenewalFormula','Tanh',3,1,'SimpleInitializer', 'CNN'], # 第１層\n",
    "                                   ['RenewalFormula','Tanh',1,3,'SimpleInitializer', 'CNN'], # 第2層\n",
    "                                   ['SGD','Softmax',780,10,'SimpleInitializer', 'FC'], # 第3層\n",
    "                                  ]"
   ]
  },
  {
   "cell_type": "code",
   "execution_count": 50,
   "metadata": {},
   "outputs": [],
   "source": [
    "DNN = ScratchDeepNeuralNetrowkClassifier(lr=0.01, sigma=0.01)\n",
    "DNN.fit(X_train[0:1000,:], #X_train[0:20,:]\n",
    "                y_train[0:1000], #y_train[0:20,:]\n",
    "                layer_information,\n",
    "                epoch=5, \n",
    "                batch_size=1\n",
    "               )"
   ]
  },
  {
   "cell_type": "code",
   "execution_count": 51,
   "metadata": {},
   "outputs": [
    {
     "data": {
      "text/plain": [
       "[<__main__.Conv1d_q8 at 0x7fd842f60b50>,\n",
       " <__main__.Conv1d_q8 at 0x7fd842f60c90>,\n",
       " <__main__.FC at 0x7fd842f60d50>]"
      ]
     },
     "execution_count": 51,
     "metadata": {},
     "output_type": "execute_result"
    }
   ],
   "source": [
    "DNN.FC_list"
   ]
  },
  {
   "cell_type": "code",
   "execution_count": 52,
   "metadata": {},
   "outputs": [
    {
     "data": {
      "text/plain": [
       "[<__main__.Tanh at 0x7fd842f60b90>,\n",
       " <__main__.Tanh at 0x7fd842f60c50>,\n",
       " <__main__.Softmax at 0x7fd842f4fd50>]"
      ]
     },
     "execution_count": 52,
     "metadata": {},
     "output_type": "execute_result"
    }
   ],
   "source": [
    "DNN.activation_list"
   ]
  },
  {
   "cell_type": "code",
   "execution_count": 53,
   "metadata": {},
   "outputs": [],
   "source": [
    "from sklearn.metrics import accuracy_score"
   ]
  },
  {
   "cell_type": "code",
   "execution_count": 59,
   "metadata": {},
   "outputs": [
    {
     "name": "stdout",
     "output_type": "stream",
     "text": [
      "推定結果： [6]\n",
      "accuracy_score： 1.0\n",
      "推定結果： [9]\n",
      "accuracy_score： 1.0\n",
      "推定結果： [2]\n",
      "accuracy_score： 1.0\n",
      "推定結果： [1]\n",
      "accuracy_score： 1.0\n",
      "推定結果： [0]\n",
      "accuracy_score： 1.0\n",
      "推定結果： [6]\n",
      "accuracy_score： 1.0\n",
      "推定結果： [3]\n",
      "accuracy_score： 1.0\n",
      "推定結果： [0]\n",
      "accuracy_score： 1.0\n",
      "推定結果： [7]\n",
      "accuracy_score： 1.0\n",
      "推定結果： [0]\n",
      "accuracy_score： 1.0\n"
     ]
    }
   ],
   "source": [
    "for i in range(10):\n",
    "    y_pred = DNN.predict(X_val[i:i+1,:])\n",
    "    print(\"推定結果： {}\".format(y_pred))\n",
    "    acc = accuracy_score(y_test_decode[i:i+1], y_pred)\n",
    "    print(\"accuracy_score： {}\".format(acc))    "
   ]
  },
  {
   "cell_type": "markdown",
   "metadata": {},
   "source": [
    "以上"
   ]
  }
 ],
 "metadata": {
  "kernelspec": {
   "display_name": "Python 3",
   "language": "python",
   "name": "python3"
  },
  "language_info": {
   "codemirror_mode": {
    "name": "ipython",
    "version": 3
   },
   "file_extension": ".py",
   "mimetype": "text/x-python",
   "name": "python",
   "nbconvert_exporter": "python",
   "pygments_lexer": "ipython3",
   "version": "3.7.6"
  }
 },
 "nbformat": 4,
 "nbformat_minor": 4
}
